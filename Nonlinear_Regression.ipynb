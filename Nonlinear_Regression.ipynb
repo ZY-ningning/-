{
 "cells": [
  {
   "cell_type": "markdown",
   "metadata": {},
   "source": [
    "# 逻辑回归案例"
   ]
  },
  {
   "cell_type": "code",
   "execution_count": 20,
   "metadata": {},
   "outputs": [],
   "source": [
    "%matplotlib inline\n",
    "import matplotlib.pyplot as plt\n",
    "import numpy as np\n",
    "import pandas as pd\n",
    "import seaborn as sns\n",
    "# 作图包\n",
    "import os\n",
    "# 路径相关包\n",
    "import statsmodels.api as sm\n",
    "# 统计模型包"
   ]
  },
  {
   "cell_type": "markdown",
   "metadata": {},
   "source": [
    "## 乳腺癌检测"
   ]
  },
  {
   "cell_type": "markdown",
   "metadata": {},
   "source": [
    "#### 使用scikit-learn自带的乳腺癌数据集"
   ]
  },
  {
   "cell_type": "markdown",
   "metadata": {},
   "source": [
    "载入乳腺癌检测数据集:569个观测,30个数值型预测变量以及对应的分类(响应变量),所有的变量都是从足够多数量的良性和恶性的肿瘤病灶造影图片得到的. \n",
    "\n",
    "属性信息:\n",
    "\n",
    "- radius:半径,病灶中心点离边界的平均距离\n",
    "- texture:纹理,灰度值的标准差\n",
    "- perimeter:周长,病灶大小\n",
    "- area:面积,病灶大小\n",
    "- smoothness:平滑度,半径长度的变异\n",
    "- compactness:密实度,周长平方除以面积值减1,$perimeter^2/area-1.0$\n",
    "- concavity:凹度,凹陷部分轮廓的严重程度\n",
    "- concave points:凹点,凹陷轮廓的数量\n",
    "- symmetry:对称性\n",
    "- fractal dimension:分形维度\n",
    "\n",
    "每个属性的均值,标准误,最差值(最大值)计算得到30个特征\n",
    "\n",
    "对应212个恶性(Malignant),357个良性(Benign)"
   ]
  },
  {
   "cell_type": "code",
   "execution_count": 21,
   "metadata": {},
   "outputs": [],
   "source": [
    "from sklearn.datasets import load_breast_cancer\n",
    "cancer = load_breast_cancer()\n",
    "X = cancer.data\n",
    "y = cancer.target\n",
    "# 将数据的自变量给X,因变量给y"
   ]
  },
  {
   "cell_type": "code",
   "execution_count": 22,
   "metadata": {},
   "outputs": [
    {
     "data": {
      "text/plain": [
       "array(['mean radius', 'mean texture', 'mean perimeter', 'mean area',\n",
       "       'mean smoothness', 'mean compactness', 'mean concavity',\n",
       "       'mean concave points', 'mean symmetry', 'mean fractal dimension',\n",
       "       'radius error', 'texture error', 'perimeter error', 'area error',\n",
       "       'smoothness error', 'compactness error', 'concavity error',\n",
       "       'concave points error', 'symmetry error',\n",
       "       'fractal dimension error', 'worst radius', 'worst texture',\n",
       "       'worst perimeter', 'worst area', 'worst smoothness',\n",
       "       'worst compactness', 'worst concavity', 'worst concave points',\n",
       "       'worst symmetry', 'worst fractal dimension'], dtype='<U23')"
      ]
     },
     "execution_count": 22,
     "metadata": {},
     "output_type": "execute_result"
    }
   ],
   "source": [
    "cancer.feature_names\n",
    "# 查看数据列名"
   ]
  },
  {
   "cell_type": "code",
   "execution_count": 23,
   "metadata": {
    "scrolled": true
   },
   "outputs": [
    {
     "name": "stdout",
     "output_type": "stream",
     "text": [
      "data shape: (569, 30); class frequency: {1: 357, 0: 212}\n"
     ]
    }
   ],
   "source": [
    "print(f\"data shape: {X.shape}; class frequency: {dict(pd.Series(y).value_counts())}\")\n",
    "# 打印数据的行列数,查看y各个取值的频数"
   ]
  },
  {
   "cell_type": "markdown",
   "metadata": {},
   "source": [
    "- pd.value_counts():查看所有值的频数,输入数组,返回series"
   ]
  },
  {
   "cell_type": "markdown",
   "metadata": {},
   "source": [
    "#### 分训练和测试集:"
   ]
  },
  {
   "cell_type": "code",
   "execution_count": 24,
   "metadata": {},
   "outputs": [],
   "source": [
    "from sklearn.model_selection import train_test_split\n",
    "X_train, X_test, y_train, y_test = train_test_split(\n",
    "    X,y,test_size=0.3,random_state=1221)\n",
    "# 按照7,3分训练和测试集,设置种子为1221"
   ]
  },
  {
   "cell_type": "markdown",
   "metadata": {},
   "source": [
    "#### 模型训练:"
   ]
  },
  {
   "cell_type": "code",
   "execution_count": 25,
   "metadata": {
    "scrolled": true
   },
   "outputs": [
    {
     "name": "stdout",
     "output_type": "stream",
     "text": [
      "train accuracy: 0.9849; test accuracy: 0.959064\n",
      "model coefficient:\n",
      "[[ 1.17432604e+00  1.08147802e-01  2.86824510e-02 -1.44750386e-02\n",
      "   0.00000000e+00  0.00000000e+00  0.00000000e+00  0.00000000e+00\n",
      "   0.00000000e+00  0.00000000e+00  0.00000000e+00  4.08835691e+00\n",
      "  -1.27865937e+00 -9.99466892e-02  0.00000000e+00  0.00000000e+00\n",
      "   0.00000000e+00  0.00000000e+00  0.00000000e+00  0.00000000e+00\n",
      "   4.48745555e-01 -6.33511497e-01  2.91601896e-01 -3.37337142e-02\n",
      "   0.00000000e+00  0.00000000e+00 -7.16813901e+00 -3.59608028e+01\n",
      "  -1.60074443e+01  0.00000000e+00]];\n",
      "model intercept:\n",
      "[6.68450933]\n"
     ]
    }
   ],
   "source": [
    "from sklearn.linear_model import LogisticRegression\n",
    "model = LogisticRegression(solver=\"liblinear\",C=10,penalty=\"l1\",max_iter=1000)\n",
    "# 这里使用lasso回归,C表示正则化强度的负值\n",
    "model.fit(X_train,y_train)\n",
    "# 用训练数据拟合模型\n",
    "train_score = model.score(X_train,y_train)\n",
    "# 训练数据得分\n",
    "test_score = model.score(X_test,y_test)\n",
    "# 测试数据得分\n",
    "print(f\"train accuracy: {train_score:.4f}; test accuracy: {test_score:.6f}\")\n",
    "# 打印份数\n",
    "print(f\"\"\"model coefficient:\n",
    "{model.coef_};\n",
    "model intercept:\n",
    "{model.intercept_}\"\"\")\n",
    "# 打印系数"
   ]
  },
  {
   "cell_type": "markdown",
   "metadata": {},
   "source": [
    "LogisticRegression:逻辑回归参数:\n",
    "\n",
    "- solver:表示求参方法,有'newton-cg','lbfgs','liblinear','sag','saga'\n",
    "    - 小数据集选liblinear,大数据集sag和saga快一些\n",
    "    - liblinear支持L1和L2正则化项,'newton-cg','sag','lbfgs'仅支持L2正则化项\n",
    "- C:正则化强度取负值,必须是正实数,默认0.1,值越小,减得越少,正则化强度越强\n",
    "- penalty:\"l1\"表示加\"l1\"惩罚项,即lasso回归,\"l2\"表示岭回归\n",
    "- max_iter:迭代次数的上限,用于算法收敛"
   ]
  },
  {
   "cell_type": "markdown",
   "metadata": {},
   "source": [
    "#### 样本预测:"
   ]
  },
  {
   "cell_type": "code",
   "execution_count": 26,
   "metadata": {},
   "outputs": [
    {
     "name": "stdout",
     "output_type": "stream",
     "text": [
      "predicted value: [1 1 0 1 0 0 0 1 0 1]\n",
      "predicted probability: [9.99986891e-01 9.98183063e-01 1.67422845e-07 9.78688047e-01\n",
      " 4.48581430e-20 7.67361820e-02 9.15434386e-05 9.99917290e-01\n",
      " 3.25523295e-05 9.96565663e-01]\n"
     ]
    }
   ],
   "source": [
    "y_pred = model.predict(X_test)\n",
    "# 1,0结果\n",
    "y_pred_prob = model.predict_proba(X_test)[:,1]\n",
    "# 预测为1的概率(得到两列预测概率,分别是预测为0和1的,这里取第二列)\n",
    "print(f\"\"\"predicted value: {y_pred[:10]}\n",
    "predicted probability: {y_pred_prob[:10]}\"\"\")\n",
    "# 打印前十行数据的预测结果"
   ]
  },
  {
   "cell_type": "markdown",
   "metadata": {},
   "source": [
    "对于分类变量的预测:\n",
    "\n",
    "- model.predict():直接预测得到分类结果\n",
    "- model.predict_proba:预测得到每个分类的概率,这里第一列是0的概率,第二列是1的概率"
   ]
  },
  {
   "cell_type": "markdown",
   "metadata": {},
   "source": [
    "#### 加入高次项和交叉项"
   ]
  },
  {
   "cell_type": "code",
   "execution_count": 28,
   "metadata": {},
   "outputs": [],
   "source": [
    "from sklearn.preprocessing import PolynomialFeatures\n",
    "from sklearn.pipeline import Pipeline\n",
    "def polynomial_model(degree=1,**kwarg):\n",
    "    polynomial_features = PolynomialFeatures(degree = degree,\n",
    "                                            include_bias = False)\n",
    "    # 加入高次项和交互项\n",
    "    logistic_regression = LogisticRegression(**kwarg)\n",
    "    # 逻辑回归,通过**kwarg传递参数\n",
    "    pipeline = Pipeline([(\"polynomial_features\",polynomial_features),\n",
    "                        (\"logistic_regression\",logistic_regression)])\n",
    "    # 创建管道,即结合多项式和逻辑回归\n",
    "    return pipeline"
   ]
  },
  {
   "cell_type": "markdown",
   "metadata": {},
   "source": [
    "- PolynomialFeatures:创建高次项和交互项\n",
    "    - degree: 多项式项数,默认为2\n",
    "    - interaction_only: 是否仅包含交互项不包含高次项,默认False\n",
    "    - include_bias: 是否包含截距项,默认True\n",
    "- Pipeline: 变换的管道和最终的估计,一个Pipeline可以包含多个处理结点,最后一个结点只需要实现fit()方法,其他结点必须实现fit()和transform()方法,从前往后依次调用.可以通过修改每个结点的参数,使用.set_params(),设置参数书写格式为: 结点名__参数名=给定值"
   ]
  },
  {
   "cell_type": "markdown",
   "metadata": {},
   "source": [
    "使用二阶多项式和交互项,L1正则化项来构建逻辑回归"
   ]
  },
  {
   "cell_type": "code",
   "execution_count": 31,
   "metadata": {},
   "outputs": [
    {
     "data": {
      "text/plain": [
       "Pipeline(memory=None,\n",
       "     steps=[('polynomial_features', PolynomialFeatures(degree=2, include_bias=False, interaction_only=False)), ('logistic_regression', LogisticRegression(C=0.1, class_weight=None, dual=False, fit_intercept=True,\n",
       "          intercept_scaling=1, max_iter=100, multi_class='warn',\n",
       "          n_jobs=None, penalty='l1', random_state=None, solver='liblinear',\n",
       "          tol=0.0001, verbose=0, warm_start=False))])"
      ]
     },
     "execution_count": 31,
     "metadata": {},
     "output_type": "execute_result"
    }
   ],
   "source": [
    "model = polynomial_model(degree=2,penalty=\"l1\",solver=\"liblinear\",C=0.1)\n",
    "# 通过之前的函数构建逻辑回归\n",
    "model.fit(X_train,y_train)\n",
    "# 回归模型拟合训练数据"
   ]
  },
  {
   "cell_type": "markdown",
   "metadata": {},
   "source": [
    "加入各项后,查看L1正则化后的有效特征数"
   ]
  },
  {
   "cell_type": "code",
   "execution_count": 32,
   "metadata": {},
   "outputs": [
    {
     "name": "stdout",
     "output_type": "stream",
     "text": [
      "model parameters shape: 495;\n",
      "after regularization: 49\n"
     ]
    }
   ],
   "source": [
    "lg_model = model.named_steps[\"logistic_regression\"]\n",
    "# 抽取模型中的逻辑回归\n",
    "print(f\"\"\"model parameters shape: {lg_model.coef_.shape[1]};\n",
    "after regularization: {np.count_nonzero(lg_model.coef_)}\"\"\")\n",
    "# 打印逻辑回归总的系数个数,以及去掉零值后的系数个数.\n",
    "# 这里生成的值为0的系数是由于lasso回归对系数压缩造成的"
   ]
  },
  {
   "cell_type": "markdown",
   "metadata": {},
   "source": [
    "查看表现"
   ]
  },
  {
   "cell_type": "code",
   "execution_count": 33,
   "metadata": {},
   "outputs": [
    {
     "name": "stdout",
     "output_type": "stream",
     "text": [
      "train accuracy: 0.9975; test accuracy: 0.970760\n"
     ]
    }
   ],
   "source": [
    "train_score = model.score(X_train,y_train)\n",
    "# 训练集准确率\n",
    "test_score = model.score(X_test,y_test)\n",
    "# 测试集准确率\n",
    "print(f\"train accuracy: {train_score:.4f}; test accuracy: {test_score:.6f}\")\n",
    "# 打印结果"
   ]
  },
  {
   "cell_type": "markdown",
   "metadata": {},
   "source": [
    "# 银行市场推广"
   ]
  },
  {
   "cell_type": "markdown",
   "metadata": {},
   "source": [
    "### 银行完整数据"
   ]
  },
  {
   "cell_type": "markdown",
   "metadata": {},
   "source": [
    "数据来自[UCI Machine Learning repository](https://archive.ics.uci.edu/ml/datasets/bank+marketing),是葡萄牙银行机构市场推广相关数据,手段主要是电话推广,多次与同一客户电话沟通,目的是判断用户是否会订购相关产品(定期存款),数据可以从[这里](https://raw.githubusercontent.com/madmashup/targeted-marketing-predictive-engine/master/banking.csv)下载"
   ]
  },
  {
   "cell_type": "code",
   "execution_count": 35,
   "metadata": {},
   "outputs": [],
   "source": [
    "os.chdir(\"D:/data/python\")\n",
    "# 设置工作路径\n",
    "bank = pd.read_csv(\"bank-additional-full.csv\",header=0,sep=\";\")\n",
    "# 读取数据,header=0表示第一行是表头,sep=\";\"表示数据中分隔符是分号"
   ]
  },
  {
   "cell_type": "code",
   "execution_count": 36,
   "metadata": {},
   "outputs": [
    {
     "name": "stdout",
     "output_type": "stream",
     "text": [
      "bank shape: (41188, 21); class frequency: {'no': 36548, 'yes': 4640}\n"
     ]
    },
    {
     "data": {
      "text/html": [
       "<div>\n",
       "<style scoped>\n",
       "    .dataframe tbody tr th:only-of-type {\n",
       "        vertical-align: middle;\n",
       "    }\n",
       "\n",
       "    .dataframe tbody tr th {\n",
       "        vertical-align: top;\n",
       "    }\n",
       "\n",
       "    .dataframe thead th {\n",
       "        text-align: right;\n",
       "    }\n",
       "</style>\n",
       "<table border=\"1\" class=\"dataframe\">\n",
       "  <thead>\n",
       "    <tr style=\"text-align: right;\">\n",
       "      <th></th>\n",
       "      <th>age</th>\n",
       "      <th>job</th>\n",
       "      <th>marital</th>\n",
       "      <th>education</th>\n",
       "      <th>default</th>\n",
       "      <th>housing</th>\n",
       "      <th>loan</th>\n",
       "      <th>contact</th>\n",
       "      <th>month</th>\n",
       "      <th>day_of_week</th>\n",
       "      <th>...</th>\n",
       "      <th>campaign</th>\n",
       "      <th>pdays</th>\n",
       "      <th>previous</th>\n",
       "      <th>poutcome</th>\n",
       "      <th>emp.var.rate</th>\n",
       "      <th>cons.price.idx</th>\n",
       "      <th>cons.conf.idx</th>\n",
       "      <th>euribor3m</th>\n",
       "      <th>nr.employed</th>\n",
       "      <th>y</th>\n",
       "    </tr>\n",
       "  </thead>\n",
       "  <tbody>\n",
       "    <tr>\n",
       "      <th>count</th>\n",
       "      <td>41188.00000</td>\n",
       "      <td>41188</td>\n",
       "      <td>41188</td>\n",
       "      <td>41188</td>\n",
       "      <td>41188</td>\n",
       "      <td>41188</td>\n",
       "      <td>41188</td>\n",
       "      <td>41188</td>\n",
       "      <td>41188</td>\n",
       "      <td>41188</td>\n",
       "      <td>...</td>\n",
       "      <td>41188.000000</td>\n",
       "      <td>41188.000000</td>\n",
       "      <td>41188.000000</td>\n",
       "      <td>41188</td>\n",
       "      <td>41188.000000</td>\n",
       "      <td>41188.000000</td>\n",
       "      <td>41188.000000</td>\n",
       "      <td>41188.000000</td>\n",
       "      <td>41188.000000</td>\n",
       "      <td>41188</td>\n",
       "    </tr>\n",
       "    <tr>\n",
       "      <th>unique</th>\n",
       "      <td>NaN</td>\n",
       "      <td>12</td>\n",
       "      <td>4</td>\n",
       "      <td>8</td>\n",
       "      <td>3</td>\n",
       "      <td>3</td>\n",
       "      <td>3</td>\n",
       "      <td>2</td>\n",
       "      <td>10</td>\n",
       "      <td>5</td>\n",
       "      <td>...</td>\n",
       "      <td>NaN</td>\n",
       "      <td>NaN</td>\n",
       "      <td>NaN</td>\n",
       "      <td>3</td>\n",
       "      <td>NaN</td>\n",
       "      <td>NaN</td>\n",
       "      <td>NaN</td>\n",
       "      <td>NaN</td>\n",
       "      <td>NaN</td>\n",
       "      <td>2</td>\n",
       "    </tr>\n",
       "    <tr>\n",
       "      <th>top</th>\n",
       "      <td>NaN</td>\n",
       "      <td>admin.</td>\n",
       "      <td>married</td>\n",
       "      <td>university.degree</td>\n",
       "      <td>no</td>\n",
       "      <td>yes</td>\n",
       "      <td>no</td>\n",
       "      <td>cellular</td>\n",
       "      <td>may</td>\n",
       "      <td>thu</td>\n",
       "      <td>...</td>\n",
       "      <td>NaN</td>\n",
       "      <td>NaN</td>\n",
       "      <td>NaN</td>\n",
       "      <td>nonexistent</td>\n",
       "      <td>NaN</td>\n",
       "      <td>NaN</td>\n",
       "      <td>NaN</td>\n",
       "      <td>NaN</td>\n",
       "      <td>NaN</td>\n",
       "      <td>no</td>\n",
       "    </tr>\n",
       "    <tr>\n",
       "      <th>freq</th>\n",
       "      <td>NaN</td>\n",
       "      <td>10422</td>\n",
       "      <td>24928</td>\n",
       "      <td>12168</td>\n",
       "      <td>32588</td>\n",
       "      <td>21576</td>\n",
       "      <td>33950</td>\n",
       "      <td>26144</td>\n",
       "      <td>13769</td>\n",
       "      <td>8623</td>\n",
       "      <td>...</td>\n",
       "      <td>NaN</td>\n",
       "      <td>NaN</td>\n",
       "      <td>NaN</td>\n",
       "      <td>35563</td>\n",
       "      <td>NaN</td>\n",
       "      <td>NaN</td>\n",
       "      <td>NaN</td>\n",
       "      <td>NaN</td>\n",
       "      <td>NaN</td>\n",
       "      <td>36548</td>\n",
       "    </tr>\n",
       "    <tr>\n",
       "      <th>mean</th>\n",
       "      <td>40.02406</td>\n",
       "      <td>NaN</td>\n",
       "      <td>NaN</td>\n",
       "      <td>NaN</td>\n",
       "      <td>NaN</td>\n",
       "      <td>NaN</td>\n",
       "      <td>NaN</td>\n",
       "      <td>NaN</td>\n",
       "      <td>NaN</td>\n",
       "      <td>NaN</td>\n",
       "      <td>...</td>\n",
       "      <td>2.567593</td>\n",
       "      <td>962.475454</td>\n",
       "      <td>0.172963</td>\n",
       "      <td>NaN</td>\n",
       "      <td>0.081886</td>\n",
       "      <td>93.575664</td>\n",
       "      <td>-40.502600</td>\n",
       "      <td>3.621291</td>\n",
       "      <td>5167.035911</td>\n",
       "      <td>NaN</td>\n",
       "    </tr>\n",
       "    <tr>\n",
       "      <th>std</th>\n",
       "      <td>10.42125</td>\n",
       "      <td>NaN</td>\n",
       "      <td>NaN</td>\n",
       "      <td>NaN</td>\n",
       "      <td>NaN</td>\n",
       "      <td>NaN</td>\n",
       "      <td>NaN</td>\n",
       "      <td>NaN</td>\n",
       "      <td>NaN</td>\n",
       "      <td>NaN</td>\n",
       "      <td>...</td>\n",
       "      <td>2.770014</td>\n",
       "      <td>186.910907</td>\n",
       "      <td>0.494901</td>\n",
       "      <td>NaN</td>\n",
       "      <td>1.570960</td>\n",
       "      <td>0.578840</td>\n",
       "      <td>4.628198</td>\n",
       "      <td>1.734447</td>\n",
       "      <td>72.251528</td>\n",
       "      <td>NaN</td>\n",
       "    </tr>\n",
       "    <tr>\n",
       "      <th>min</th>\n",
       "      <td>17.00000</td>\n",
       "      <td>NaN</td>\n",
       "      <td>NaN</td>\n",
       "      <td>NaN</td>\n",
       "      <td>NaN</td>\n",
       "      <td>NaN</td>\n",
       "      <td>NaN</td>\n",
       "      <td>NaN</td>\n",
       "      <td>NaN</td>\n",
       "      <td>NaN</td>\n",
       "      <td>...</td>\n",
       "      <td>1.000000</td>\n",
       "      <td>0.000000</td>\n",
       "      <td>0.000000</td>\n",
       "      <td>NaN</td>\n",
       "      <td>-3.400000</td>\n",
       "      <td>92.201000</td>\n",
       "      <td>-50.800000</td>\n",
       "      <td>0.634000</td>\n",
       "      <td>4963.600000</td>\n",
       "      <td>NaN</td>\n",
       "    </tr>\n",
       "    <tr>\n",
       "      <th>25%</th>\n",
       "      <td>32.00000</td>\n",
       "      <td>NaN</td>\n",
       "      <td>NaN</td>\n",
       "      <td>NaN</td>\n",
       "      <td>NaN</td>\n",
       "      <td>NaN</td>\n",
       "      <td>NaN</td>\n",
       "      <td>NaN</td>\n",
       "      <td>NaN</td>\n",
       "      <td>NaN</td>\n",
       "      <td>...</td>\n",
       "      <td>1.000000</td>\n",
       "      <td>999.000000</td>\n",
       "      <td>0.000000</td>\n",
       "      <td>NaN</td>\n",
       "      <td>-1.800000</td>\n",
       "      <td>93.075000</td>\n",
       "      <td>-42.700000</td>\n",
       "      <td>1.344000</td>\n",
       "      <td>5099.100000</td>\n",
       "      <td>NaN</td>\n",
       "    </tr>\n",
       "    <tr>\n",
       "      <th>50%</th>\n",
       "      <td>38.00000</td>\n",
       "      <td>NaN</td>\n",
       "      <td>NaN</td>\n",
       "      <td>NaN</td>\n",
       "      <td>NaN</td>\n",
       "      <td>NaN</td>\n",
       "      <td>NaN</td>\n",
       "      <td>NaN</td>\n",
       "      <td>NaN</td>\n",
       "      <td>NaN</td>\n",
       "      <td>...</td>\n",
       "      <td>2.000000</td>\n",
       "      <td>999.000000</td>\n",
       "      <td>0.000000</td>\n",
       "      <td>NaN</td>\n",
       "      <td>1.100000</td>\n",
       "      <td>93.749000</td>\n",
       "      <td>-41.800000</td>\n",
       "      <td>4.857000</td>\n",
       "      <td>5191.000000</td>\n",
       "      <td>NaN</td>\n",
       "    </tr>\n",
       "    <tr>\n",
       "      <th>75%</th>\n",
       "      <td>47.00000</td>\n",
       "      <td>NaN</td>\n",
       "      <td>NaN</td>\n",
       "      <td>NaN</td>\n",
       "      <td>NaN</td>\n",
       "      <td>NaN</td>\n",
       "      <td>NaN</td>\n",
       "      <td>NaN</td>\n",
       "      <td>NaN</td>\n",
       "      <td>NaN</td>\n",
       "      <td>...</td>\n",
       "      <td>3.000000</td>\n",
       "      <td>999.000000</td>\n",
       "      <td>0.000000</td>\n",
       "      <td>NaN</td>\n",
       "      <td>1.400000</td>\n",
       "      <td>93.994000</td>\n",
       "      <td>-36.400000</td>\n",
       "      <td>4.961000</td>\n",
       "      <td>5228.100000</td>\n",
       "      <td>NaN</td>\n",
       "    </tr>\n",
       "    <tr>\n",
       "      <th>max</th>\n",
       "      <td>98.00000</td>\n",
       "      <td>NaN</td>\n",
       "      <td>NaN</td>\n",
       "      <td>NaN</td>\n",
       "      <td>NaN</td>\n",
       "      <td>NaN</td>\n",
       "      <td>NaN</td>\n",
       "      <td>NaN</td>\n",
       "      <td>NaN</td>\n",
       "      <td>NaN</td>\n",
       "      <td>...</td>\n",
       "      <td>56.000000</td>\n",
       "      <td>999.000000</td>\n",
       "      <td>7.000000</td>\n",
       "      <td>NaN</td>\n",
       "      <td>1.400000</td>\n",
       "      <td>94.767000</td>\n",
       "      <td>-26.900000</td>\n",
       "      <td>5.045000</td>\n",
       "      <td>5228.100000</td>\n",
       "      <td>NaN</td>\n",
       "    </tr>\n",
       "  </tbody>\n",
       "</table>\n",
       "<p>11 rows × 21 columns</p>\n",
       "</div>"
      ],
      "text/plain": [
       "                age     job  marital          education default housing  \\\n",
       "count   41188.00000   41188    41188              41188   41188   41188   \n",
       "unique          NaN      12        4                  8       3       3   \n",
       "top             NaN  admin.  married  university.degree      no     yes   \n",
       "freq            NaN   10422    24928              12168   32588   21576   \n",
       "mean       40.02406     NaN      NaN                NaN     NaN     NaN   \n",
       "std        10.42125     NaN      NaN                NaN     NaN     NaN   \n",
       "min        17.00000     NaN      NaN                NaN     NaN     NaN   \n",
       "25%        32.00000     NaN      NaN                NaN     NaN     NaN   \n",
       "50%        38.00000     NaN      NaN                NaN     NaN     NaN   \n",
       "75%        47.00000     NaN      NaN                NaN     NaN     NaN   \n",
       "max        98.00000     NaN      NaN                NaN     NaN     NaN   \n",
       "\n",
       "         loan   contact  month day_of_week  ...        campaign         pdays  \\\n",
       "count   41188     41188  41188       41188  ...    41188.000000  41188.000000   \n",
       "unique      3         2     10           5  ...             NaN           NaN   \n",
       "top        no  cellular    may         thu  ...             NaN           NaN   \n",
       "freq    33950     26144  13769        8623  ...             NaN           NaN   \n",
       "mean      NaN       NaN    NaN         NaN  ...        2.567593    962.475454   \n",
       "std       NaN       NaN    NaN         NaN  ...        2.770014    186.910907   \n",
       "min       NaN       NaN    NaN         NaN  ...        1.000000      0.000000   \n",
       "25%       NaN       NaN    NaN         NaN  ...        1.000000    999.000000   \n",
       "50%       NaN       NaN    NaN         NaN  ...        2.000000    999.000000   \n",
       "75%       NaN       NaN    NaN         NaN  ...        3.000000    999.000000   \n",
       "max       NaN       NaN    NaN         NaN  ...       56.000000    999.000000   \n",
       "\n",
       "            previous     poutcome  emp.var.rate  cons.price.idx  \\\n",
       "count   41188.000000        41188  41188.000000    41188.000000   \n",
       "unique           NaN            3           NaN             NaN   \n",
       "top              NaN  nonexistent           NaN             NaN   \n",
       "freq             NaN        35563           NaN             NaN   \n",
       "mean        0.172963          NaN      0.081886       93.575664   \n",
       "std         0.494901          NaN      1.570960        0.578840   \n",
       "min         0.000000          NaN     -3.400000       92.201000   \n",
       "25%         0.000000          NaN     -1.800000       93.075000   \n",
       "50%         0.000000          NaN      1.100000       93.749000   \n",
       "75%         0.000000          NaN      1.400000       93.994000   \n",
       "max         7.000000          NaN      1.400000       94.767000   \n",
       "\n",
       "        cons.conf.idx     euribor3m   nr.employed      y  \n",
       "count    41188.000000  41188.000000  41188.000000  41188  \n",
       "unique            NaN           NaN           NaN      2  \n",
       "top               NaN           NaN           NaN     no  \n",
       "freq              NaN           NaN           NaN  36548  \n",
       "mean       -40.502600      3.621291   5167.035911    NaN  \n",
       "std          4.628198      1.734447     72.251528    NaN  \n",
       "min        -50.800000      0.634000   4963.600000    NaN  \n",
       "25%        -42.700000      1.344000   5099.100000    NaN  \n",
       "50%        -41.800000      4.857000   5191.000000    NaN  \n",
       "75%        -36.400000      4.961000   5228.100000    NaN  \n",
       "max        -26.900000      5.045000   5228.100000    NaN  \n",
       "\n",
       "[11 rows x 21 columns]"
      ]
     },
     "execution_count": 36,
     "metadata": {},
     "output_type": "execute_result"
    }
   ],
   "source": [
    "print(f\"bank shape: {bank.shape}; class frequency: {dict(pd.Series(bank.y).value_counts())}\")\n",
    "# 查看数据行列数以及y的频数\n",
    "bank.describe(include=\"all\")\n",
    "# 描述数据的每一列,include=\"all\"表示所有列,默认等于None表示只描述数值列"
   ]
  },
  {
   "cell_type": "markdown",
   "metadata": {},
   "source": [
    "输入的变量描述:\n",
    "\n",
    "#### bank client data:\n",
    "1. - age:年龄 (numeric)\n",
    "2. - job:工作类型: type of job (categorical: 'admin.','blue-collar','entrepreneur','housemaid','management','retired','self-employed','services','student','technician','unemployed','unknown')\n",
    "3. - marital:婚姻状况: marital status (categorical: 'divorced','married','single','unknown'; note: 'divorced' means divorced or widowed)\n",
    "4. - education:教育等级: (categorical: 'basic.4y','basic.6y','basic.9y','high.school','illiterate','professional.course','university.degree','unknown')\n",
    "5. - default:有没有信用额度: has credit in default? (categorical: 'no','yes','unknown')\n",
    "6. - housing:有没有住房贷款: has housing loan? (categorical: 'no','yes','unknown')\n",
    "7. - loan:有没有私人贷款: has personal loan? (categorical: 'no','yes','unknown')\n",
    "\n",
    "#### related with the last contact of the current campaign:\n",
    "8. - contact:电话类型: contact communication type (categorical: 'cellular','telephone') \n",
    "9. - month:上次沟通所在月份: last contact month of year (categorical: 'jan', 'feb', 'mar', ..., 'nov', 'dec')\n",
    "10. - day_of_week:上次沟通在周几: last contact day of the week (categorical: 'mon','tue','wed','thu','fri')\n",
    "11. - duration:上次沟通时长(单位:秒): last contact duration, in seconds (numeric). Important note: this attribute highly affects the output target (e.g., if duration=0 then y='no'). Yet, the duration is not known before a call is performed. Also, after the end of the call y is obviously known. Thus, this input should only be included for benchmark purposes and should be discarded if the intention is to have a realistic predictive model.\n",
    "\n",
    "#### other attributes:\n",
    "12. - campaign:本次推广联系次数(包括最后一次): number of contacts performed during this campaign and for this client (numeric, includes last contact)\n",
    "13. - pdays:上次推广最后一次联系距今天数(999表示之前没有联系过): number of days that passed by after the client was last contacted from a previous campaign (numeric; 999 means client was not previously contacted)\n",
    "14. - previous:本次推广之前的联系次数: number of contacts performed before this campaign and for this client (numeric)\n",
    "15. - poutcome:之前推广结果: outcome of the previous marketing campaign (categorical: 'failure','nonexistent','success')\n",
    "\n",
    "#### social and economic context attributes\n",
    "16. - emp.var.rate:就业变异率: employment variation rate - quarterly indicator (numeric)\n",
    "17. - cons.price.idx:消费者物价指数: consumer price index - monthly indicator (numeric) \n",
    "18. - cons.conf.idx:消费者信心指数: consumer confidence index - monthly indicator (numeric) \n",
    "19. - euribor3m:3个月欧元区银行同业拆借利率: euribor 3 month rate - daily indicator (numeric)\n",
    "20. - nr.employed:职工人数: number of employees - quarterly indicator (numeric)\n",
    "\n",
    "#### 响应变量:\n",
    "\n",
    "21. - y:客户有没有订购定期存款 - has the client subscribed a term deposit? (binary: 'yes','no')"
   ]
  },
  {
   "cell_type": "markdown",
   "metadata": {},
   "source": [
    "### 数据描述和清洗"
   ]
  },
  {
   "cell_type": "markdown",
   "metadata": {},
   "source": [
    "#### 依据业务逻辑处理数据"
   ]
  },
  {
   "cell_type": "markdown",
   "metadata": {},
   "source": [
    "对因变量y重新赋值,yes改为1,no改为0"
   ]
  },
  {
   "cell_type": "code",
   "execution_count": 37,
   "metadata": {},
   "outputs": [
    {
     "data": {
      "text/plain": [
       "0    36548\n",
       "1     4640\n",
       "Name: y, dtype: int64"
      ]
     },
     "execution_count": 37,
     "metadata": {},
     "output_type": "execute_result"
    }
   ],
   "source": [
    "bank.y = np.where(bank.y == \"yes\" ,1, 0)\n",
    "# 将\"yes\"替换成1,其余改为0\n",
    "bank.y.value_counts()\n",
    "# 查看y的频数"
   ]
  },
  {
   "cell_type": "markdown",
   "metadata": {},
   "source": [
    "np.where: 三个参数:第一个参数condition表示判断条件,需要一个布尔列表,后面两个参数分别是True和False时替换的值"
   ]
  },
  {
   "cell_type": "markdown",
   "metadata": {},
   "source": [
    "对教育等级重分箱"
   ]
  },
  {
   "cell_type": "code",
   "execution_count": 287,
   "metadata": {
    "scrolled": true
   },
   "outputs": [
    {
     "data": {
      "text/plain": [
       "university.degree      12168\n",
       "high.school             9515\n",
       "basic.9y                6045\n",
       "professional.course     5243\n",
       "basic.4y                4176\n",
       "basic.6y                2292\n",
       "unknown                 1731\n",
       "illiterate                18\n",
       "Name: education, dtype: int64"
      ]
     },
     "execution_count": 287,
     "metadata": {},
     "output_type": "execute_result"
    }
   ],
   "source": [
    "bank.education.value_counts()\n",
    "# 查看教育等级的频数"
   ]
  },
  {
   "cell_type": "code",
   "execution_count": 38,
   "metadata": {},
   "outputs": [],
   "source": [
    "bank.education = np.where(\n",
    "    (bank.education==\"basic.9y\")|(bank.education==\"basic.6y\")|(\n",
    "        bank.education==\"basic.4y\"),\"Basic\",bank.education)\n",
    "# 多个条件取或,只有有一个满足就是True,用\"Basic\"替换,其余用原数据替换"
   ]
  },
  {
   "cell_type": "code",
   "execution_count": 39,
   "metadata": {},
   "outputs": [
    {
     "data": {
      "text/plain": [
       "Basic                  12513\n",
       "university.degree      12168\n",
       "high.school             9515\n",
       "professional.course     5243\n",
       "unknown                 1731\n",
       "illiterate                18\n",
       "Name: education, dtype: int64"
      ]
     },
     "execution_count": 39,
     "metadata": {},
     "output_type": "execute_result"
    }
   ],
   "source": [
    "bank.education.value_counts()\n",
    "# 查看重分箱后新的频数"
   ]
  },
  {
   "cell_type": "markdown",
   "metadata": {},
   "source": [
    "pdays变量中999表示之前没有联系过,发现999占比很高,故将999改为\"no\",将其他改为\"yes\""
   ]
  },
  {
   "cell_type": "code",
   "execution_count": 40,
   "metadata": {
    "scrolled": true
   },
   "outputs": [
    {
     "name": "stdout",
     "output_type": "stream",
     "text": [
      "rate of none contacted clients: 0.9632\n"
     ]
    },
    {
     "data": {
      "text/plain": [
       "no     39673\n",
       "yes     1515\n",
       "Name: pdays, dtype: int64"
      ]
     },
     "execution_count": 40,
     "metadata": {},
     "output_type": "execute_result"
    }
   ],
   "source": [
    "no_pdays=sum(bank.pdays == 999)/bank.shape[0]\n",
    "# 查看pdays列中999的占比\n",
    "print(f\"rate of none contacted clients: {no_pdays:.4f}\")\n",
    "# 打印占比值\n",
    "bank.pdays = np.where(bank.pdays == 999, \"no\",\"yes\")\n",
    "# 对于pdays列,凡是999替换成\"no\",其余替换成\"yes\"\n",
    "bank.pdays.value_counts()\n",
    "# 查看变换后数据的频数"
   ]
  },
  {
   "cell_type": "markdown",
   "metadata": {},
   "source": [
    "查看各连续变量在不同分类下的均值"
   ]
  },
  {
   "cell_type": "code",
   "execution_count": 41,
   "metadata": {
    "scrolled": true
   },
   "outputs": [
    {
     "data": {
      "text/html": [
       "<div>\n",
       "<style scoped>\n",
       "    .dataframe tbody tr th:only-of-type {\n",
       "        vertical-align: middle;\n",
       "    }\n",
       "\n",
       "    .dataframe tbody tr th {\n",
       "        vertical-align: top;\n",
       "    }\n",
       "\n",
       "    .dataframe thead th {\n",
       "        text-align: right;\n",
       "    }\n",
       "</style>\n",
       "<table border=\"1\" class=\"dataframe\">\n",
       "  <thead>\n",
       "    <tr style=\"text-align: right;\">\n",
       "      <th></th>\n",
       "      <th>age</th>\n",
       "      <th>duration</th>\n",
       "      <th>campaign</th>\n",
       "      <th>previous</th>\n",
       "      <th>emp.var.rate</th>\n",
       "      <th>cons.price.idx</th>\n",
       "      <th>cons.conf.idx</th>\n",
       "      <th>euribor3m</th>\n",
       "      <th>nr.employed</th>\n",
       "    </tr>\n",
       "    <tr>\n",
       "      <th>y</th>\n",
       "      <th></th>\n",
       "      <th></th>\n",
       "      <th></th>\n",
       "      <th></th>\n",
       "      <th></th>\n",
       "      <th></th>\n",
       "      <th></th>\n",
       "      <th></th>\n",
       "      <th></th>\n",
       "    </tr>\n",
       "  </thead>\n",
       "  <tbody>\n",
       "    <tr>\n",
       "      <th>0</th>\n",
       "      <td>39.911185</td>\n",
       "      <td>220.844807</td>\n",
       "      <td>2.633085</td>\n",
       "      <td>0.132374</td>\n",
       "      <td>0.248875</td>\n",
       "      <td>93.603757</td>\n",
       "      <td>-40.593097</td>\n",
       "      <td>3.811491</td>\n",
       "      <td>5176.166600</td>\n",
       "    </tr>\n",
       "    <tr>\n",
       "      <th>1</th>\n",
       "      <td>40.913147</td>\n",
       "      <td>553.191164</td>\n",
       "      <td>2.051724</td>\n",
       "      <td>0.492672</td>\n",
       "      <td>-1.233448</td>\n",
       "      <td>93.354386</td>\n",
       "      <td>-39.789784</td>\n",
       "      <td>2.123135</td>\n",
       "      <td>5095.115991</td>\n",
       "    </tr>\n",
       "  </tbody>\n",
       "</table>\n",
       "</div>"
      ],
      "text/plain": [
       "         age    duration  campaign  previous  emp.var.rate  cons.price.idx  \\\n",
       "y                                                                            \n",
       "0  39.911185  220.844807  2.633085  0.132374      0.248875       93.603757   \n",
       "1  40.913147  553.191164  2.051724  0.492672     -1.233448       93.354386   \n",
       "\n",
       "   cons.conf.idx  euribor3m  nr.employed  \n",
       "y                                         \n",
       "0     -40.593097   3.811491  5176.166600  \n",
       "1     -39.789784   2.123135  5095.115991  "
      ]
     },
     "execution_count": 41,
     "metadata": {},
     "output_type": "execute_result"
    }
   ],
   "source": [
    "bank.groupby(\"y\").mean()\n",
    "# 对数据依据y列进行分组,查看每列在每组下的均值"
   ]
  },
  {
   "cell_type": "markdown",
   "metadata": {},
   "source": [
    "由于是预测性分析,根据变量性质,去掉duration"
   ]
  },
  {
   "cell_type": "code",
   "execution_count": 42,
   "metadata": {},
   "outputs": [],
   "source": [
    "bank.drop(columns=\"duration\",inplace=True)\n",
    "# 去掉指定列, inplace=True表示在原数据上更改"
   ]
  },
  {
   "cell_type": "markdown",
   "metadata": {},
   "source": [
    "由于job变量中包含的分类名\"admin.\"包含\".\"非常不友好,所以改为\"admin\""
   ]
  },
  {
   "cell_type": "code",
   "execution_count": 43,
   "metadata": {
    "scrolled": true
   },
   "outputs": [
    {
     "data": {
      "text/plain": [
       "admin            10422\n",
       "blue-collar       9254\n",
       "technician        6743\n",
       "services          3969\n",
       "management        2924\n",
       "retired           1720\n",
       "entrepreneur      1456\n",
       "self-employed     1421\n",
       "housemaid         1060\n",
       "unemployed        1014\n",
       "student            875\n",
       "unknown            330\n",
       "Name: job, dtype: int64"
      ]
     },
     "execution_count": 43,
     "metadata": {},
     "output_type": "execute_result"
    }
   ],
   "source": [
    "bank.job = np.where(bank.job==\"admin.\",\"admin\",bank.job)\n",
    "# job列中凡是等于\"admin.\"的值替换成\"admin\",其余原数据替换\n",
    "bank.job.value_counts()\n",
    "# 查看频数"
   ]
  },
  {
   "cell_type": "markdown",
   "metadata": {},
   "source": [
    "#### 数据描述"
   ]
  },
  {
   "cell_type": "markdown",
   "metadata": {},
   "source": [
    "查看各连续变量在不同分类下的分布情况"
   ]
  },
  {
   "cell_type": "code",
   "execution_count": 44,
   "metadata": {},
   "outputs": [
    {
     "data": {
      "image/png": "[encoded data removed]",
      "text/plain": [
       "<Figure size 1152x1728 with 8 Axes>"
      ]
     },
     "metadata": {
      "needs_background": "light"
     },
     "output_type": "display_data"
    }
   ],
   "source": [
    "colnames = list(bank.iloc[:,[0,10,12,14,15,16,17,18]].columns.values)\n",
    "# 找到所有数值列的索引位置,抽子集,columns.values抽取列名,通过list()将列名生成列表\n",
    "fig,axs=plt.subplots(nrows=4,ncols=2,figsize=(16,24))\n",
    "# 设置子图的布局,4行2列,生成两个对象,axs表示每个子图的位置\n",
    "for i,r in enumerate(colnames):\n",
    "    sns.boxplot(x=\"y\",y=r,data=bank,ax=axs[i//2,i%2])"
   ]
  },
  {
   "cell_type": "markdown",
   "metadata": {},
   "source": [
    "- 使用seaborn中的箱线图函数boxplot,对每个数值列画图\n",
    "    - x:赋值x轴数据对应的列名\n",
    "    - y:赋值y轴对应的列名\n",
    "    - data:是数据框的名字\n",
    "    - ax:给之前生成的axs的子集,两个值表示图形的位置,1行1列的子图即$axs[0,0]$\n",
    "- enumerate表示枚举,即每个元素匹配一个索引值组成元祖,如下例"
   ]
  },
  {
   "cell_type": "code",
   "execution_count": 45,
   "metadata": {},
   "outputs": [
    {
     "data": {
      "text/plain": [
       "[(0, 1), (1, 3), (2, 4)]"
      ]
     },
     "execution_count": 45,
     "metadata": {},
     "output_type": "execute_result"
    }
   ],
   "source": [
    "list(enumerate([1,3,4]))"
   ]
  },
  {
   "cell_type": "markdown",
   "metadata": {},
   "source": [
    "查看各分类变量在不同y分类下的分布情况"
   ]
  },
  {
   "cell_type": "code",
   "execution_count": 46,
   "metadata": {},
   "outputs": [
    {
     "data": {
      "image/png": "[encoded data removed]",
      "text/plain": [
       "<Figure size 1152x2880 with 12 Axes>"
      ]
     },
     "metadata": {
      "needs_background": "light"
     },
     "output_type": "display_data"
    }
   ],
   "source": [
    "from matplotlib.figure import SubplotParams\n",
    "# 这个函数为了控制多图布局中的每个图形之间的间隔\n",
    "colnames1 = list(bank.iloc[:,[1,2,3,4,5,6,7,8,9,11,13]].columns.values)\n",
    "# 根据非数值列的索引,抽取列名\n",
    "fig,axs=plt.subplots(nrows=6,ncols=2,figsize=(16,40),\n",
    "                     subplotpars = SubplotParams(hspace = 0.5))\n",
    "# 子图是6行2列,hspace表示每个图之间的垂直距离是0.5\n",
    "for i,r in enumerate(colnames1):\n",
    "    table= pd.crosstab(bank[r],bank.y)\n",
    "    # 根据非数值列和y列创建交叉表\n",
    "    table.div(table.sum(1).astype(float),axis=0).plot(\n",
    "        kind=\"bar\",stacked=True,ax=axs[i//2,i%2])\n",
    "    # table.sum(1)表示求行和\n",
    "    # .astype(float)生成结果转为实数\n",
    "    # .div(a,axis=0)表示每列除以a\n",
    "    # 上式就得到每个数的行百分比\n",
    "    # 依据行百分比作图,kind=\"bar\"表示条形图\n",
    "    # stacked=True表示堆积条形图,如下\n",
    "    # ax指定每个图的位置,如axs[1,1]表示2行2列"
   ]
  },
  {
   "cell_type": "markdown",
   "metadata": {},
   "source": [
    "上述代码例子:"
   ]
  },
  {
   "cell_type": "code",
   "execution_count": 47,
   "metadata": {},
   "outputs": [
    {
     "name": "stdout",
     "output_type": "stream",
     "text": [
      "col_0  0  1\n",
      "row_0      \n",
      "0      2  1\n",
      "1      0  2\n",
      "row_0\n",
      "0    3\n",
      "1    2\n",
      "dtype: int64\n",
      "row_0\n",
      "0    3.0\n",
      "1    2.0\n",
      "dtype: float64\n",
      "col_0         0         1\n",
      "row_0                    \n",
      "0      0.666667  0.333333\n",
      "1      0.000000  1.000000\n"
     ]
    }
   ],
   "source": [
    "tt = pd.crosstab(np.array([1,1,0,0,0]),np.array([1,1,1,0,0]))\n",
    "print(tt)\n",
    "print(tt.sum(1))\n",
    "print(tt.sum(1).astype(float))\n",
    "print(tt.div(tt.sum(1).astype(float),axis=0))"
   ]
  },
  {
   "cell_type": "markdown",
   "metadata": {},
   "source": [
    "#### 建模"
   ]
  },
  {
   "cell_type": "markdown",
   "metadata": {},
   "source": [
    "生成哑变量"
   ]
  },
  {
   "cell_type": "code",
   "execution_count": 52,
   "metadata": {},
   "outputs": [
    {
     "data": {
      "text/plain": [
       "array(['age', 'campaign', 'previous', 'emp.var.rate', 'cons.price.idx',\n",
       "       'cons.conf.idx', 'euribor3m', 'nr.employed', 'y',\n",
       "       'job_blue-collar', 'job_entrepreneur', 'job_housemaid',\n",
       "       'job_management', 'job_retired', 'job_self-employed',\n",
       "       'job_services', 'job_student', 'job_technician', 'job_unemployed',\n",
       "       'job_unknown', 'marital_married', 'marital_single',\n",
       "       'marital_unknown', 'education_high.school', 'education_illiterate',\n",
       "       'education_professional.course', 'education_university.degree',\n",
       "       'education_unknown', 'default_unknown', 'default_yes',\n",
       "       'housing_unknown', 'housing_yes', 'loan_unknown', 'loan_yes',\n",
       "       'contact_telephone', 'month_aug', 'month_dec', 'month_jul',\n",
       "       'month_jun', 'month_mar', 'month_may', 'month_nov', 'month_oct',\n",
       "       'month_sep', 'day_of_week_mon', 'day_of_week_thu',\n",
       "       'day_of_week_tue', 'day_of_week_wed', 'pdays_yes',\n",
       "       'poutcome_nonexistent', 'poutcome_success'], dtype=object)"
      ]
     },
     "execution_count": 52,
     "metadata": {},
     "output_type": "execute_result"
    }
   ],
   "source": [
    "def gen_dummy(X):\n",
    "# 构建生成哑变量的函数\n",
    "    for var in X.columns:\n",
    "    # 对X的每一列循环\n",
    "        if X[var].dtype==object:\n",
    "        # 如果此列的类型是object,即非数值列\n",
    "            dummy = pd.get_dummies(X[var],prefix=var)\n",
    "            # 生成哑变量\n",
    "            X = X.join(dummy.iloc[:,1:])\n",
    "            # 将哑变量除去第一列以外的所有列结合到原数据中\n",
    "            del X[var]\n",
    "            # 删除生成哑变量的原始数据列\n",
    "    return(X)\n",
    "bank_f = gen_dummy(bank)\n",
    "# 通过上面的哑变量函数处理数据框\n",
    "bank_f.columns.values\n",
    "# 查看生成哑变量后的列名"
   ]
  },
  {
   "cell_type": "markdown",
   "metadata": {},
   "source": [
    "- pd.get_dummies():生成哑变量:有几个分类就生成几个哑变量,每个哑变量中,该分类对应数值为1,其他为0.\n",
    "    - prefix:表示哑变量的前缀名"
   ]
  },
  {
   "cell_type": "markdown",
   "metadata": {},
   "source": [
    "分训练和测试集"
   ]
  },
  {
   "cell_type": "code",
   "execution_count": 53,
   "metadata": {},
   "outputs": [],
   "source": [
    "X = bank_f.drop(columns=\"y\")\n",
    "# 去掉y列用其他列生成自变量数据X\n",
    "y = bank.y\n",
    "# 抽取因变量数据y"
   ]
  },
  {
   "cell_type": "code",
   "execution_count": 54,
   "metadata": {},
   "outputs": [],
   "source": [
    "X_train, X_test, y_train, y_test = train_test_split(\n",
    "    X,y,test_size=0.3,random_state=1221)\n",
    "# 分训练测试集"
   ]
  },
  {
   "cell_type": "markdown",
   "metadata": {},
   "source": [
    "lasso回归筛选变量"
   ]
  },
  {
   "cell_type": "code",
   "execution_count": 57,
   "metadata": {},
   "outputs": [
    {
     "name": "stdout",
     "output_type": "stream",
     "text": [
      "train accuracy: 0.8988; test accuracy: 0.9011\n",
      "model coefficient:\n",
      "[[ 9.48285753e-04 -4.26677532e-02  0.00000000e+00 -2.86302780e-01\n",
      "   3.30101895e-01  2.07910969e-02 -1.35963098e-02 -6.22966236e-03\n",
      "  -1.10097924e-01  0.00000000e+00  0.00000000e+00  0.00000000e+00\n",
      "   0.00000000e+00  0.00000000e+00  0.00000000e+00  0.00000000e+00\n",
      "   0.00000000e+00  0.00000000e+00  0.00000000e+00  0.00000000e+00\n",
      "   3.85079367e-02  0.00000000e+00  0.00000000e+00  0.00000000e+00\n",
      "   0.00000000e+00  1.43549513e-02  0.00000000e+00 -1.06052438e-01\n",
      "   0.00000000e+00  0.00000000e+00  0.00000000e+00  0.00000000e+00\n",
      "   0.00000000e+00 -3.43367459e-01  0.00000000e+00  0.00000000e+00\n",
      "   0.00000000e+00  0.00000000e+00  2.93729759e-01 -6.02718321e-01\n",
      "  -1.62989905e-01  0.00000000e+00  0.00000000e+00 -1.79675824e-01\n",
      "   0.00000000e+00  0.00000000e+00  0.00000000e+00  9.51277887e-01\n",
      "   2.32147544e-01  4.29012180e-01]];\n",
      "model intercept:\n",
      "[0.]\n"
     ]
    }
   ],
   "source": [
    "model = LogisticRegression(solver=\"liblinear\",C=0.02,penalty=\"l1\",max_iter=1000)\n",
    "# 使用liblinear算法估计系数,正则化项系数C是0.02,值较小,正则化强度较强\n",
    "# 添加\"l1\"正则化项,即lasso回归\n",
    "model.fit(X_train,y_train)\n",
    "# 使用训练数据拟合模型\n",
    "train_score = model.score(X_train,y_train)\n",
    "test_score = model.score(X_test,y_test)\n",
    "# 得到训练集和测试集的准确率\n",
    "print(f\"train accuracy: {train_score:.4f}; test accuracy: {test_score:.4f}\")\n",
    "# 打印准确率\n",
    "print(f\"\"\"model coefficient:\n",
    "{model.coef_};\n",
    "model intercept:\n",
    "{model.intercept_}\"\"\")\n",
    "# 打印模型的所有系数值和截距项值"
   ]
  },
  {
   "cell_type": "code",
   "execution_count": 58,
   "metadata": {},
   "outputs": [
    {
     "data": {
      "text/plain": [
       "array(['age', 'campaign', 'emp.var.rate', 'cons.price.idx',\n",
       "       'cons.conf.idx', 'euribor3m', 'nr.employed', 'job_blue-collar',\n",
       "       'marital_single', 'education_university.degree', 'default_unknown',\n",
       "       'contact_telephone', 'month_mar', 'month_may', 'month_nov',\n",
       "       'day_of_week_mon', 'pdays_yes', 'poutcome_nonexistent',\n",
       "       'poutcome_success'], dtype=object)"
      ]
     },
     "execution_count": 58,
     "metadata": {},
     "output_type": "execute_result"
    }
   ],
   "source": [
    "ind = model.coef_ != 0.\n",
    "# 得到系数值不等于0的布尔索引\n",
    "ind = ind.ravel()\n",
    "# 将索引降维成1维数组\n",
    "X_train.columns.values[ind]\n",
    "# 查看系数值不等于0的列的列名"
   ]
  },
  {
   "cell_type": "markdown",
   "metadata": {},
   "source": [
    "与筛选前的列对比"
   ]
  },
  {
   "cell_type": "code",
   "execution_count": 59,
   "metadata": {
    "scrolled": true
   },
   "outputs": [
    {
     "data": {
      "text/plain": [
       "array(['age', 'campaign', 'previous', 'emp.var.rate', 'cons.price.idx',\n",
       "       'cons.conf.idx', 'euribor3m', 'nr.employed', 'job_blue-collar',\n",
       "       'job_entrepreneur', 'job_housemaid', 'job_management',\n",
       "       'job_retired', 'job_self-employed', 'job_services', 'job_student',\n",
       "       'job_technician', 'job_unemployed', 'job_unknown',\n",
       "       'marital_married', 'marital_single', 'marital_unknown',\n",
       "       'education_high.school', 'education_illiterate',\n",
       "       'education_professional.course', 'education_university.degree',\n",
       "       'education_unknown', 'default_unknown', 'default_yes',\n",
       "       'housing_unknown', 'housing_yes', 'loan_unknown', 'loan_yes',\n",
       "       'contact_telephone', 'month_aug', 'month_dec', 'month_jul',\n",
       "       'month_jun', 'month_mar', 'month_may', 'month_nov', 'month_oct',\n",
       "       'month_sep', 'day_of_week_mon', 'day_of_week_thu',\n",
       "       'day_of_week_tue', 'day_of_week_wed', 'pdays_yes',\n",
       "       'poutcome_nonexistent', 'poutcome_success'], dtype=object)"
      ]
     },
     "execution_count": 59,
     "metadata": {},
     "output_type": "execute_result"
    }
   ],
   "source": [
    "X_train.columns.values\n",
    "# 抽取筛选前X的列名"
   ]
  },
  {
   "cell_type": "markdown",
   "metadata": {},
   "source": [
    "根据筛选结果筛选训练和测试集"
   ]
  },
  {
   "cell_type": "code",
   "execution_count": 60,
   "metadata": {},
   "outputs": [],
   "source": [
    "X_train = X_train.iloc[:,ind]\n",
    "X_test = X_test.iloc[:,ind]\n",
    "# 对训练集和测试集使用之前得到的索引筛选"
   ]
  },
  {
   "cell_type": "markdown",
   "metadata": {},
   "source": [
    "逻辑回归"
   ]
  },
  {
   "cell_type": "code",
   "execution_count": 62,
   "metadata": {},
   "outputs": [
    {
     "name": "stdout",
     "output_type": "stream",
     "text": [
      "Optimization terminated successfully.\n",
      "         Current function value: 0.277916\n",
      "         Iterations 7\n"
     ]
    },
    {
     "data": {
      "text/html": [
       "<table class=\"simpletable\">\n",
       "<caption>Logit Regression Results</caption>\n",
       "<tr>\n",
       "  <th>Dep. Variable:</th>         <td>y</td>        <th>  No. Observations:  </th>  <td> 28831</td> \n",
       "</tr>\n",
       "<tr>\n",
       "  <th>Model:</th>               <td>Logit</td>      <th>  Df Residuals:      </th>  <td> 28812</td> \n",
       "</tr>\n",
       "<tr>\n",
       "  <th>Method:</th>               <td>MLE</td>       <th>  Df Model:          </th>  <td>    18</td> \n",
       "</tr>\n",
       "<tr>\n",
       "  <th>Date:</th>          <td>Thu, 21 Mar 2019</td> <th>  Pseudo R-squ.:     </th>  <td>0.2167</td> \n",
       "</tr>\n",
       "<tr>\n",
       "  <th>Time:</th>              <td>01:54:02</td>     <th>  Log-Likelihood:    </th> <td> -8012.6</td>\n",
       "</tr>\n",
       "<tr>\n",
       "  <th>converged:</th>           <td>True</td>       <th>  LL-Null:           </th> <td> -10230.</td>\n",
       "</tr>\n",
       "<tr>\n",
       "  <th> </th>                      <td> </td>        <th>  LLR p-value:       </th>  <td> 0.000</td> \n",
       "</tr>\n",
       "</table>\n",
       "<table class=\"simpletable\">\n",
       "<tr>\n",
       "               <td></td>                  <th>coef</th>     <th>std err</th>      <th>z</th>      <th>P>|z|</th>  <th>[0.025</th>    <th>0.975]</th>  \n",
       "</tr>\n",
       "<tr>\n",
       "  <th>age</th>                         <td>    0.0031</td> <td>    0.002</td> <td>    1.536</td> <td> 0.125</td> <td>   -0.001</td> <td>    0.007</td>\n",
       "</tr>\n",
       "<tr>\n",
       "  <th>campaign</th>                    <td>   -0.0471</td> <td>    0.011</td> <td>   -4.280</td> <td> 0.000</td> <td>   -0.069</td> <td>   -0.026</td>\n",
       "</tr>\n",
       "<tr>\n",
       "  <th>emp.var.rate</th>                <td>   -0.6211</td> <td>    0.073</td> <td>   -8.518</td> <td> 0.000</td> <td>   -0.764</td> <td>   -0.478</td>\n",
       "</tr>\n",
       "<tr>\n",
       "  <th>cons.price.idx</th>              <td>    0.4676</td> <td>    0.033</td> <td>   14.096</td> <td> 0.000</td> <td>    0.403</td> <td>    0.533</td>\n",
       "</tr>\n",
       "<tr>\n",
       "  <th>cons.conf.idx</th>               <td>    0.0072</td> <td>    0.005</td> <td>    1.501</td> <td> 0.133</td> <td>   -0.002</td> <td>    0.016</td>\n",
       "</tr>\n",
       "<tr>\n",
       "  <th>euribor3m</th>                   <td>    0.4147</td> <td>    0.087</td> <td>    4.759</td> <td> 0.000</td> <td>    0.244</td> <td>    0.586</td>\n",
       "</tr>\n",
       "<tr>\n",
       "  <th>nr.employed</th>                 <td>   -0.0092</td> <td>    0.001</td> <td>  -13.819</td> <td> 0.000</td> <td>   -0.010</td> <td>   -0.008</td>\n",
       "</tr>\n",
       "<tr>\n",
       "  <th>job_blue-collar</th>             <td>   -0.1890</td> <td>    0.062</td> <td>   -3.048</td> <td> 0.002</td> <td>   -0.310</td> <td>   -0.067</td>\n",
       "</tr>\n",
       "<tr>\n",
       "  <th>marital_single</th>              <td>    0.1121</td> <td>    0.051</td> <td>    2.196</td> <td> 0.028</td> <td>    0.012</td> <td>    0.212</td>\n",
       "</tr>\n",
       "<tr>\n",
       "  <th>education_university.degree</th> <td>    0.0584</td> <td>    0.047</td> <td>    1.242</td> <td> 0.214</td> <td>   -0.034</td> <td>    0.150</td>\n",
       "</tr>\n",
       "<tr>\n",
       "  <th>default_unknown</th>             <td>   -0.2678</td> <td>    0.069</td> <td>   -3.899</td> <td> 0.000</td> <td>   -0.402</td> <td>   -0.133</td>\n",
       "</tr>\n",
       "<tr>\n",
       "  <th>contact_telephone</th>           <td>   -0.6144</td> <td>    0.066</td> <td>   -9.303</td> <td> 0.000</td> <td>   -0.744</td> <td>   -0.485</td>\n",
       "</tr>\n",
       "<tr>\n",
       "  <th>month_mar</th>                   <td>    0.9610</td> <td>    0.116</td> <td>    8.292</td> <td> 0.000</td> <td>    0.734</td> <td>    1.188</td>\n",
       "</tr>\n",
       "<tr>\n",
       "  <th>month_may</th>                   <td>   -0.5778</td> <td>    0.057</td> <td>  -10.165</td> <td> 0.000</td> <td>   -0.689</td> <td>   -0.466</td>\n",
       "</tr>\n",
       "<tr>\n",
       "  <th>month_nov</th>                   <td>   -0.6176</td> <td>    0.085</td> <td>   -7.267</td> <td> 0.000</td> <td>   -0.784</td> <td>   -0.451</td>\n",
       "</tr>\n",
       "<tr>\n",
       "  <th>day_of_week_mon</th>             <td>   -0.3375</td> <td>    0.054</td> <td>   -6.234</td> <td> 0.000</td> <td>   -0.444</td> <td>   -0.231</td>\n",
       "</tr>\n",
       "<tr>\n",
       "  <th>pdays_yes</th>                   <td>    1.2568</td> <td>    0.214</td> <td>    5.865</td> <td> 0.000</td> <td>    0.837</td> <td>    1.677</td>\n",
       "</tr>\n",
       "<tr>\n",
       "  <th>poutcome_nonexistent</th>        <td>    0.5827</td> <td>    0.068</td> <td>    8.604</td> <td> 0.000</td> <td>    0.450</td> <td>    0.715</td>\n",
       "</tr>\n",
       "<tr>\n",
       "  <th>poutcome_success</th>            <td>    0.6595</td> <td>    0.218</td> <td>    3.031</td> <td> 0.002</td> <td>    0.233</td> <td>    1.086</td>\n",
       "</tr>\n",
       "</table>"
      ],
      "text/plain": [
       "<class 'statsmodels.iolib.summary.Summary'>\n",
       "\"\"\"\n",
       "                           Logit Regression Results                           \n",
       "==============================================================================\n",
       "Dep. Variable:                      y   No. Observations:                28831\n",
       "Model:                          Logit   Df Residuals:                    28812\n",
       "Method:                           MLE   Df Model:                           18\n",
       "Date:                Thu, 21 Mar 2019   Pseudo R-squ.:                  0.2167\n",
       "Time:                        01:54:02   Log-Likelihood:                -8012.6\n",
       "converged:                       True   LL-Null:                       -10230.\n",
       "                                        LLR p-value:                     0.000\n",
       "===============================================================================================\n",
       "                                  coef    std err          z      P>|z|      [0.025      0.975]\n",
       "-----------------------------------------------------------------------------------------------\n",
       "age                             0.0031      0.002      1.536      0.125      -0.001       0.007\n",
       "campaign                       -0.0471      0.011     -4.280      0.000      -0.069      -0.026\n",
       "emp.var.rate                   -0.6211      0.073     -8.518      0.000      -0.764      -0.478\n",
       "cons.price.idx                  0.4676      0.033     14.096      0.000       0.403       0.533\n",
       "cons.conf.idx                   0.0072      0.005      1.501      0.133      -0.002       0.016\n",
       "euribor3m                       0.4147      0.087      4.759      0.000       0.244       0.586\n",
       "nr.employed                    -0.0092      0.001    -13.819      0.000      -0.010      -0.008\n",
       "job_blue-collar                -0.1890      0.062     -3.048      0.002      -0.310      -0.067\n",
       "marital_single                  0.1121      0.051      2.196      0.028       0.012       0.212\n",
       "education_university.degree     0.0584      0.047      1.242      0.214      -0.034       0.150\n",
       "default_unknown                -0.2678      0.069     -3.899      0.000      -0.402      -0.133\n",
       "contact_telephone              -0.6144      0.066     -9.303      0.000      -0.744      -0.485\n",
       "month_mar                       0.9610      0.116      8.292      0.000       0.734       1.188\n",
       "month_may                      -0.5778      0.057    -10.165      0.000      -0.689      -0.466\n",
       "month_nov                      -0.6176      0.085     -7.267      0.000      -0.784      -0.451\n",
       "day_of_week_mon                -0.3375      0.054     -6.234      0.000      -0.444      -0.231\n",
       "pdays_yes                       1.2568      0.214      5.865      0.000       0.837       1.677\n",
       "poutcome_nonexistent            0.5827      0.068      8.604      0.000       0.450       0.715\n",
       "poutcome_success                0.6595      0.218      3.031      0.002       0.233       1.086\n",
       "===============================================================================================\n",
       "\"\"\""
      ]
     },
     "execution_count": 62,
     "metadata": {},
     "output_type": "execute_result"
    }
   ],
   "source": [
    "model = sm.Logit(y_train,X_train).fit()\n",
    "# 用训练集拟合逻辑回归\n",
    "model.summary()\n",
    "# 查看模型详细信息"
   ]
  },
  {
   "cell_type": "markdown",
   "metadata": {},
   "source": [
    "预测,这里预测结果就是$y=1$的概率"
   ]
  },
  {
   "cell_type": "code",
   "execution_count": 64,
   "metadata": {},
   "outputs": [],
   "source": [
    "y_pred = model.predict(X_test)\n",
    "# 对测试集预测,得到的结果是y=1的概率"
   ]
  },
  {
   "cell_type": "markdown",
   "metadata": {},
   "source": [
    "绘制ROC曲线"
   ]
  },
  {
   "cell_type": "code",
   "execution_count": 65,
   "metadata": {},
   "outputs": [
    {
     "data": {
      "image/png": "[encoded data removed]",
      "text/plain": [
       "<Figure size 432x288 with 1 Axes>"
      ]
     },
     "metadata": {
      "needs_background": "light"
     },
     "output_type": "display_data"
    }
   ],
   "source": [
    "from sklearn.metrics import roc_auc_score\n",
    "from sklearn.metrics import roc_curve\n",
    "# 这两个函数用来得到auc值和画roc曲线\n",
    "logit_roc_auc = roc_auc_score(y_test, y_pred)\n",
    "# 通过测试集的真实值和预测得到的概率值计算auc面积\n",
    "fpr, tpr, thresholds = roc_curve(y_test, y_pred)\n",
    "# 通过给定真实值和预测概率得到fpr,tpr,和对应的阈值\n",
    "plt.figure()\n",
    "plt.plot(fpr, tpr, label='Logistic Regression (area = %0.2f)' % logit_roc_auc)\n",
    "# 画roc曲线,添加文本说明auc面积\n",
    "plt.plot([0, 1], [0, 1],'r--')\n",
    "# 添加基线\n",
    "plt.xlabel('False Positive Rate')\n",
    "plt.ylabel('True Positive Rate')\n",
    "plt.title('Receiver operating characteristic')\n",
    "# 添加x轴,y轴标签和标题\n",
    "plt.legend(loc=\"lower right\")\n",
    "# 说明图例在右下角\n",
    "plt.show()"
   ]
  },
  {
   "cell_type": "markdown",
   "metadata": {},
   "source": [
    "参考:\n",
    "\n",
    "[Building A Logistic Regression in Python, Step by Step](https://towardsdatascience.com/building-a-logistic-regression-in-python-step-by-step-becd4d56c9c8)"
   ]
  }
 ],
 "metadata": {
  "kernelspec": {
   "display_name": "Python 3",
   "language": "python",
   "name": "python3"
  },
  "language_info": {
   "codemirror_mode": {
    "name": "ipython",
    "version": 3
   },
   "file_extension": ".py",
   "mimetype": "text/x-python",
   "name": "python",
   "nbconvert_exporter": "python",
   "pygments_lexer": "ipython3",
   "version": "3.7.4"
  }
 },
 "nbformat": 4,
 "nbformat_minor": 4
}
