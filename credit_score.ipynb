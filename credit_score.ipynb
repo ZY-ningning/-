{
 "cells": [
  {
   "cell_type": "markdown",
   "metadata": {},
   "source": [
    "# 信用评分卡案例"
   ]
  },
  {
   "cell_type": "markdown",
   "metadata": {},
   "source": [
    "加载所需包"
   ]
  },
  {
   "cell_type": "code",
   "execution_count": 1,
   "metadata": {},
   "outputs": [],
   "source": [
    "%matplotlib inline\n",
    "import matplotlib.pyplot as plt\n",
    "import numpy as np\n",
    "import pandas as pd\n",
    "import os\n",
    "from collections import Counter\n",
    "from sklearn.model_selection import train_test_split\n",
    "import scipy.stats as stats\n",
    "import seaborn as sns\n",
    "import statsmodels.api as sm\n",
    "from statsmodels.stats.outliers_influence import variance_inflation_factor"
   ]
  },
  {
   "cell_type": "code",
   "execution_count": 2,
   "metadata": {},
   "outputs": [],
   "source": [
    "import warnings\n",
    "warnings.filterwarnings(action='once')\n",
    "# 设置警告只出现一次\n",
    "# 不出现设置: warnings.filterwarnings('ignore')"
   ]
  },
  {
   "cell_type": "markdown",
   "metadata": {},
   "source": [
    "## 确定观察时间窗口"
   ]
  },
  {
   "cell_type": "markdown",
   "metadata": {},
   "source": [
    "使用用户逾期详情表data/CreditSampleWindow.csv:\n",
    "\n",
    "- CID:用户ID\n",
    "- STAGE_BEF:本阶段前的逾期阶段\n",
    "- STAGE_AFT:本阶段进入的逾期阶段\n",
    "    - 其中逾期阶段含义为: M0:逾期0-3天; M1:逾期3-30天; M2:逾期30-60天; M3:逾期60-90天;以此类推\n",
    "- START_DATE:进入本阶段时间\n",
    "- CLOSE_DATE:本阶段结束时间\n",
    "\n",
    "本数据取的是订单审批日从2015年1月1日到2017年10月31日的所有订单号,即这些订单对应的逾期详情,最后的截止日期为2018年5月31日"
   ]
  },
  {
   "cell_type": "markdown",
   "metadata": {},
   "source": [
    "### 读数据,数据描述"
   ]
  },
  {
   "cell_type": "code",
   "execution_count": 3,
   "metadata": {},
   "outputs": [],
   "source": [
    "os.chdir(\"D:/data/python\")\n",
    "sample_window = pd.read_csv(\"CreditSampleWindow.csv\")"
   ]
  },
  {
   "cell_type": "code",
   "execution_count": 4,
   "metadata": {},
   "outputs": [
    {
     "data": {
      "text/html": [
       "<div>\n",
       "<style scoped>\n",
       "    .dataframe tbody tr th:only-of-type {\n",
       "        vertical-align: middle;\n",
       "    }\n",
       "\n",
       "    .dataframe tbody tr th {\n",
       "        vertical-align: top;\n",
       "    }\n",
       "\n",
       "    .dataframe thead th {\n",
       "        text-align: right;\n",
       "    }\n",
       "</style>\n",
       "<table border=\"1\" class=\"dataframe\">\n",
       "  <thead>\n",
       "    <tr style=\"text-align: right;\">\n",
       "      <th></th>\n",
       "      <th>CID</th>\n",
       "      <th>STAGE_BEF</th>\n",
       "      <th>STAGE_AFT</th>\n",
       "      <th>START_DATE</th>\n",
       "      <th>CLOSE_DATE</th>\n",
       "    </tr>\n",
       "  </thead>\n",
       "  <tbody>\n",
       "    <tr>\n",
       "      <th>count</th>\n",
       "      <td>1813157</td>\n",
       "      <td>1663660</td>\n",
       "      <td>1663660</td>\n",
       "      <td>1.663660e+06</td>\n",
       "      <td>1.663660e+06</td>\n",
       "    </tr>\n",
       "    <tr>\n",
       "      <th>unique</th>\n",
       "      <td>388259</td>\n",
       "      <td>10</td>\n",
       "      <td>10</td>\n",
       "      <td>NaN</td>\n",
       "      <td>NaN</td>\n",
       "    </tr>\n",
       "    <tr>\n",
       "      <th>top</th>\n",
       "      <td>CID0373971</td>\n",
       "      <td></td>\n",
       "      <td>M0</td>\n",
       "      <td>NaN</td>\n",
       "      <td>NaN</td>\n",
       "    </tr>\n",
       "    <tr>\n",
       "      <th>freq</th>\n",
       "      <td>74</td>\n",
       "      <td>1107267</td>\n",
       "      <td>1107267</td>\n",
       "      <td>NaN</td>\n",
       "      <td>NaN</td>\n",
       "    </tr>\n",
       "    <tr>\n",
       "      <th>mean</th>\n",
       "      <td>NaN</td>\n",
       "      <td>NaN</td>\n",
       "      <td>NaN</td>\n",
       "      <td>2.017035e+07</td>\n",
       "      <td>1.982646e+07</td>\n",
       "    </tr>\n",
       "    <tr>\n",
       "      <th>std</th>\n",
       "      <td>NaN</td>\n",
       "      <td>NaN</td>\n",
       "      <td>NaN</td>\n",
       "      <td>8.220957e+03</td>\n",
       "      <td>2.611156e+06</td>\n",
       "    </tr>\n",
       "    <tr>\n",
       "      <th>min</th>\n",
       "      <td>NaN</td>\n",
       "      <td>NaN</td>\n",
       "      <td>NaN</td>\n",
       "      <td>2.015030e+07</td>\n",
       "      <td>0.000000e+00</td>\n",
       "    </tr>\n",
       "    <tr>\n",
       "      <th>25%</th>\n",
       "      <td>NaN</td>\n",
       "      <td>NaN</td>\n",
       "      <td>NaN</td>\n",
       "      <td>2.016120e+07</td>\n",
       "      <td>2.016120e+07</td>\n",
       "    </tr>\n",
       "    <tr>\n",
       "      <th>50%</th>\n",
       "      <td>NaN</td>\n",
       "      <td>NaN</td>\n",
       "      <td>NaN</td>\n",
       "      <td>2.017080e+07</td>\n",
       "      <td>2.017073e+07</td>\n",
       "    </tr>\n",
       "    <tr>\n",
       "      <th>75%</th>\n",
       "      <td>NaN</td>\n",
       "      <td>NaN</td>\n",
       "      <td>NaN</td>\n",
       "      <td>2.018010e+07</td>\n",
       "      <td>2.018010e+07</td>\n",
       "    </tr>\n",
       "    <tr>\n",
       "      <th>max</th>\n",
       "      <td>NaN</td>\n",
       "      <td>NaN</td>\n",
       "      <td>NaN</td>\n",
       "      <td>2.018053e+07</td>\n",
       "      <td>2.018053e+07</td>\n",
       "    </tr>\n",
       "  </tbody>\n",
       "</table>\n",
       "</div>"
      ],
      "text/plain": [
       "               CID STAGE_BEF STAGE_AFT    START_DATE    CLOSE_DATE\n",
       "count      1813157   1663660   1663660  1.663660e+06  1.663660e+06\n",
       "unique      388259        10        10           NaN           NaN\n",
       "top     CID0373971                  M0           NaN           NaN\n",
       "freq            74   1107267   1107267           NaN           NaN\n",
       "mean           NaN       NaN       NaN  2.017035e+07  1.982646e+07\n",
       "std            NaN       NaN       NaN  8.220957e+03  2.611156e+06\n",
       "min            NaN       NaN       NaN  2.015030e+07  0.000000e+00\n",
       "25%            NaN       NaN       NaN  2.016120e+07  2.016120e+07\n",
       "50%            NaN       NaN       NaN  2.017080e+07  2.017073e+07\n",
       "75%            NaN       NaN       NaN  2.018010e+07  2.018010e+07\n",
       "max            NaN       NaN       NaN  2.018053e+07  2.018053e+07"
      ]
     },
     "execution_count": 4,
     "metadata": {},
     "output_type": "execute_result"
    }
   ],
   "source": [
    "sample_window.describe(include=\"all\")"
   ]
  },
  {
   "cell_type": "markdown",
   "metadata": {},
   "source": [
    "- 描述结果中发现最后一列即本阶段结束时间最小值为0,由于包含缺失值,故需要先处理缺失值再处理异常值0"
   ]
  },
  {
   "cell_type": "markdown",
   "metadata": {},
   "source": [
    "查看各列缺失值占比"
   ]
  },
  {
   "cell_type": "code",
   "execution_count": 5,
   "metadata": {},
   "outputs": [
    {
     "data": {
      "text/plain": [
       "CID           0.000000\n",
       "STAGE_BEF     0.082451\n",
       "STAGE_AFT     0.082451\n",
       "START_DATE    0.082451\n",
       "CLOSE_DATE    0.082451\n",
       "dtype: float64"
      ]
     },
     "execution_count": 5,
     "metadata": {},
     "output_type": "execute_result"
    }
   ],
   "source": [
    "sample_window.isnull().mean()"
   ]
  },
  {
   "cell_type": "markdown",
   "metadata": {},
   "source": [
    "- isnull:判断是否是缺失值,返回布尔型的对象"
   ]
  },
  {
   "cell_type": "markdown",
   "metadata": {},
   "source": [
    "### 数据清洗"
   ]
  },
  {
   "cell_type": "markdown",
   "metadata": {},
   "source": [
    "#### 去重\n",
    "\n",
    "- 对于一般模型影响不大,容易导致回归系数标准误降低,使得对应p值减小"
   ]
  },
  {
   "cell_type": "code",
   "execution_count": 6,
   "metadata": {},
   "outputs": [
    {
     "data": {
      "text/plain": [
       "(1813157, 5)"
      ]
     },
     "execution_count": 6,
     "metadata": {},
     "output_type": "execute_result"
    }
   ],
   "source": [
    "sample_window.drop_duplicates(inplace=True)\n",
    "sample_window.shape"
   ]
  },
  {
   "cell_type": "markdown",
   "metadata": {},
   "source": [
    "- drop_duplicates是数据框去重的函数,可以根据指定的若干列(subset=)去重"
   ]
  },
  {
   "cell_type": "markdown",
   "metadata": {},
   "source": [
    "#### 缺失值处理: \n",
    "\n",
    "- 后四列缺失值占比都接近8%,可以验证后四列的缺失值是否在同一行,如果在同一行则可以删除缺失值所在的行"
   ]
  },
  {
   "cell_type": "markdown",
   "metadata": {},
   "source": [
    "通过观察有四个缺失值的行的占比是否等于0.082451,确定四列的缺失值是否都在同一行上"
   ]
  },
  {
   "cell_type": "code",
   "execution_count": 7,
   "metadata": {},
   "outputs": [
    {
     "data": {
      "text/plain": [
       "0.08245121630393838"
      ]
     },
     "execution_count": 7,
     "metadata": {},
     "output_type": "execute_result"
    }
   ],
   "source": [
    "np.mean(sample_window.isnull().sum(axis=1) == 4)"
   ]
  },
  {
   "cell_type": "markdown",
   "metadata": {},
   "source": [
    "去除缺失值所在的行"
   ]
  },
  {
   "cell_type": "code",
   "execution_count": 8,
   "metadata": {
    "scrolled": true
   },
   "outputs": [
    {
     "data": {
      "text/plain": [
       "(1663660, 5)"
      ]
     },
     "execution_count": 8,
     "metadata": {},
     "output_type": "execute_result"
    }
   ],
   "source": [
    "sample_window.dropna(inplace=True)\n",
    "# dropna默认删除包含缺失值的所有行\n",
    "sample_window.shape"
   ]
  },
  {
   "cell_type": "markdown",
   "metadata": {},
   "source": [
    "#### 异常值处理:\n",
    "\n",
    "- 本阶段结束时间中:最小值为0,属于异常值,这里将不确定的时间修改为截至日期即2018年5月31日"
   ]
  },
  {
   "cell_type": "code",
   "execution_count": 9,
   "metadata": {},
   "outputs": [],
   "source": [
    "sample_window.CLOSE_DATE.replace({0.:20180531.},inplace=True)"
   ]
  },
  {
   "cell_type": "markdown",
   "metadata": {},
   "source": [
    "- replace:替换数据框中的指定值,输入字典,键是被替换值,值是替换值"
   ]
  },
  {
   "cell_type": "markdown",
   "metadata": {},
   "source": [
    "#### 生成衍生变量:\n",
    "\n",
    "- 从数据中的进入本阶段时间和本阶段结束时间(4,5列)抽取对应的月份信息\n",
    "- 从本阶段进入的逾期阶段(3列)中抽取逾期指标"
   ]
  },
  {
   "cell_type": "code",
   "execution_count": 10,
   "metadata": {},
   "outputs": [],
   "source": [
    "sample_window[[\"START_MONTH\",\"CLOSE_MONTH\"]] = sample_window[\n",
    "    [\"START_DATE\",\"CLOSE_DATE\"]].apply(lambda x: x//100).astype(int)\n",
    "sample_window[\"AFT_FLAG\"] = sample_window.STAGE_AFT.apply(lambda x: int(x[1:]))"
   ]
  },
  {
   "cell_type": "markdown",
   "metadata": {},
   "source": [
    "- apply:对数据框的每列执行指定的函数\n",
    "- astype:转换数据框的对象类型"
   ]
  },
  {
   "cell_type": "code",
   "execution_count": 11,
   "metadata": {},
   "outputs": [
    {
     "data": {
      "text/html": [
       "<div>\n",
       "<style scoped>\n",
       "    .dataframe tbody tr th:only-of-type {\n",
       "        vertical-align: middle;\n",
       "    }\n",
       "\n",
       "    .dataframe tbody tr th {\n",
       "        vertical-align: top;\n",
       "    }\n",
       "\n",
       "    .dataframe thead th {\n",
       "        text-align: right;\n",
       "    }\n",
       "</style>\n",
       "<table border=\"1\" class=\"dataframe\">\n",
       "  <thead>\n",
       "    <tr style=\"text-align: right;\">\n",
       "      <th></th>\n",
       "      <th>CID</th>\n",
       "      <th>STAGE_BEF</th>\n",
       "      <th>STAGE_AFT</th>\n",
       "      <th>START_DATE</th>\n",
       "      <th>CLOSE_DATE</th>\n",
       "      <th>START_MONTH</th>\n",
       "      <th>CLOSE_MONTH</th>\n",
       "      <th>AFT_FLAG</th>\n",
       "    </tr>\n",
       "  </thead>\n",
       "  <tbody>\n",
       "    <tr>\n",
       "      <th>0</th>\n",
       "      <td>CID0128273</td>\n",
       "      <td></td>\n",
       "      <td>M0</td>\n",
       "      <td>20170701.0</td>\n",
       "      <td>20170703.0</td>\n",
       "      <td>201707</td>\n",
       "      <td>201707</td>\n",
       "      <td>0</td>\n",
       "    </tr>\n",
       "    <tr>\n",
       "      <th>1</th>\n",
       "      <td>CID0214787</td>\n",
       "      <td></td>\n",
       "      <td>M0</td>\n",
       "      <td>20180201.0</td>\n",
       "      <td>20180204.0</td>\n",
       "      <td>201802</td>\n",
       "      <td>201802</td>\n",
       "      <td>0</td>\n",
       "    </tr>\n",
       "    <tr>\n",
       "      <th>2</th>\n",
       "      <td>CID0287932</td>\n",
       "      <td>M4</td>\n",
       "      <td>M5</td>\n",
       "      <td>20180501.0</td>\n",
       "      <td>20180531.0</td>\n",
       "      <td>201805</td>\n",
       "      <td>201805</td>\n",
       "      <td>5</td>\n",
       "    </tr>\n",
       "    <tr>\n",
       "      <th>3</th>\n",
       "      <td>CID0351850</td>\n",
       "      <td></td>\n",
       "      <td>M0</td>\n",
       "      <td>20161002.0</td>\n",
       "      <td>20161005.0</td>\n",
       "      <td>201610</td>\n",
       "      <td>201610</td>\n",
       "      <td>0</td>\n",
       "    </tr>\n",
       "    <tr>\n",
       "      <th>4</th>\n",
       "      <td>CID0217310</td>\n",
       "      <td></td>\n",
       "      <td>M0</td>\n",
       "      <td>20150601.0</td>\n",
       "      <td>20150602.0</td>\n",
       "      <td>201506</td>\n",
       "      <td>201506</td>\n",
       "      <td>0</td>\n",
       "    </tr>\n",
       "  </tbody>\n",
       "</table>\n",
       "</div>"
      ],
      "text/plain": [
       "          CID STAGE_BEF STAGE_AFT  START_DATE  CLOSE_DATE  START_MONTH  \\\n",
       "0  CID0128273                  M0  20170701.0  20170703.0       201707   \n",
       "1  CID0214787                  M0  20180201.0  20180204.0       201802   \n",
       "2  CID0287932        M4        M5  20180501.0  20180531.0       201805   \n",
       "3  CID0351850                  M0  20161002.0  20161005.0       201610   \n",
       "4  CID0217310                  M0  20150601.0  20150602.0       201506   \n",
       "\n",
       "   CLOSE_MONTH  AFT_FLAG  \n",
       "0       201707         0  \n",
       "1       201802         0  \n",
       "2       201805         5  \n",
       "3       201610         0  \n",
       "4       201506         0  "
      ]
     },
     "execution_count": 11,
     "metadata": {},
     "output_type": "execute_result"
    }
   ],
   "source": [
    "sample_window.head()"
   ]
  },
  {
   "cell_type": "code",
   "execution_count": 12,
   "metadata": {},
   "outputs": [
    {
     "data": {
      "text/html": [
       "<div>\n",
       "<style scoped>\n",
       "    .dataframe tbody tr th:only-of-type {\n",
       "        vertical-align: middle;\n",
       "    }\n",
       "\n",
       "    .dataframe tbody tr th {\n",
       "        vertical-align: top;\n",
       "    }\n",
       "\n",
       "    .dataframe thead th {\n",
       "        text-align: right;\n",
       "    }\n",
       "</style>\n",
       "<table border=\"1\" class=\"dataframe\">\n",
       "  <thead>\n",
       "    <tr style=\"text-align: right;\">\n",
       "      <th></th>\n",
       "      <th>START_DATE</th>\n",
       "      <th>CLOSE_DATE</th>\n",
       "      <th>START_MONTH</th>\n",
       "      <th>CLOSE_MONTH</th>\n",
       "      <th>AFT_FLAG</th>\n",
       "    </tr>\n",
       "  </thead>\n",
       "  <tbody>\n",
       "    <tr>\n",
       "      <th>count</th>\n",
       "      <td>1.663660e+06</td>\n",
       "      <td>1.663660e+06</td>\n",
       "      <td>1.663660e+06</td>\n",
       "      <td>1.663660e+06</td>\n",
       "      <td>1.663660e+06</td>\n",
       "    </tr>\n",
       "    <tr>\n",
       "      <th>mean</th>\n",
       "      <td>2.017035e+07</td>\n",
       "      <td>2.017052e+07</td>\n",
       "      <td>2.017035e+05</td>\n",
       "      <td>2.017051e+05</td>\n",
       "      <td>7.400304e-01</td>\n",
       "    </tr>\n",
       "    <tr>\n",
       "      <th>std</th>\n",
       "      <td>8.220957e+03</td>\n",
       "      <td>8.251640e+03</td>\n",
       "      <td>8.221037e+01</td>\n",
       "      <td>8.251215e+01</td>\n",
       "      <td>1.627142e+00</td>\n",
       "    </tr>\n",
       "    <tr>\n",
       "      <th>min</th>\n",
       "      <td>2.015030e+07</td>\n",
       "      <td>2.015030e+07</td>\n",
       "      <td>2.015030e+05</td>\n",
       "      <td>2.015030e+05</td>\n",
       "      <td>0.000000e+00</td>\n",
       "    </tr>\n",
       "    <tr>\n",
       "      <th>25%</th>\n",
       "      <td>2.016120e+07</td>\n",
       "      <td>2.016121e+07</td>\n",
       "      <td>2.016120e+05</td>\n",
       "      <td>2.016120e+05</td>\n",
       "      <td>0.000000e+00</td>\n",
       "    </tr>\n",
       "    <tr>\n",
       "      <th>50%</th>\n",
       "      <td>2.017080e+07</td>\n",
       "      <td>2.017080e+07</td>\n",
       "      <td>2.017080e+05</td>\n",
       "      <td>2.017080e+05</td>\n",
       "      <td>0.000000e+00</td>\n",
       "    </tr>\n",
       "    <tr>\n",
       "      <th>75%</th>\n",
       "      <td>2.018010e+07</td>\n",
       "      <td>2.018013e+07</td>\n",
       "      <td>2.018010e+05</td>\n",
       "      <td>2.018010e+05</td>\n",
       "      <td>1.000000e+00</td>\n",
       "    </tr>\n",
       "    <tr>\n",
       "      <th>max</th>\n",
       "      <td>2.018053e+07</td>\n",
       "      <td>2.018053e+07</td>\n",
       "      <td>2.018050e+05</td>\n",
       "      <td>2.018050e+05</td>\n",
       "      <td>9.000000e+00</td>\n",
       "    </tr>\n",
       "  </tbody>\n",
       "</table>\n",
       "</div>"
      ],
      "text/plain": [
       "         START_DATE    CLOSE_DATE   START_MONTH   CLOSE_MONTH      AFT_FLAG\n",
       "count  1.663660e+06  1.663660e+06  1.663660e+06  1.663660e+06  1.663660e+06\n",
       "mean   2.017035e+07  2.017052e+07  2.017035e+05  2.017051e+05  7.400304e-01\n",
       "std    8.220957e+03  8.251640e+03  8.221037e+01  8.251215e+01  1.627142e+00\n",
       "min    2.015030e+07  2.015030e+07  2.015030e+05  2.015030e+05  0.000000e+00\n",
       "25%    2.016120e+07  2.016121e+07  2.016120e+05  2.016120e+05  0.000000e+00\n",
       "50%    2.017080e+07  2.017080e+07  2.017080e+05  2.017080e+05  0.000000e+00\n",
       "75%    2.018010e+07  2.018013e+07  2.018010e+05  2.018010e+05  1.000000e+00\n",
       "max    2.018053e+07  2.018053e+07  2.018050e+05  2.018050e+05  9.000000e+00"
      ]
     },
     "execution_count": 12,
     "metadata": {},
     "output_type": "execute_result"
    }
   ],
   "source": [
    "sample_window.describe()"
   ]
  },
  {
   "cell_type": "markdown",
   "metadata": {},
   "source": [
    "### 构建矩阵\n",
    "\n",
    "- 这里的**矩阵**表示: 相继时间内逾期状态的变化情况,相继时间表示从一个月到下一个月\n",
    "- 每一行表示开始月份时的逾期状态,每一列表示结束月份时的逾期状态\n",
    "- 开始月份和结束月份是相继的,即间隔一个月\n",
    "\n",
    "#### 构建逻辑:\n",
    "\n",
    "1. 每一行数据对应一个本阶段的逾期状态,对应两个月份时间:进入本阶段时间和本阶段结束时间\n",
    "    - 可以将这两个时间都理解为逾期状态对应的时间,即逾期时间\n",
    "    - 生成**逾期状态数据框**,每行对应三列:id,逾期状态,逾期时间(包含进入本阶段时间和本阶段结束时间)\n",
    "2. 将**逾期状态数据框**内转置,生成**时间数据框**:行是id,列是逾期时间\n",
    "    - 转置前事先对数据排序,去重,保留同ID,同时间下逾期状态的最大值\n",
    "3. 使用**时间数据框**:由于列是已经排序的两列,取前后相继的两列,即相继的两个月,统计逾期状态变化的频数,得到所有相继两列状态变化的频数\n",
    "    - 根据统计的频数,构建**矩阵**,行表示相继时间中开始时间对应的逾期状态,列表示结束时间对应的逾期状态\n",
    "4. 使用得到的矩阵,生成新列:\n",
    "    - 每个状态所有可能的变化,即行和\n",
    "    - 每个状态所有不好的变化,即表示状态的数字变大\n",
    "    - 每个状态不好的变化的占比,即不好的变化除以所有可能的变化"
   ]
  },
  {
   "cell_type": "markdown",
   "metadata": {},
   "source": [
    "#### 生成逾期状态数据框:"
   ]
  },
  {
   "cell_type": "code",
   "execution_count": 13,
   "metadata": {},
   "outputs": [],
   "source": [
    "overdue = sample_window.iloc[:,[0,5,7]].rename(\n",
    "        columns={\"START_MONTH\":\"CLOSE_MONTH\"}).append(\n",
    "                sample_window.iloc[:,[0,6,7]],ignore_index=True,sort=False)"
   ]
  },
  {
   "cell_type": "markdown",
   "metadata": {},
   "source": [
    "- rename:改变轴标签, 给index或columns赋值函数或者字典,函数的输入输出必须是1对1的\n",
    "- append:用于行合并, 对应列名合并,列名不同填充NaN,ignore_index表示忽略原始索引,sort表示合并时是否排序"
   ]
  },
  {
   "cell_type": "code",
   "execution_count": 14,
   "metadata": {},
   "outputs": [
    {
     "data": {
      "text/html": [
       "<div>\n",
       "<style scoped>\n",
       "    .dataframe tbody tr th:only-of-type {\n",
       "        vertical-align: middle;\n",
       "    }\n",
       "\n",
       "    .dataframe tbody tr th {\n",
       "        vertical-align: top;\n",
       "    }\n",
       "\n",
       "    .dataframe thead th {\n",
       "        text-align: right;\n",
       "    }\n",
       "</style>\n",
       "<table border=\"1\" class=\"dataframe\">\n",
       "  <thead>\n",
       "    <tr style=\"text-align: right;\">\n",
       "      <th></th>\n",
       "      <th>CID</th>\n",
       "      <th>CLOSE_MONTH</th>\n",
       "      <th>AFT_FLAG</th>\n",
       "    </tr>\n",
       "  </thead>\n",
       "  <tbody>\n",
       "    <tr>\n",
       "      <th>0</th>\n",
       "      <td>CID0128273</td>\n",
       "      <td>201707</td>\n",
       "      <td>0</td>\n",
       "    </tr>\n",
       "    <tr>\n",
       "      <th>1</th>\n",
       "      <td>CID0214787</td>\n",
       "      <td>201802</td>\n",
       "      <td>0</td>\n",
       "    </tr>\n",
       "    <tr>\n",
       "      <th>2</th>\n",
       "      <td>CID0287932</td>\n",
       "      <td>201805</td>\n",
       "      <td>5</td>\n",
       "    </tr>\n",
       "    <tr>\n",
       "      <th>3</th>\n",
       "      <td>CID0351850</td>\n",
       "      <td>201610</td>\n",
       "      <td>0</td>\n",
       "    </tr>\n",
       "    <tr>\n",
       "      <th>4</th>\n",
       "      <td>CID0217310</td>\n",
       "      <td>201506</td>\n",
       "      <td>0</td>\n",
       "    </tr>\n",
       "  </tbody>\n",
       "</table>\n",
       "</div>"
      ],
      "text/plain": [
       "          CID  CLOSE_MONTH  AFT_FLAG\n",
       "0  CID0128273       201707         0\n",
       "1  CID0214787       201802         0\n",
       "2  CID0287932       201805         5\n",
       "3  CID0351850       201610         0\n",
       "4  CID0217310       201506         0"
      ]
     },
     "execution_count": 14,
     "metadata": {},
     "output_type": "execute_result"
    }
   ],
   "source": [
    "overdue.head()"
   ]
  },
  {
   "cell_type": "markdown",
   "metadata": {},
   "source": [
    "#### 生成时间数据框:"
   ]
  },
  {
   "cell_type": "code",
   "execution_count": 15,
   "metadata": {},
   "outputs": [],
   "source": [
    "overdue = overdue.sort_values(by=[\"CID\",\"CLOSE_MONTH\",\"AFT_FLAG\"\n",
    "                        ]).drop_duplicates([\"CID\",\"CLOSE_MONTH\"],keep=\"last\")"
   ]
  },
  {
   "cell_type": "markdown",
   "metadata": {},
   "source": [
    "排序和去重:\n",
    "\n",
    "- sort_values:依据值排序,缺失值默认在末尾.依据指定列进行排序,设置by=一列或多列(列表)列名即可\n",
    "- drop_duplicates:根据若干列去重, 设置subset指定列,keep表示要保留的数据,可选\"first\",\"last\",False(表示去掉所有重复的行)"
   ]
  },
  {
   "cell_type": "code",
   "execution_count": 16,
   "metadata": {},
   "outputs": [],
   "source": [
    "overdue = overdue.set_index([\"CID\",\"CLOSE_MONTH\"]).unstack(1)"
   ]
  },
  {
   "cell_type": "markdown",
   "metadata": {},
   "source": [
    "- set_index:给出若干列,将列作为行索引(每行可以有多个索引)\n",
    "- unstack:level=-1, fill_value=None, 第一个参数表示以哪列索引作为列, 默认最后一列, 相当于以选定的索引列作为列名, 其他作为行名"
   ]
  },
  {
   "cell_type": "code",
   "execution_count": 17,
   "metadata": {},
   "outputs": [
    {
     "data": {
      "text/html": [
       "<div>\n",
       "<style scoped>\n",
       "    .dataframe tbody tr th:only-of-type {\n",
       "        vertical-align: middle;\n",
       "    }\n",
       "\n",
       "    .dataframe tbody tr th {\n",
       "        vertical-align: top;\n",
       "    }\n",
       "\n",
       "    .dataframe thead tr th {\n",
       "        text-align: left;\n",
       "    }\n",
       "\n",
       "    .dataframe thead tr:last-of-type th {\n",
       "        text-align: right;\n",
       "    }\n",
       "</style>\n",
       "<table border=\"1\" class=\"dataframe\">\n",
       "  <thead>\n",
       "    <tr>\n",
       "      <th></th>\n",
       "      <th colspan=\"21\" halign=\"left\">AFT_FLAG</th>\n",
       "    </tr>\n",
       "    <tr>\n",
       "      <th>CLOSE_MONTH</th>\n",
       "      <th>201503</th>\n",
       "      <th>201504</th>\n",
       "      <th>201505</th>\n",
       "      <th>201506</th>\n",
       "      <th>201507</th>\n",
       "      <th>201508</th>\n",
       "      <th>201509</th>\n",
       "      <th>201510</th>\n",
       "      <th>201511</th>\n",
       "      <th>201512</th>\n",
       "      <th>...</th>\n",
       "      <th>201708</th>\n",
       "      <th>201709</th>\n",
       "      <th>201710</th>\n",
       "      <th>201711</th>\n",
       "      <th>201712</th>\n",
       "      <th>201801</th>\n",
       "      <th>201802</th>\n",
       "      <th>201803</th>\n",
       "      <th>201804</th>\n",
       "      <th>201805</th>\n",
       "    </tr>\n",
       "    <tr>\n",
       "      <th>CID</th>\n",
       "      <th></th>\n",
       "      <th></th>\n",
       "      <th></th>\n",
       "      <th></th>\n",
       "      <th></th>\n",
       "      <th></th>\n",
       "      <th></th>\n",
       "      <th></th>\n",
       "      <th></th>\n",
       "      <th></th>\n",
       "      <th></th>\n",
       "      <th></th>\n",
       "      <th></th>\n",
       "      <th></th>\n",
       "      <th></th>\n",
       "      <th></th>\n",
       "      <th></th>\n",
       "      <th></th>\n",
       "      <th></th>\n",
       "      <th></th>\n",
       "      <th></th>\n",
       "    </tr>\n",
       "  </thead>\n",
       "  <tbody>\n",
       "    <tr>\n",
       "      <th>CID0000000</th>\n",
       "      <td>NaN</td>\n",
       "      <td>NaN</td>\n",
       "      <td>NaN</td>\n",
       "      <td>NaN</td>\n",
       "      <td>NaN</td>\n",
       "      <td>NaN</td>\n",
       "      <td>NaN</td>\n",
       "      <td>NaN</td>\n",
       "      <td>NaN</td>\n",
       "      <td>NaN</td>\n",
       "      <td>...</td>\n",
       "      <td>NaN</td>\n",
       "      <td>NaN</td>\n",
       "      <td>NaN</td>\n",
       "      <td>NaN</td>\n",
       "      <td>NaN</td>\n",
       "      <td>NaN</td>\n",
       "      <td>NaN</td>\n",
       "      <td>NaN</td>\n",
       "      <td>NaN</td>\n",
       "      <td>NaN</td>\n",
       "    </tr>\n",
       "    <tr>\n",
       "      <th>CID0000001</th>\n",
       "      <td>NaN</td>\n",
       "      <td>NaN</td>\n",
       "      <td>NaN</td>\n",
       "      <td>NaN</td>\n",
       "      <td>NaN</td>\n",
       "      <td>NaN</td>\n",
       "      <td>NaN</td>\n",
       "      <td>0.0</td>\n",
       "      <td>NaN</td>\n",
       "      <td>0.0</td>\n",
       "      <td>...</td>\n",
       "      <td>NaN</td>\n",
       "      <td>NaN</td>\n",
       "      <td>NaN</td>\n",
       "      <td>NaN</td>\n",
       "      <td>NaN</td>\n",
       "      <td>NaN</td>\n",
       "      <td>NaN</td>\n",
       "      <td>NaN</td>\n",
       "      <td>NaN</td>\n",
       "      <td>NaN</td>\n",
       "    </tr>\n",
       "    <tr>\n",
       "      <th>CID0000003</th>\n",
       "      <td>NaN</td>\n",
       "      <td>NaN</td>\n",
       "      <td>NaN</td>\n",
       "      <td>NaN</td>\n",
       "      <td>NaN</td>\n",
       "      <td>NaN</td>\n",
       "      <td>NaN</td>\n",
       "      <td>NaN</td>\n",
       "      <td>NaN</td>\n",
       "      <td>NaN</td>\n",
       "      <td>...</td>\n",
       "      <td>NaN</td>\n",
       "      <td>NaN</td>\n",
       "      <td>NaN</td>\n",
       "      <td>NaN</td>\n",
       "      <td>0.0</td>\n",
       "      <td>0.0</td>\n",
       "      <td>0.0</td>\n",
       "      <td>NaN</td>\n",
       "      <td>NaN</td>\n",
       "      <td>NaN</td>\n",
       "    </tr>\n",
       "    <tr>\n",
       "      <th>CID0000004</th>\n",
       "      <td>NaN</td>\n",
       "      <td>NaN</td>\n",
       "      <td>NaN</td>\n",
       "      <td>NaN</td>\n",
       "      <td>NaN</td>\n",
       "      <td>NaN</td>\n",
       "      <td>NaN</td>\n",
       "      <td>0.0</td>\n",
       "      <td>NaN</td>\n",
       "      <td>0.0</td>\n",
       "      <td>...</td>\n",
       "      <td>0.0</td>\n",
       "      <td>NaN</td>\n",
       "      <td>0.0</td>\n",
       "      <td>NaN</td>\n",
       "      <td>1.0</td>\n",
       "      <td>0.0</td>\n",
       "      <td>0.0</td>\n",
       "      <td>0.0</td>\n",
       "      <td>0.0</td>\n",
       "      <td>NaN</td>\n",
       "    </tr>\n",
       "    <tr>\n",
       "      <th>CID0000006</th>\n",
       "      <td>NaN</td>\n",
       "      <td>NaN</td>\n",
       "      <td>NaN</td>\n",
       "      <td>NaN</td>\n",
       "      <td>NaN</td>\n",
       "      <td>NaN</td>\n",
       "      <td>NaN</td>\n",
       "      <td>NaN</td>\n",
       "      <td>NaN</td>\n",
       "      <td>NaN</td>\n",
       "      <td>...</td>\n",
       "      <td>NaN</td>\n",
       "      <td>NaN</td>\n",
       "      <td>NaN</td>\n",
       "      <td>NaN</td>\n",
       "      <td>NaN</td>\n",
       "      <td>NaN</td>\n",
       "      <td>NaN</td>\n",
       "      <td>NaN</td>\n",
       "      <td>NaN</td>\n",
       "      <td>0.0</td>\n",
       "    </tr>\n",
       "  </tbody>\n",
       "</table>\n",
       "<p>5 rows × 39 columns</p>\n",
       "</div>"
      ],
      "text/plain": [
       "            AFT_FLAG                                                          \\\n",
       "CLOSE_MONTH   201503 201504 201505 201506 201507 201508 201509 201510 201511   \n",
       "CID                                                                            \n",
       "CID0000000       NaN    NaN    NaN    NaN    NaN    NaN    NaN    NaN    NaN   \n",
       "CID0000001       NaN    NaN    NaN    NaN    NaN    NaN    NaN    0.0    NaN   \n",
       "CID0000003       NaN    NaN    NaN    NaN    NaN    NaN    NaN    NaN    NaN   \n",
       "CID0000004       NaN    NaN    NaN    NaN    NaN    NaN    NaN    0.0    NaN   \n",
       "CID0000006       NaN    NaN    NaN    NaN    NaN    NaN    NaN    NaN    NaN   \n",
       "\n",
       "                    ...                                                   \\\n",
       "CLOSE_MONTH 201512  ... 201708 201709 201710 201711 201712 201801 201802   \n",
       "CID                 ...                                                    \n",
       "CID0000000     NaN  ...    NaN    NaN    NaN    NaN    NaN    NaN    NaN   \n",
       "CID0000001     0.0  ...    NaN    NaN    NaN    NaN    NaN    NaN    NaN   \n",
       "CID0000003     NaN  ...    NaN    NaN    NaN    NaN    0.0    0.0    0.0   \n",
       "CID0000004     0.0  ...    0.0    NaN    0.0    NaN    1.0    0.0    0.0   \n",
       "CID0000006     NaN  ...    NaN    NaN    NaN    NaN    NaN    NaN    NaN   \n",
       "\n",
       "                                  \n",
       "CLOSE_MONTH 201803 201804 201805  \n",
       "CID                               \n",
       "CID0000000     NaN    NaN    NaN  \n",
       "CID0000001     NaN    NaN    NaN  \n",
       "CID0000003     NaN    NaN    NaN  \n",
       "CID0000004     0.0    0.0    NaN  \n",
       "CID0000006     NaN    NaN    0.0  \n",
       "\n",
       "[5 rows x 39 columns]"
      ]
     },
     "execution_count": 17,
     "metadata": {},
     "output_type": "execute_result"
    }
   ],
   "source": [
    "overdue.head()"
   ]
  },
  {
   "cell_type": "markdown",
   "metadata": {},
   "source": [
    "发现列索引是多重索引,即有两个索引,进一步查看列索引如下"
   ]
  },
  {
   "cell_type": "code",
   "execution_count": 18,
   "metadata": {
    "scrolled": true
   },
   "outputs": [
    {
     "data": {
      "text/plain": [
       "MultiIndex(levels=[['AFT_FLAG'], [201503, 201504, 201505, 201506, 201507, 201508, 201509, 201510, 201511, 201512, 201601, 201602, 201603, 201604, 201605, 201606, 201607, 201608, 201609, 201610, 201611, 201612, 201701, 201702, 201703, 201704, 201705, 201706, 201707, 201708, 201709, 201710, 201711, 201712, 201801, 201802, 201803, 201804, 201805]],\n",
       "           codes=[[0, 0, 0, 0, 0, 0, 0, 0, 0, 0, 0, 0, 0, 0, 0, 0, 0, 0, 0, 0, 0, 0, 0, 0, 0, 0, 0, 0, 0, 0, 0, 0, 0, 0, 0, 0, 0, 0, 0], [0, 1, 2, 3, 4, 5, 6, 7, 8, 9, 10, 11, 12, 13, 14, 15, 16, 17, 18, 19, 20, 21, 22, 23, 24, 25, 26, 27, 28, 29, 30, 31, 32, 33, 34, 35, 36, 37, 38]],\n",
       "           names=[None, 'CLOSE_MONTH'])"
      ]
     },
     "execution_count": 18,
     "metadata": {},
     "output_type": "execute_result"
    }
   ],
   "source": [
    "overdue.columns"
   ]
  },
  {
   "cell_type": "markdown",
   "metadata": {},
   "source": [
    "删除其中的第一个索引,名字为None,等级为\"AFT_FLAG\"的索引"
   ]
  },
  {
   "cell_type": "code",
   "execution_count": 19,
   "metadata": {
    "scrolled": true
   },
   "outputs": [],
   "source": [
    "overdue.columns = overdue.columns.droplevel()"
   ]
  },
  {
   "cell_type": "markdown",
   "metadata": {},
   "source": [
    "- droplevel:删除多重索引中指定的某些索引, 例如行索引有两列, 删除指定列,参数axis默认为0表示行"
   ]
  },
  {
   "cell_type": "code",
   "execution_count": 20,
   "metadata": {
    "scrolled": true
   },
   "outputs": [
    {
     "data": {
      "text/html": [
       "<div>\n",
       "<style scoped>\n",
       "    .dataframe tbody tr th:only-of-type {\n",
       "        vertical-align: middle;\n",
       "    }\n",
       "\n",
       "    .dataframe tbody tr th {\n",
       "        vertical-align: top;\n",
       "    }\n",
       "\n",
       "    .dataframe thead th {\n",
       "        text-align: right;\n",
       "    }\n",
       "</style>\n",
       "<table border=\"1\" class=\"dataframe\">\n",
       "  <thead>\n",
       "    <tr style=\"text-align: right;\">\n",
       "      <th>CLOSE_MONTH</th>\n",
       "      <th>201503</th>\n",
       "      <th>201504</th>\n",
       "      <th>201505</th>\n",
       "      <th>201506</th>\n",
       "      <th>201507</th>\n",
       "      <th>201508</th>\n",
       "      <th>201509</th>\n",
       "      <th>201510</th>\n",
       "      <th>201511</th>\n",
       "      <th>201512</th>\n",
       "      <th>...</th>\n",
       "      <th>201708</th>\n",
       "      <th>201709</th>\n",
       "      <th>201710</th>\n",
       "      <th>201711</th>\n",
       "      <th>201712</th>\n",
       "      <th>201801</th>\n",
       "      <th>201802</th>\n",
       "      <th>201803</th>\n",
       "      <th>201804</th>\n",
       "      <th>201805</th>\n",
       "    </tr>\n",
       "    <tr>\n",
       "      <th>CID</th>\n",
       "      <th></th>\n",
       "      <th></th>\n",
       "      <th></th>\n",
       "      <th></th>\n",
       "      <th></th>\n",
       "      <th></th>\n",
       "      <th></th>\n",
       "      <th></th>\n",
       "      <th></th>\n",
       "      <th></th>\n",
       "      <th></th>\n",
       "      <th></th>\n",
       "      <th></th>\n",
       "      <th></th>\n",
       "      <th></th>\n",
       "      <th></th>\n",
       "      <th></th>\n",
       "      <th></th>\n",
       "      <th></th>\n",
       "      <th></th>\n",
       "      <th></th>\n",
       "    </tr>\n",
       "  </thead>\n",
       "  <tbody>\n",
       "    <tr>\n",
       "      <th>CID0000000</th>\n",
       "      <td>NaN</td>\n",
       "      <td>NaN</td>\n",
       "      <td>NaN</td>\n",
       "      <td>NaN</td>\n",
       "      <td>NaN</td>\n",
       "      <td>NaN</td>\n",
       "      <td>NaN</td>\n",
       "      <td>NaN</td>\n",
       "      <td>NaN</td>\n",
       "      <td>NaN</td>\n",
       "      <td>...</td>\n",
       "      <td>NaN</td>\n",
       "      <td>NaN</td>\n",
       "      <td>NaN</td>\n",
       "      <td>NaN</td>\n",
       "      <td>NaN</td>\n",
       "      <td>NaN</td>\n",
       "      <td>NaN</td>\n",
       "      <td>NaN</td>\n",
       "      <td>NaN</td>\n",
       "      <td>NaN</td>\n",
       "    </tr>\n",
       "    <tr>\n",
       "      <th>CID0000001</th>\n",
       "      <td>NaN</td>\n",
       "      <td>NaN</td>\n",
       "      <td>NaN</td>\n",
       "      <td>NaN</td>\n",
       "      <td>NaN</td>\n",
       "      <td>NaN</td>\n",
       "      <td>NaN</td>\n",
       "      <td>0.0</td>\n",
       "      <td>NaN</td>\n",
       "      <td>0.0</td>\n",
       "      <td>...</td>\n",
       "      <td>NaN</td>\n",
       "      <td>NaN</td>\n",
       "      <td>NaN</td>\n",
       "      <td>NaN</td>\n",
       "      <td>NaN</td>\n",
       "      <td>NaN</td>\n",
       "      <td>NaN</td>\n",
       "      <td>NaN</td>\n",
       "      <td>NaN</td>\n",
       "      <td>NaN</td>\n",
       "    </tr>\n",
       "    <tr>\n",
       "      <th>CID0000003</th>\n",
       "      <td>NaN</td>\n",
       "      <td>NaN</td>\n",
       "      <td>NaN</td>\n",
       "      <td>NaN</td>\n",
       "      <td>NaN</td>\n",
       "      <td>NaN</td>\n",
       "      <td>NaN</td>\n",
       "      <td>NaN</td>\n",
       "      <td>NaN</td>\n",
       "      <td>NaN</td>\n",
       "      <td>...</td>\n",
       "      <td>NaN</td>\n",
       "      <td>NaN</td>\n",
       "      <td>NaN</td>\n",
       "      <td>NaN</td>\n",
       "      <td>0.0</td>\n",
       "      <td>0.0</td>\n",
       "      <td>0.0</td>\n",
       "      <td>NaN</td>\n",
       "      <td>NaN</td>\n",
       "      <td>NaN</td>\n",
       "    </tr>\n",
       "    <tr>\n",
       "      <th>CID0000004</th>\n",
       "      <td>NaN</td>\n",
       "      <td>NaN</td>\n",
       "      <td>NaN</td>\n",
       "      <td>NaN</td>\n",
       "      <td>NaN</td>\n",
       "      <td>NaN</td>\n",
       "      <td>NaN</td>\n",
       "      <td>0.0</td>\n",
       "      <td>NaN</td>\n",
       "      <td>0.0</td>\n",
       "      <td>...</td>\n",
       "      <td>0.0</td>\n",
       "      <td>NaN</td>\n",
       "      <td>0.0</td>\n",
       "      <td>NaN</td>\n",
       "      <td>1.0</td>\n",
       "      <td>0.0</td>\n",
       "      <td>0.0</td>\n",
       "      <td>0.0</td>\n",
       "      <td>0.0</td>\n",
       "      <td>NaN</td>\n",
       "    </tr>\n",
       "    <tr>\n",
       "      <th>CID0000006</th>\n",
       "      <td>NaN</td>\n",
       "      <td>NaN</td>\n",
       "      <td>NaN</td>\n",
       "      <td>NaN</td>\n",
       "      <td>NaN</td>\n",
       "      <td>NaN</td>\n",
       "      <td>NaN</td>\n",
       "      <td>NaN</td>\n",
       "      <td>NaN</td>\n",
       "      <td>NaN</td>\n",
       "      <td>...</td>\n",
       "      <td>NaN</td>\n",
       "      <td>NaN</td>\n",
       "      <td>NaN</td>\n",
       "      <td>NaN</td>\n",
       "      <td>NaN</td>\n",
       "      <td>NaN</td>\n",
       "      <td>NaN</td>\n",
       "      <td>NaN</td>\n",
       "      <td>NaN</td>\n",
       "      <td>0.0</td>\n",
       "    </tr>\n",
       "  </tbody>\n",
       "</table>\n",
       "<p>5 rows × 39 columns</p>\n",
       "</div>"
      ],
      "text/plain": [
       "CLOSE_MONTH  201503  201504  201505  201506  201507  201508  201509  201510  \\\n",
       "CID                                                                           \n",
       "CID0000000      NaN     NaN     NaN     NaN     NaN     NaN     NaN     NaN   \n",
       "CID0000001      NaN     NaN     NaN     NaN     NaN     NaN     NaN     0.0   \n",
       "CID0000003      NaN     NaN     NaN     NaN     NaN     NaN     NaN     NaN   \n",
       "CID0000004      NaN     NaN     NaN     NaN     NaN     NaN     NaN     0.0   \n",
       "CID0000006      NaN     NaN     NaN     NaN     NaN     NaN     NaN     NaN   \n",
       "\n",
       "CLOSE_MONTH  201511  201512  ...  201708  201709  201710  201711  201712  \\\n",
       "CID                          ...                                           \n",
       "CID0000000      NaN     NaN  ...     NaN     NaN     NaN     NaN     NaN   \n",
       "CID0000001      NaN     0.0  ...     NaN     NaN     NaN     NaN     NaN   \n",
       "CID0000003      NaN     NaN  ...     NaN     NaN     NaN     NaN     0.0   \n",
       "CID0000004      NaN     0.0  ...     0.0     NaN     0.0     NaN     1.0   \n",
       "CID0000006      NaN     NaN  ...     NaN     NaN     NaN     NaN     NaN   \n",
       "\n",
       "CLOSE_MONTH  201801  201802  201803  201804  201805  \n",
       "CID                                                  \n",
       "CID0000000      NaN     NaN     NaN     NaN     NaN  \n",
       "CID0000001      NaN     NaN     NaN     NaN     NaN  \n",
       "CID0000003      0.0     0.0     NaN     NaN     NaN  \n",
       "CID0000004      0.0     0.0     0.0     0.0     NaN  \n",
       "CID0000006      NaN     NaN     NaN     NaN     0.0  \n",
       "\n",
       "[5 rows x 39 columns]"
      ]
     },
     "execution_count": 20,
     "metadata": {},
     "output_type": "execute_result"
    }
   ],
   "source": [
    "overdue.head()"
   ]
  },
  {
   "cell_type": "markdown",
   "metadata": {},
   "source": [
    "#### 生成矩阵"
   ]
  },
  {
   "cell_type": "markdown",
   "metadata": {},
   "source": [
    "初始化一个10行10列的零矩阵"
   ]
  },
  {
   "cell_type": "code",
   "execution_count": 21,
   "metadata": {},
   "outputs": [],
   "source": [
    "trans_mat = pd.DataFrame(data=0,columns=range(0,10),\n",
    "                         index=range(0,10))"
   ]
  },
  {
   "cell_type": "markdown",
   "metadata": {},
   "source": [
    "初始化计数器"
   ]
  },
  {
   "cell_type": "code",
   "execution_count": 22,
   "metadata": {},
   "outputs": [],
   "source": [
    "counter = Counter()"
   ]
  },
  {
   "cell_type": "markdown",
   "metadata": {},
   "source": [
    "- Counter:生成空计数器,使用字典记录对应元素(键)的频数(值)"
   ]
  },
  {
   "cell_type": "code",
   "execution_count": 23,
   "metadata": {},
   "outputs": [],
   "source": [
    "for i,j in zip(overdue.columns,overdue.columns[1:]):\n",
    "    # 对相继的两列依此循环,zip将相继月份生成元祖,\n",
    "    select = (overdue[i].notnull()) & (overdue[j].notnull())\n",
    "    # 对于相继两列,返回行数据不为空对应的布尔对象\n",
    "    # notnull判断对象是否不是缺失值,返回相同尺寸的布尔对象\n",
    "    counter += Counter([tuple(x) \n",
    "                        for x in overdue.loc[select,[i,j]].values])\n",
    "    # 抽取非空的每一行的数值,即相继状态,转化成元祖,加到计数器里\n",
    "# 循环结束生成所有相继状态对应的频数"
   ]
  },
  {
   "cell_type": "markdown",
   "metadata": {},
   "source": [
    "查看生成的频数字典对应的元祖"
   ]
  },
  {
   "cell_type": "code",
   "execution_count": 24,
   "metadata": {},
   "outputs": [
    {
     "data": {
      "text/plain": [
       "dict_items([((1.0, 0.0), 59218), ((0.0, 0.0), 218269), ((1.0, 1.0), 169811), ((0.0, 1.0), 78639), ((2.0, 2.0), 3775), ((2.0, 3.0), 17287), ((2.0, 1.0), 4061), ((1.0, 3.0), 9020), ((1.0, 2.0), 20351), ((3.0, 3.0), 1686), ((0.0, 2.0), 3232), ((3.0, 4.0), 22226), ((3.0, 0.0), 184), ((4.0, 5.0), 13634), ((2.0, 0.0), 556), ((5.0, 6.0), 14936), ((5.0, 5.0), 211), ((4.0, 4.0), 233), ((3.0, 2.0), 586), ((6.0, 6.0), 179), ((6.0, 7.0), 17223), ((3.0, 1.0), 1233), ((4.0, 1.0), 20), ((7.0, 8.0), 14262), ((8.0, 9.0), 12527), ((4.0, 2.0), 5), ((7.0, 7.0), 1292), ((2.0, 4.0), 7), ((9.0, 9.0), 247), ((8.0, 8.0), 98), ((4.0, 0.0), 1), ((3.0, 5.0), 446), ((5.0, 7.0), 911), ((6.0, 8.0), 9), ((4.0, 6.0), 2803), ((1.0, 6.0), 8), ((7.0, 9.0), 4), ((9.0, 7.0), 12), ((9.0, 8.0), 22), ((9.0, 5.0), 4), ((9.0, 6.0), 8), ((9.0, 3.0), 4), ((6.0, 3.0), 2), ((9.0, 1.0), 10), ((5.0, 2.0), 2), ((1.0, 5.0), 16), ((8.0, 7.0), 4), ((9.0, 2.0), 2), ((7.0, 6.0), 8), ((7.0, 1.0), 8), ((7.0, 4.0), 8), ((8.0, 0.0), 2), ((5.0, 1.0), 2), ((8.0, 6.0), 2), ((8.0, 1.0), 2), ((1.0, 7.0), 8), ((4.0, 7.0), 8), ((0.0, 8.0), 2), ((6.0, 9.0), 8), ((0.0, 9.0), 2), ((3.0, 9.0), 2), ((1.0, 9.0), 6), ((1.0, 8.0), 2)])"
      ]
     },
     "execution_count": 24,
     "metadata": {},
     "output_type": "execute_result"
    }
   ],
   "source": [
    "counter.items()"
   ]
  },
  {
   "cell_type": "markdown",
   "metadata": {},
   "source": [
    "将生成的频数对应到之前生成的零矩阵中"
   ]
  },
  {
   "cell_type": "code",
   "execution_count": 25,
   "metadata": {},
   "outputs": [],
   "source": [
    "for key in counter.keys():\n",
    "    # 对于所有的键循环\n",
    "    trans_mat.loc[key[0],key[1]] = counter[key]\n",
    "    # 每个键的元祖中,两个值分别对应零矩阵行列的值,对应位置赋值键对应的值"
   ]
  },
  {
   "cell_type": "code",
   "execution_count": 26,
   "metadata": {},
   "outputs": [
    {
     "data": {
      "text/html": [
       "<div>\n",
       "<style scoped>\n",
       "    .dataframe tbody tr th:only-of-type {\n",
       "        vertical-align: middle;\n",
       "    }\n",
       "\n",
       "    .dataframe tbody tr th {\n",
       "        vertical-align: top;\n",
       "    }\n",
       "\n",
       "    .dataframe thead th {\n",
       "        text-align: right;\n",
       "    }\n",
       "</style>\n",
       "<table border=\"1\" class=\"dataframe\">\n",
       "  <thead>\n",
       "    <tr style=\"text-align: right;\">\n",
       "      <th></th>\n",
       "      <th>0</th>\n",
       "      <th>1</th>\n",
       "      <th>2</th>\n",
       "      <th>3</th>\n",
       "      <th>4</th>\n",
       "      <th>5</th>\n",
       "      <th>6</th>\n",
       "      <th>7</th>\n",
       "      <th>8</th>\n",
       "      <th>9</th>\n",
       "    </tr>\n",
       "  </thead>\n",
       "  <tbody>\n",
       "    <tr>\n",
       "      <th>0</th>\n",
       "      <td>218269</td>\n",
       "      <td>78639</td>\n",
       "      <td>3232</td>\n",
       "      <td>0</td>\n",
       "      <td>0</td>\n",
       "      <td>0</td>\n",
       "      <td>0</td>\n",
       "      <td>0</td>\n",
       "      <td>2</td>\n",
       "      <td>2</td>\n",
       "    </tr>\n",
       "    <tr>\n",
       "      <th>1</th>\n",
       "      <td>59218</td>\n",
       "      <td>169811</td>\n",
       "      <td>20351</td>\n",
       "      <td>9020</td>\n",
       "      <td>0</td>\n",
       "      <td>16</td>\n",
       "      <td>8</td>\n",
       "      <td>8</td>\n",
       "      <td>2</td>\n",
       "      <td>6</td>\n",
       "    </tr>\n",
       "    <tr>\n",
       "      <th>2</th>\n",
       "      <td>556</td>\n",
       "      <td>4061</td>\n",
       "      <td>3775</td>\n",
       "      <td>17287</td>\n",
       "      <td>7</td>\n",
       "      <td>0</td>\n",
       "      <td>0</td>\n",
       "      <td>0</td>\n",
       "      <td>0</td>\n",
       "      <td>0</td>\n",
       "    </tr>\n",
       "    <tr>\n",
       "      <th>3</th>\n",
       "      <td>184</td>\n",
       "      <td>1233</td>\n",
       "      <td>586</td>\n",
       "      <td>1686</td>\n",
       "      <td>22226</td>\n",
       "      <td>446</td>\n",
       "      <td>0</td>\n",
       "      <td>0</td>\n",
       "      <td>0</td>\n",
       "      <td>2</td>\n",
       "    </tr>\n",
       "    <tr>\n",
       "      <th>4</th>\n",
       "      <td>1</td>\n",
       "      <td>20</td>\n",
       "      <td>5</td>\n",
       "      <td>0</td>\n",
       "      <td>233</td>\n",
       "      <td>13634</td>\n",
       "      <td>2803</td>\n",
       "      <td>8</td>\n",
       "      <td>0</td>\n",
       "      <td>0</td>\n",
       "    </tr>\n",
       "    <tr>\n",
       "      <th>5</th>\n",
       "      <td>0</td>\n",
       "      <td>2</td>\n",
       "      <td>2</td>\n",
       "      <td>0</td>\n",
       "      <td>0</td>\n",
       "      <td>211</td>\n",
       "      <td>14936</td>\n",
       "      <td>911</td>\n",
       "      <td>0</td>\n",
       "      <td>0</td>\n",
       "    </tr>\n",
       "    <tr>\n",
       "      <th>6</th>\n",
       "      <td>0</td>\n",
       "      <td>0</td>\n",
       "      <td>0</td>\n",
       "      <td>2</td>\n",
       "      <td>0</td>\n",
       "      <td>0</td>\n",
       "      <td>179</td>\n",
       "      <td>17223</td>\n",
       "      <td>9</td>\n",
       "      <td>8</td>\n",
       "    </tr>\n",
       "    <tr>\n",
       "      <th>7</th>\n",
       "      <td>0</td>\n",
       "      <td>8</td>\n",
       "      <td>0</td>\n",
       "      <td>0</td>\n",
       "      <td>8</td>\n",
       "      <td>0</td>\n",
       "      <td>8</td>\n",
       "      <td>1292</td>\n",
       "      <td>14262</td>\n",
       "      <td>4</td>\n",
       "    </tr>\n",
       "    <tr>\n",
       "      <th>8</th>\n",
       "      <td>2</td>\n",
       "      <td>2</td>\n",
       "      <td>0</td>\n",
       "      <td>0</td>\n",
       "      <td>0</td>\n",
       "      <td>0</td>\n",
       "      <td>2</td>\n",
       "      <td>4</td>\n",
       "      <td>98</td>\n",
       "      <td>12527</td>\n",
       "    </tr>\n",
       "    <tr>\n",
       "      <th>9</th>\n",
       "      <td>0</td>\n",
       "      <td>10</td>\n",
       "      <td>2</td>\n",
       "      <td>4</td>\n",
       "      <td>0</td>\n",
       "      <td>4</td>\n",
       "      <td>8</td>\n",
       "      <td>12</td>\n",
       "      <td>22</td>\n",
       "      <td>247</td>\n",
       "    </tr>\n",
       "  </tbody>\n",
       "</table>\n",
       "</div>"
      ],
      "text/plain": [
       "        0       1      2      3      4      5      6      7      8      9\n",
       "0  218269   78639   3232      0      0      0      0      0      2      2\n",
       "1   59218  169811  20351   9020      0     16      8      8      2      6\n",
       "2     556    4061   3775  17287      7      0      0      0      0      0\n",
       "3     184    1233    586   1686  22226    446      0      0      0      2\n",
       "4       1      20      5      0    233  13634   2803      8      0      0\n",
       "5       0       2      2      0      0    211  14936    911      0      0\n",
       "6       0       0      0      2      0      0    179  17223      9      8\n",
       "7       0       8      0      0      8      0      8   1292  14262      4\n",
       "8       2       2      0      0      0      0      2      4     98  12527\n",
       "9       0      10      2      4      0      4      8     12     22    247"
      ]
     },
     "execution_count": 26,
     "metadata": {},
     "output_type": "execute_result"
    }
   ],
   "source": [
    "trans_mat"
   ]
  },
  {
   "cell_type": "markdown",
   "metadata": {},
   "source": [
    "生成新列"
   ]
  },
  {
   "cell_type": "markdown",
   "metadata": {},
   "source": [
    "- 每个状态所有可能的变化,即行和"
   ]
  },
  {
   "cell_type": "code",
   "execution_count": 27,
   "metadata": {},
   "outputs": [],
   "source": [
    "trans_mat[\"all_count\"] = trans_mat.sum(axis=1)"
   ]
  },
  {
   "cell_type": "markdown",
   "metadata": {},
   "source": [
    "- 每个状态所有不好的变化,即表示状态的数字变大"
   ]
  },
  {
   "cell_type": "code",
   "execution_count": 28,
   "metadata": {},
   "outputs": [],
   "source": [
    "bad_count = []\n",
    "for i in range(10):\n",
    "    # 循环每一行\n",
    "    bad_count.append(trans_mat.iloc[i,(i+1):10].sum())\n",
    "    # 对第i行i+1列之后的数求和,即状态i数字变大,状态变坏\n",
    "trans_mat[\"bad_count\"] = bad_count"
   ]
  },
  {
   "cell_type": "markdown",
   "metadata": {},
   "source": [
    "- 每个状态不好的变化的占比,即不好的变化除以所有可能的变化"
   ]
  },
  {
   "cell_type": "code",
   "execution_count": 29,
   "metadata": {},
   "outputs": [],
   "source": [
    "trans_mat[\"bad_ratio\"] = trans_mat.bad_count/trans_mat.all_count"
   ]
  },
  {
   "cell_type": "markdown",
   "metadata": {},
   "source": [
    "### 根据生成矩阵确定观察时间窗口"
   ]
  },
  {
   "cell_type": "markdown",
   "metadata": {},
   "source": [
    "最终的矩阵:"
   ]
  },
  {
   "cell_type": "code",
   "execution_count": 30,
   "metadata": {},
   "outputs": [
    {
     "data": {
      "text/html": [
       "<div>\n",
       "<style scoped>\n",
       "    .dataframe tbody tr th:only-of-type {\n",
       "        vertical-align: middle;\n",
       "    }\n",
       "\n",
       "    .dataframe tbody tr th {\n",
       "        vertical-align: top;\n",
       "    }\n",
       "\n",
       "    .dataframe thead th {\n",
       "        text-align: right;\n",
       "    }\n",
       "</style>\n",
       "<table border=\"1\" class=\"dataframe\">\n",
       "  <thead>\n",
       "    <tr style=\"text-align: right;\">\n",
       "      <th></th>\n",
       "      <th>0</th>\n",
       "      <th>1</th>\n",
       "      <th>2</th>\n",
       "      <th>3</th>\n",
       "      <th>4</th>\n",
       "      <th>5</th>\n",
       "      <th>6</th>\n",
       "      <th>7</th>\n",
       "      <th>8</th>\n",
       "      <th>9</th>\n",
       "      <th>all_count</th>\n",
       "      <th>bad_count</th>\n",
       "      <th>bad_ratio</th>\n",
       "    </tr>\n",
       "  </thead>\n",
       "  <tbody>\n",
       "    <tr>\n",
       "      <th>0</th>\n",
       "      <td>218269</td>\n",
       "      <td>78639</td>\n",
       "      <td>3232</td>\n",
       "      <td>0</td>\n",
       "      <td>0</td>\n",
       "      <td>0</td>\n",
       "      <td>0</td>\n",
       "      <td>0</td>\n",
       "      <td>2</td>\n",
       "      <td>2</td>\n",
       "      <td>300144</td>\n",
       "      <td>81875</td>\n",
       "      <td>0.272786</td>\n",
       "    </tr>\n",
       "    <tr>\n",
       "      <th>1</th>\n",
       "      <td>59218</td>\n",
       "      <td>169811</td>\n",
       "      <td>20351</td>\n",
       "      <td>9020</td>\n",
       "      <td>0</td>\n",
       "      <td>16</td>\n",
       "      <td>8</td>\n",
       "      <td>8</td>\n",
       "      <td>2</td>\n",
       "      <td>6</td>\n",
       "      <td>258440</td>\n",
       "      <td>29411</td>\n",
       "      <td>0.113802</td>\n",
       "    </tr>\n",
       "    <tr>\n",
       "      <th>2</th>\n",
       "      <td>556</td>\n",
       "      <td>4061</td>\n",
       "      <td>3775</td>\n",
       "      <td>17287</td>\n",
       "      <td>7</td>\n",
       "      <td>0</td>\n",
       "      <td>0</td>\n",
       "      <td>0</td>\n",
       "      <td>0</td>\n",
       "      <td>0</td>\n",
       "      <td>25686</td>\n",
       "      <td>17294</td>\n",
       "      <td>0.673285</td>\n",
       "    </tr>\n",
       "    <tr>\n",
       "      <th>3</th>\n",
       "      <td>184</td>\n",
       "      <td>1233</td>\n",
       "      <td>586</td>\n",
       "      <td>1686</td>\n",
       "      <td>22226</td>\n",
       "      <td>446</td>\n",
       "      <td>0</td>\n",
       "      <td>0</td>\n",
       "      <td>0</td>\n",
       "      <td>2</td>\n",
       "      <td>26363</td>\n",
       "      <td>22674</td>\n",
       "      <td>0.860069</td>\n",
       "    </tr>\n",
       "    <tr>\n",
       "      <th>4</th>\n",
       "      <td>1</td>\n",
       "      <td>20</td>\n",
       "      <td>5</td>\n",
       "      <td>0</td>\n",
       "      <td>233</td>\n",
       "      <td>13634</td>\n",
       "      <td>2803</td>\n",
       "      <td>8</td>\n",
       "      <td>0</td>\n",
       "      <td>0</td>\n",
       "      <td>16704</td>\n",
       "      <td>16445</td>\n",
       "      <td>0.984495</td>\n",
       "    </tr>\n",
       "    <tr>\n",
       "      <th>5</th>\n",
       "      <td>0</td>\n",
       "      <td>2</td>\n",
       "      <td>2</td>\n",
       "      <td>0</td>\n",
       "      <td>0</td>\n",
       "      <td>211</td>\n",
       "      <td>14936</td>\n",
       "      <td>911</td>\n",
       "      <td>0</td>\n",
       "      <td>0</td>\n",
       "      <td>16062</td>\n",
       "      <td>15847</td>\n",
       "      <td>0.986614</td>\n",
       "    </tr>\n",
       "    <tr>\n",
       "      <th>6</th>\n",
       "      <td>0</td>\n",
       "      <td>0</td>\n",
       "      <td>0</td>\n",
       "      <td>2</td>\n",
       "      <td>0</td>\n",
       "      <td>0</td>\n",
       "      <td>179</td>\n",
       "      <td>17223</td>\n",
       "      <td>9</td>\n",
       "      <td>8</td>\n",
       "      <td>17421</td>\n",
       "      <td>17240</td>\n",
       "      <td>0.989610</td>\n",
       "    </tr>\n",
       "    <tr>\n",
       "      <th>7</th>\n",
       "      <td>0</td>\n",
       "      <td>8</td>\n",
       "      <td>0</td>\n",
       "      <td>0</td>\n",
       "      <td>8</td>\n",
       "      <td>0</td>\n",
       "      <td>8</td>\n",
       "      <td>1292</td>\n",
       "      <td>14262</td>\n",
       "      <td>4</td>\n",
       "      <td>15582</td>\n",
       "      <td>14266</td>\n",
       "      <td>0.915544</td>\n",
       "    </tr>\n",
       "    <tr>\n",
       "      <th>8</th>\n",
       "      <td>2</td>\n",
       "      <td>2</td>\n",
       "      <td>0</td>\n",
       "      <td>0</td>\n",
       "      <td>0</td>\n",
       "      <td>0</td>\n",
       "      <td>2</td>\n",
       "      <td>4</td>\n",
       "      <td>98</td>\n",
       "      <td>12527</td>\n",
       "      <td>12635</td>\n",
       "      <td>12527</td>\n",
       "      <td>0.991452</td>\n",
       "    </tr>\n",
       "    <tr>\n",
       "      <th>9</th>\n",
       "      <td>0</td>\n",
       "      <td>10</td>\n",
       "      <td>2</td>\n",
       "      <td>4</td>\n",
       "      <td>0</td>\n",
       "      <td>4</td>\n",
       "      <td>8</td>\n",
       "      <td>12</td>\n",
       "      <td>22</td>\n",
       "      <td>247</td>\n",
       "      <td>309</td>\n",
       "      <td>0</td>\n",
       "      <td>0.000000</td>\n",
       "    </tr>\n",
       "  </tbody>\n",
       "</table>\n",
       "</div>"
      ],
      "text/plain": [
       "        0       1      2      3      4      5      6      7      8      9  \\\n",
       "0  218269   78639   3232      0      0      0      0      0      2      2   \n",
       "1   59218  169811  20351   9020      0     16      8      8      2      6   \n",
       "2     556    4061   3775  17287      7      0      0      0      0      0   \n",
       "3     184    1233    586   1686  22226    446      0      0      0      2   \n",
       "4       1      20      5      0    233  13634   2803      8      0      0   \n",
       "5       0       2      2      0      0    211  14936    911      0      0   \n",
       "6       0       0      0      2      0      0    179  17223      9      8   \n",
       "7       0       8      0      0      8      0      8   1292  14262      4   \n",
       "8       2       2      0      0      0      0      2      4     98  12527   \n",
       "9       0      10      2      4      0      4      8     12     22    247   \n",
       "\n",
       "   all_count  bad_count  bad_ratio  \n",
       "0     300144      81875   0.272786  \n",
       "1     258440      29411   0.113802  \n",
       "2      25686      17294   0.673285  \n",
       "3      26363      22674   0.860069  \n",
       "4      16704      16445   0.984495  \n",
       "5      16062      15847   0.986614  \n",
       "6      17421      17240   0.989610  \n",
       "7      15582      14266   0.915544  \n",
       "8      12635      12527   0.991452  \n",
       "9        309          0   0.000000  "
      ]
     },
     "execution_count": 30,
     "metadata": {},
     "output_type": "execute_result"
    }
   ],
   "source": [
    "trans_mat"
   ]
  },
  {
   "cell_type": "code",
   "execution_count": 31,
   "metadata": {},
   "outputs": [
    {
     "data": {
      "image/png": "[encoded data removed]",
      "text/plain": [
       "<Figure size 432x288 with 1 Axes>"
      ]
     },
     "metadata": {
      "needs_background": "light"
     },
     "output_type": "display_data"
    }
   ],
   "source": [
    "plt.plot(trans_mat.index,trans_mat.bad_ratio)\n",
    "plt.xticks(np.arange(0,9))\n",
    "plt.xlim(0,8)\n",
    "plt.show()"
   ]
  },
  {
   "cell_type": "markdown",
   "metadata": {},
   "source": [
    "- 可见M1是一个明显的最低点和拐点,到M2阶段以后坏客户的比例迅速增加,因此这里选定的观察时间窗口为M2,即30-60天,我们就可以定义逾期大于30天的客户为坏客户\n",
    "- 可以根据业务需求进一步调整观察时间窗口"
   ]
  },
  {
   "cell_type": "markdown",
   "metadata": {},
   "source": [
    "## 确定表现时间窗口"
   ]
  },
  {
   "cell_type": "markdown",
   "metadata": {},
   "source": [
    "使用用户订单时间表data/CreditFirstUse.csv:\n",
    "\n",
    "- CID:用户ID\n",
    "- FST_USE_DT:用户订单时间"
   ]
  },
  {
   "cell_type": "markdown",
   "metadata": {},
   "source": [
    "### 读数据,数据描述"
   ]
  },
  {
   "cell_type": "code",
   "execution_count": 32,
   "metadata": {},
   "outputs": [],
   "source": [
    "perf_window = pd.read_csv(\"CreditFirstUse.csv\")"
   ]
  },
  {
   "cell_type": "code",
   "execution_count": 33,
   "metadata": {},
   "outputs": [
    {
     "name": "stdout",
     "output_type": "stream",
     "text": [
      "(388259, 2)\n"
     ]
    },
    {
     "data": {
      "text/html": [
       "<div>\n",
       "<style scoped>\n",
       "    .dataframe tbody tr th:only-of-type {\n",
       "        vertical-align: middle;\n",
       "    }\n",
       "\n",
       "    .dataframe tbody tr th {\n",
       "        vertical-align: top;\n",
       "    }\n",
       "\n",
       "    .dataframe thead th {\n",
       "        text-align: right;\n",
       "    }\n",
       "</style>\n",
       "<table border=\"1\" class=\"dataframe\">\n",
       "  <thead>\n",
       "    <tr style=\"text-align: right;\">\n",
       "      <th></th>\n",
       "      <th>CID</th>\n",
       "      <th>FST_USE_DT</th>\n",
       "    </tr>\n",
       "  </thead>\n",
       "  <tbody>\n",
       "    <tr>\n",
       "      <th>count</th>\n",
       "      <td>388259</td>\n",
       "      <td>3.882590e+05</td>\n",
       "    </tr>\n",
       "    <tr>\n",
       "      <th>unique</th>\n",
       "      <td>388259</td>\n",
       "      <td>NaN</td>\n",
       "    </tr>\n",
       "    <tr>\n",
       "      <th>top</th>\n",
       "      <td>CID0203590</td>\n",
       "      <td>NaN</td>\n",
       "    </tr>\n",
       "    <tr>\n",
       "      <th>freq</th>\n",
       "      <td>1</td>\n",
       "      <td>NaN</td>\n",
       "    </tr>\n",
       "    <tr>\n",
       "      <th>mean</th>\n",
       "      <td>NaN</td>\n",
       "      <td>2.016187e+07</td>\n",
       "    </tr>\n",
       "    <tr>\n",
       "      <th>std</th>\n",
       "      <td>NaN</td>\n",
       "      <td>7.896603e+03</td>\n",
       "    </tr>\n",
       "    <tr>\n",
       "      <th>min</th>\n",
       "      <td>NaN</td>\n",
       "      <td>2.015010e+07</td>\n",
       "    </tr>\n",
       "    <tr>\n",
       "      <th>25%</th>\n",
       "      <td>NaN</td>\n",
       "      <td>2.015121e+07</td>\n",
       "    </tr>\n",
       "    <tr>\n",
       "      <th>50%</th>\n",
       "      <td>NaN</td>\n",
       "      <td>2.016101e+07</td>\n",
       "    </tr>\n",
       "    <tr>\n",
       "      <th>75%</th>\n",
       "      <td>NaN</td>\n",
       "      <td>2.017051e+07</td>\n",
       "    </tr>\n",
       "    <tr>\n",
       "      <th>max</th>\n",
       "      <td>NaN</td>\n",
       "      <td>2.017103e+07</td>\n",
       "    </tr>\n",
       "  </tbody>\n",
       "</table>\n",
       "</div>"
      ],
      "text/plain": [
       "               CID    FST_USE_DT\n",
       "count       388259  3.882590e+05\n",
       "unique      388259           NaN\n",
       "top     CID0203590           NaN\n",
       "freq             1           NaN\n",
       "mean           NaN  2.016187e+07\n",
       "std            NaN  7.896603e+03\n",
       "min            NaN  2.015010e+07\n",
       "25%            NaN  2.015121e+07\n",
       "50%            NaN  2.016101e+07\n",
       "75%            NaN  2.017051e+07\n",
       "max            NaN  2.017103e+07"
      ]
     },
     "execution_count": 33,
     "metadata": {},
     "output_type": "execute_result"
    }
   ],
   "source": [
    "print(perf_window.shape)\n",
    "perf_window.describe(include=\"all\")"
   ]
  },
  {
   "cell_type": "markdown",
   "metadata": {},
   "source": [
    "- 可见没有缺失值,没有重复订单号\n",
    "- 用户订单时间从2015年1月1日到2017年10月31日,初步判断没有异常值"
   ]
  },
  {
   "cell_type": "markdown",
   "metadata": {},
   "source": [
    "### 数据清洗"
   ]
  },
  {
   "cell_type": "markdown",
   "metadata": {},
   "source": [
    "设置行索引为CID列,方便加行的时候直接匹配"
   ]
  },
  {
   "cell_type": "code",
   "execution_count": 34,
   "metadata": {},
   "outputs": [],
   "source": [
    "perf_window.set_index(\"CID\",inplace=True)"
   ]
  },
  {
   "cell_type": "markdown",
   "metadata": {},
   "source": [
    "从用户订单时间中抽取月份生成新列:首次使用月"
   ]
  },
  {
   "cell_type": "code",
   "execution_count": 35,
   "metadata": {},
   "outputs": [],
   "source": [
    "perf_window[\"FST_USE_MON\"] = (perf_window.FST_USE_DT//100).astype(float)"
   ]
  },
  {
   "cell_type": "code",
   "execution_count": 36,
   "metadata": {},
   "outputs": [
    {
     "data": {
      "text/html": [
       "<div>\n",
       "<style scoped>\n",
       "    .dataframe tbody tr th:only-of-type {\n",
       "        vertical-align: middle;\n",
       "    }\n",
       "\n",
       "    .dataframe tbody tr th {\n",
       "        vertical-align: top;\n",
       "    }\n",
       "\n",
       "    .dataframe thead th {\n",
       "        text-align: right;\n",
       "    }\n",
       "</style>\n",
       "<table border=\"1\" class=\"dataframe\">\n",
       "  <thead>\n",
       "    <tr style=\"text-align: right;\">\n",
       "      <th></th>\n",
       "      <th>FST_USE_DT</th>\n",
       "      <th>FST_USE_MON</th>\n",
       "    </tr>\n",
       "    <tr>\n",
       "      <th>CID</th>\n",
       "      <th></th>\n",
       "      <th></th>\n",
       "    </tr>\n",
       "  </thead>\n",
       "  <tbody>\n",
       "    <tr>\n",
       "      <th>CID0092102</th>\n",
       "      <td>20161116</td>\n",
       "      <td>201611.0</td>\n",
       "    </tr>\n",
       "    <tr>\n",
       "      <th>CID0111878</th>\n",
       "      <td>20161118</td>\n",
       "      <td>201611.0</td>\n",
       "    </tr>\n",
       "    <tr>\n",
       "      <th>CID0264977</th>\n",
       "      <td>20161120</td>\n",
       "      <td>201611.0</td>\n",
       "    </tr>\n",
       "    <tr>\n",
       "      <th>CID0059996</th>\n",
       "      <td>20160907</td>\n",
       "      <td>201609.0</td>\n",
       "    </tr>\n",
       "    <tr>\n",
       "      <th>CID0057096</th>\n",
       "      <td>20160910</td>\n",
       "      <td>201609.0</td>\n",
       "    </tr>\n",
       "  </tbody>\n",
       "</table>\n",
       "</div>"
      ],
      "text/plain": [
       "            FST_USE_DT  FST_USE_MON\n",
       "CID                                \n",
       "CID0092102    20161116     201611.0\n",
       "CID0111878    20161118     201611.0\n",
       "CID0264977    20161120     201611.0\n",
       "CID0059996    20160907     201609.0\n",
       "CID0057096    20160910     201609.0"
      ]
     },
     "execution_count": 36,
     "metadata": {},
     "output_type": "execute_result"
    }
   ],
   "source": [
    "perf_window.head()"
   ]
  },
  {
   "cell_type": "markdown",
   "metadata": {},
   "source": [
    "使用前面生成的**时间数据框**:\n",
    "\n",
    "- 由于选取观察时间窗口为M2,对于每个ID:\n",
    "    - 取逾期状态大于等于2的首个月作为逾期月\n",
    "    - 逾期月表示客户开始转向坏客户\n",
    "- 使用逾期月生成新列"
   ]
  },
  {
   "cell_type": "code",
   "execution_count": 37,
   "metadata": {},
   "outputs": [],
   "source": [
    "overdue_m2 = overdue >= 2\n",
    "# 判断逾期状态是否大于等于2,返回对应尺寸的布尔数据\n",
    "overdue_m2 = overdue_m2[overdue_m2.sum(axis=1)>0]\n",
    "# 筛选行和大于0的数据,即寻找那些曾经转为坏客户的ID行"
   ]
  },
  {
   "cell_type": "code",
   "execution_count": 38,
   "metadata": {},
   "outputs": [],
   "source": [
    "overdue_month = overdue_m2.apply(lambda x: \n",
    "    overdue_m2.columns[x][0],axis=1)\n",
    "# 每行取转为坏客户的第一个月(逾期状态大于等于2)作为逾期月\n",
    "perf_window[\"OVERDUE_MON\"] = overdue_month\n",
    "# 逾期月生成新列"
   ]
  },
  {
   "cell_type": "code",
   "execution_count": 39,
   "metadata": {},
   "outputs": [
    {
     "data": {
      "text/html": [
       "<div>\n",
       "<style scoped>\n",
       "    .dataframe tbody tr th:only-of-type {\n",
       "        vertical-align: middle;\n",
       "    }\n",
       "\n",
       "    .dataframe tbody tr th {\n",
       "        vertical-align: top;\n",
       "    }\n",
       "\n",
       "    .dataframe thead th {\n",
       "        text-align: right;\n",
       "    }\n",
       "</style>\n",
       "<table border=\"1\" class=\"dataframe\">\n",
       "  <thead>\n",
       "    <tr style=\"text-align: right;\">\n",
       "      <th></th>\n",
       "      <th>FST_USE_DT</th>\n",
       "      <th>FST_USE_MON</th>\n",
       "      <th>OVERDUE_MON</th>\n",
       "    </tr>\n",
       "    <tr>\n",
       "      <th>CID</th>\n",
       "      <th></th>\n",
       "      <th></th>\n",
       "      <th></th>\n",
       "    </tr>\n",
       "  </thead>\n",
       "  <tbody>\n",
       "    <tr>\n",
       "      <th>CID0082006</th>\n",
       "      <td>20160906</td>\n",
       "      <td>201609.0</td>\n",
       "      <td>201705.0</td>\n",
       "    </tr>\n",
       "    <tr>\n",
       "      <th>CID0383647</th>\n",
       "      <td>20160906</td>\n",
       "      <td>201609.0</td>\n",
       "      <td>201708.0</td>\n",
       "    </tr>\n",
       "    <tr>\n",
       "      <th>CID0006192</th>\n",
       "      <td>20161022</td>\n",
       "      <td>201610.0</td>\n",
       "      <td>201707.0</td>\n",
       "    </tr>\n",
       "    <tr>\n",
       "      <th>CID0348120</th>\n",
       "      <td>20161122</td>\n",
       "      <td>201611.0</td>\n",
       "      <td>201712.0</td>\n",
       "    </tr>\n",
       "    <tr>\n",
       "      <th>CID0155834</th>\n",
       "      <td>20161123</td>\n",
       "      <td>201611.0</td>\n",
       "      <td>201707.0</td>\n",
       "    </tr>\n",
       "  </tbody>\n",
       "</table>\n",
       "</div>"
      ],
      "text/plain": [
       "            FST_USE_DT  FST_USE_MON  OVERDUE_MON\n",
       "CID                                             \n",
       "CID0082006    20160906     201609.0     201705.0\n",
       "CID0383647    20160906     201609.0     201708.0\n",
       "CID0006192    20161022     201610.0     201707.0\n",
       "CID0348120    20161122     201611.0     201712.0\n",
       "CID0155834    20161123     201611.0     201707.0"
      ]
     },
     "execution_count": 39,
     "metadata": {},
     "output_type": "execute_result"
    }
   ],
   "source": [
    "perf_window[perf_window.OVERDUE_MON.notnull()].head()\n",
    "# 查看非空数据"
   ]
  },
  {
   "cell_type": "markdown",
   "metadata": {},
   "source": [
    "计算首次使用月和逾期月的月份差,生成新列"
   ]
  },
  {
   "cell_type": "code",
   "execution_count": 40,
   "metadata": {},
   "outputs": [],
   "source": [
    "def diffmon(x,y):\n",
    "    return((x//100 - y//100)*12 + x%100 - y%100)\n",
    "# 定义函数,计算两个月份数据的月份差"
   ]
  },
  {
   "cell_type": "code",
   "execution_count": 41,
   "metadata": {},
   "outputs": [],
   "source": [
    "perf_window[\"DIFF_MON\"] = diffmon(perf_window.OVERDUE_MON,\n",
    "           perf_window.FST_USE_MON)\n",
    "# 计算月份差,生成新列"
   ]
  },
  {
   "cell_type": "code",
   "execution_count": 42,
   "metadata": {},
   "outputs": [
    {
     "data": {
      "text/html": [
       "<div>\n",
       "<style scoped>\n",
       "    .dataframe tbody tr th:only-of-type {\n",
       "        vertical-align: middle;\n",
       "    }\n",
       "\n",
       "    .dataframe tbody tr th {\n",
       "        vertical-align: top;\n",
       "    }\n",
       "\n",
       "    .dataframe thead th {\n",
       "        text-align: right;\n",
       "    }\n",
       "</style>\n",
       "<table border=\"1\" class=\"dataframe\">\n",
       "  <thead>\n",
       "    <tr style=\"text-align: right;\">\n",
       "      <th></th>\n",
       "      <th>FST_USE_DT</th>\n",
       "      <th>FST_USE_MON</th>\n",
       "      <th>OVERDUE_MON</th>\n",
       "      <th>DIFF_MON</th>\n",
       "    </tr>\n",
       "    <tr>\n",
       "      <th>CID</th>\n",
       "      <th></th>\n",
       "      <th></th>\n",
       "      <th></th>\n",
       "      <th></th>\n",
       "    </tr>\n",
       "  </thead>\n",
       "  <tbody>\n",
       "    <tr>\n",
       "      <th>CID0082006</th>\n",
       "      <td>20160906</td>\n",
       "      <td>201609.0</td>\n",
       "      <td>201705.0</td>\n",
       "      <td>8.0</td>\n",
       "    </tr>\n",
       "    <tr>\n",
       "      <th>CID0383647</th>\n",
       "      <td>20160906</td>\n",
       "      <td>201609.0</td>\n",
       "      <td>201708.0</td>\n",
       "      <td>11.0</td>\n",
       "    </tr>\n",
       "    <tr>\n",
       "      <th>CID0006192</th>\n",
       "      <td>20161022</td>\n",
       "      <td>201610.0</td>\n",
       "      <td>201707.0</td>\n",
       "      <td>9.0</td>\n",
       "    </tr>\n",
       "    <tr>\n",
       "      <th>CID0348120</th>\n",
       "      <td>20161122</td>\n",
       "      <td>201611.0</td>\n",
       "      <td>201712.0</td>\n",
       "      <td>13.0</td>\n",
       "    </tr>\n",
       "    <tr>\n",
       "      <th>CID0155834</th>\n",
       "      <td>20161123</td>\n",
       "      <td>201611.0</td>\n",
       "      <td>201707.0</td>\n",
       "      <td>8.0</td>\n",
       "    </tr>\n",
       "  </tbody>\n",
       "</table>\n",
       "</div>"
      ],
      "text/plain": [
       "            FST_USE_DT  FST_USE_MON  OVERDUE_MON  DIFF_MON\n",
       "CID                                                       \n",
       "CID0082006    20160906     201609.0     201705.0       8.0\n",
       "CID0383647    20160906     201609.0     201708.0      11.0\n",
       "CID0006192    20161022     201610.0     201707.0       9.0\n",
       "CID0348120    20161122     201611.0     201712.0      13.0\n",
       "CID0155834    20161123     201611.0     201707.0       8.0"
      ]
     },
     "execution_count": 42,
     "metadata": {},
     "output_type": "execute_result"
    }
   ],
   "source": [
    "perf_window[perf_window.OVERDUE_MON.notnull()].head()\n",
    "# 查看非空数据"
   ]
  },
  {
   "cell_type": "markdown",
   "metadata": {},
   "source": [
    "统计月份差异的频数,并且排序\n",
    "\n",
    "- 发现有的时间差是负的,把排序后前面负的时间差去掉"
   ]
  },
  {
   "cell_type": "code",
   "execution_count": 43,
   "metadata": {},
   "outputs": [],
   "source": [
    "mon_freq = perf_window.DIFF_MON.value_counts(normalize=True).sort_index()[1:]\n",
    "# 统计月份差列的频率"
   ]
  },
  {
   "cell_type": "code",
   "execution_count": 44,
   "metadata": {},
   "outputs": [
    {
     "data": {
      "text/plain": [
       "<matplotlib.axes._subplots.AxesSubplot at 0x19436f4fda0>"
      ]
     },
     "execution_count": 44,
     "metadata": {},
     "output_type": "execute_result"
    },
    {
     "data": {
      "image/png": "[encoded data removed]",
      "text/plain": [
       "<Figure size 432x288 with 1 Axes>"
      ]
     },
     "metadata": {
      "needs_background": "light"
     },
     "output_type": "display_data"
    }
   ],
   "source": [
    "mon_freq.plot()\n",
    "# 得到的频率生成图形"
   ]
  },
  {
   "cell_type": "markdown",
   "metadata": {},
   "source": [
    "- 可见月份差是偏右偏的分布"
   ]
  },
  {
   "cell_type": "code",
   "execution_count": 45,
   "metadata": {},
   "outputs": [
    {
     "data": {
      "text/plain": [
       "<matplotlib.axes._subplots.AxesSubplot at 0x19433896128>"
      ]
     },
     "execution_count": 45,
     "metadata": {},
     "output_type": "execute_result"
    },
    {
     "data": {
      "image/png": "[encoded data removed]",
      "text/plain": [
       "<Figure size 432x288 with 1 Axes>"
      ]
     },
     "metadata": {
      "needs_background": "light"
     },
     "output_type": "display_data"
    }
   ],
   "source": [
    "mon_freq.cumsum().plot()"
   ]
  },
  {
   "cell_type": "markdown",
   "metadata": {},
   "source": [
    "- 可见当表现时间窗口为20的时候,累积概率接近80%,即覆盖80%的客户\n",
    "- 如果认为覆盖80%的客户得到的模型相对稳定,则定义表现时间窗口为20个月,即首20期以后"
   ]
  },
  {
   "cell_type": "markdown",
   "metadata": {},
   "source": [
    "### 定义y的总结"
   ]
  },
  {
   "cell_type": "markdown",
   "metadata": {},
   "source": [
    "- 通过之前的数据筛选和汇总,我们定义观察时间窗口为M2(30-60天),表现时间窗口为20\n",
    "- 即对于所有客户来说,我们认为在订单生成20个月内\n",
    "    - 有M2以上的逾期,即逾期天数>=31天,为坏客户\n",
    "    - 有M1以下的逾期,即逾期天数<=3天,为好客户\n",
    "    - 中间状态的样本认为是不确定的不进入模型"
   ]
  },
  {
   "cell_type": "markdown",
   "metadata": {},
   "source": [
    "## 评分卡制作"
   ]
  },
  {
   "cell_type": "markdown",
   "metadata": {},
   "source": [
    "该数据是信贷数据,来自kaggle2011年的竞赛数据:[Give Me Some Credit](https://www.kaggle.com/c/GiveMeSomeCredit/overview),评判指标是AUC\n",
    "\n",
    "- SeriousDlqin2yrs:出现90天或更长时间的逾期行为(即定义好坏客户)\n",
    "- RevolvingUtilizationOfUnsecuredLines:贷款以及信用卡可用额度与总额度比例\n",
    "- age:借款人借款年龄\n",
    "- NumberOfTime30-59DaysPastDueNotWorse:过去两年内出现35-59天逾期但是没有发展的更坏的次数\n",
    "- DebtRatio:每月偿还债务,赡养费,生活费用除以月总收入\n",
    "- MonthlyIncome:月收入\n",
    "- NumberOfOpenCreditLinesAndLoans:开放式贷款和信贷数量\n",
    "- NumberOfTimes90DaysLate:借款者有90天或更高逾期的次数\n",
    "- NumberRealEstateLoansOrLines:抵押贷款和房地产贷款数量,包括房屋净值信贷额度\n",
    "- NumberOfTime60-89DaysPastDueNotWorse:过去两年内出现60-89天逾期但是没有发展的更坏的次数\n",
    "- NumberOfDependents:家庭中不包括自身的家属人数(配偶,子女等)"
   ]
  },
  {
   "cell_type": "markdown",
   "metadata": {},
   "source": [
    "### 读数据,数据描述"
   ]
  },
  {
   "cell_type": "code",
   "execution_count": 46,
   "metadata": {},
   "outputs": [],
   "source": [
    "os.chdir(\"D:/data/python\")\n",
    "train_data = pd.read_csv(\"cs-training.csv\",index_col=0)\n",
    "# index_col指明y的索引是第几列"
   ]
  },
  {
   "cell_type": "code",
   "execution_count": 47,
   "metadata": {},
   "outputs": [
    {
     "name": "stdout",
     "output_type": "stream",
     "text": [
      "(150000, 11)\n"
     ]
    },
    {
     "data": {
      "text/html": [
       "<div>\n",
       "<style scoped>\n",
       "    .dataframe tbody tr th:only-of-type {\n",
       "        vertical-align: middle;\n",
       "    }\n",
       "\n",
       "    .dataframe tbody tr th {\n",
       "        vertical-align: top;\n",
       "    }\n",
       "\n",
       "    .dataframe thead th {\n",
       "        text-align: right;\n",
       "    }\n",
       "</style>\n",
       "<table border=\"1\" class=\"dataframe\">\n",
       "  <thead>\n",
       "    <tr style=\"text-align: right;\">\n",
       "      <th></th>\n",
       "      <th>count</th>\n",
       "      <th>mean</th>\n",
       "      <th>std</th>\n",
       "      <th>min</th>\n",
       "      <th>50%</th>\n",
       "      <th>max</th>\n",
       "    </tr>\n",
       "  </thead>\n",
       "  <tbody>\n",
       "    <tr>\n",
       "      <th>SeriousDlqin2yrs</th>\n",
       "      <td>150000.0</td>\n",
       "      <td>0.07</td>\n",
       "      <td>0.25</td>\n",
       "      <td>0.0</td>\n",
       "      <td>0.00</td>\n",
       "      <td>1.0</td>\n",
       "    </tr>\n",
       "    <tr>\n",
       "      <th>RevolvingUtilizationOfUnsecuredLines</th>\n",
       "      <td>150000.0</td>\n",
       "      <td>6.05</td>\n",
       "      <td>249.76</td>\n",
       "      <td>0.0</td>\n",
       "      <td>0.15</td>\n",
       "      <td>50708.0</td>\n",
       "    </tr>\n",
       "    <tr>\n",
       "      <th>age</th>\n",
       "      <td>150000.0</td>\n",
       "      <td>52.30</td>\n",
       "      <td>14.77</td>\n",
       "      <td>0.0</td>\n",
       "      <td>52.00</td>\n",
       "      <td>109.0</td>\n",
       "    </tr>\n",
       "    <tr>\n",
       "      <th>NumberOfTime30-59DaysPastDueNotWorse</th>\n",
       "      <td>150000.0</td>\n",
       "      <td>0.42</td>\n",
       "      <td>4.19</td>\n",
       "      <td>0.0</td>\n",
       "      <td>0.00</td>\n",
       "      <td>98.0</td>\n",
       "    </tr>\n",
       "    <tr>\n",
       "      <th>DebtRatio</th>\n",
       "      <td>150000.0</td>\n",
       "      <td>353.01</td>\n",
       "      <td>2037.82</td>\n",
       "      <td>0.0</td>\n",
       "      <td>0.37</td>\n",
       "      <td>329664.0</td>\n",
       "    </tr>\n",
       "    <tr>\n",
       "      <th>MonthlyIncome</th>\n",
       "      <td>120269.0</td>\n",
       "      <td>6670.22</td>\n",
       "      <td>14384.67</td>\n",
       "      <td>0.0</td>\n",
       "      <td>5400.00</td>\n",
       "      <td>3008750.0</td>\n",
       "    </tr>\n",
       "    <tr>\n",
       "      <th>NumberOfOpenCreditLinesAndLoans</th>\n",
       "      <td>150000.0</td>\n",
       "      <td>8.45</td>\n",
       "      <td>5.15</td>\n",
       "      <td>0.0</td>\n",
       "      <td>8.00</td>\n",
       "      <td>58.0</td>\n",
       "    </tr>\n",
       "    <tr>\n",
       "      <th>NumberOfTimes90DaysLate</th>\n",
       "      <td>150000.0</td>\n",
       "      <td>0.27</td>\n",
       "      <td>4.17</td>\n",
       "      <td>0.0</td>\n",
       "      <td>0.00</td>\n",
       "      <td>98.0</td>\n",
       "    </tr>\n",
       "    <tr>\n",
       "      <th>NumberRealEstateLoansOrLines</th>\n",
       "      <td>150000.0</td>\n",
       "      <td>1.02</td>\n",
       "      <td>1.13</td>\n",
       "      <td>0.0</td>\n",
       "      <td>1.00</td>\n",
       "      <td>54.0</td>\n",
       "    </tr>\n",
       "    <tr>\n",
       "      <th>NumberOfTime60-89DaysPastDueNotWorse</th>\n",
       "      <td>150000.0</td>\n",
       "      <td>0.24</td>\n",
       "      <td>4.16</td>\n",
       "      <td>0.0</td>\n",
       "      <td>0.00</td>\n",
       "      <td>98.0</td>\n",
       "    </tr>\n",
       "    <tr>\n",
       "      <th>NumberOfDependents</th>\n",
       "      <td>146076.0</td>\n",
       "      <td>0.76</td>\n",
       "      <td>1.12</td>\n",
       "      <td>0.0</td>\n",
       "      <td>0.00</td>\n",
       "      <td>20.0</td>\n",
       "    </tr>\n",
       "  </tbody>\n",
       "</table>\n",
       "</div>"
      ],
      "text/plain": [
       "                                         count     mean       std  min  \\\n",
       "SeriousDlqin2yrs                      150000.0     0.07      0.25  0.0   \n",
       "RevolvingUtilizationOfUnsecuredLines  150000.0     6.05    249.76  0.0   \n",
       "age                                   150000.0    52.30     14.77  0.0   \n",
       "NumberOfTime30-59DaysPastDueNotWorse  150000.0     0.42      4.19  0.0   \n",
       "DebtRatio                             150000.0   353.01   2037.82  0.0   \n",
       "MonthlyIncome                         120269.0  6670.22  14384.67  0.0   \n",
       "NumberOfOpenCreditLinesAndLoans       150000.0     8.45      5.15  0.0   \n",
       "NumberOfTimes90DaysLate               150000.0     0.27      4.17  0.0   \n",
       "NumberRealEstateLoansOrLines          150000.0     1.02      1.13  0.0   \n",
       "NumberOfTime60-89DaysPastDueNotWorse  150000.0     0.24      4.16  0.0   \n",
       "NumberOfDependents                    146076.0     0.76      1.12  0.0   \n",
       "\n",
       "                                          50%        max  \n",
       "SeriousDlqin2yrs                         0.00        1.0  \n",
       "RevolvingUtilizationOfUnsecuredLines     0.15    50708.0  \n",
       "age                                     52.00      109.0  \n",
       "NumberOfTime30-59DaysPastDueNotWorse     0.00       98.0  \n",
       "DebtRatio                                0.37   329664.0  \n",
       "MonthlyIncome                         5400.00  3008750.0  \n",
       "NumberOfOpenCreditLinesAndLoans          8.00       58.0  \n",
       "NumberOfTimes90DaysLate                  0.00       98.0  \n",
       "NumberRealEstateLoansOrLines             1.00       54.0  \n",
       "NumberOfTime60-89DaysPastDueNotWorse     0.00       98.0  \n",
       "NumberOfDependents                       0.00       20.0  "
      ]
     },
     "execution_count": 47,
     "metadata": {},
     "output_type": "execute_result"
    }
   ],
   "source": [
    "print(train_data.shape)\n",
    "train_data.describe(include=\"all\",percentiles=[0.5]).T.round(2)"
   ]
  },
  {
   "cell_type": "markdown",
   "metadata": {},
   "source": [
    "修改列名:由于一些算法中,列名中的某些符号会带来问题甚至报错,例如这里的\"-\",会在回归公式中被认为是减号,所以换成\"_\""
   ]
  },
  {
   "cell_type": "code",
   "execution_count": 48,
   "metadata": {},
   "outputs": [],
   "source": [
    "train_data.columns = train_data.columns.map(lambda x: x.replace(\"-\",\"_\"))"
   ]
  },
  {
   "cell_type": "markdown",
   "metadata": {},
   "source": [
    "查看各列缺失值占比"
   ]
  },
  {
   "cell_type": "code",
   "execution_count": 49,
   "metadata": {},
   "outputs": [
    {
     "data": {
      "text/plain": [
       "SeriousDlqin2yrs                        0.000000\n",
       "RevolvingUtilizationOfUnsecuredLines    0.000000\n",
       "age                                     0.000000\n",
       "NumberOfTime30_59DaysPastDueNotWorse    0.000000\n",
       "DebtRatio                               0.000000\n",
       "MonthlyIncome                           0.198207\n",
       "NumberOfOpenCreditLinesAndLoans         0.000000\n",
       "NumberOfTimes90DaysLate                 0.000000\n",
       "NumberRealEstateLoansOrLines            0.000000\n",
       "NumberOfTime60_89DaysPastDueNotWorse    0.000000\n",
       "NumberOfDependents                      0.026160\n",
       "dtype: float64"
      ]
     },
     "execution_count": 49,
     "metadata": {},
     "output_type": "execute_result"
    }
   ],
   "source": [
    "train_data.isnull().mean()"
   ]
  },
  {
   "cell_type": "markdown",
   "metadata": {},
   "source": [
    "#### 去重\n",
    "\n",
    "- 对于一般模型影响不大,容易导致回归系数标准误降低,使得对应p值减小"
   ]
  },
  {
   "cell_type": "code",
   "execution_count": 50,
   "metadata": {},
   "outputs": [
    {
     "data": {
      "text/plain": [
       "(149391, 11)"
      ]
     },
     "execution_count": 50,
     "metadata": {},
     "output_type": "execute_result"
    }
   ],
   "source": [
    "train_data.drop_duplicates(inplace=True)\n",
    "train_data.shape"
   ]
  },
  {
   "cell_type": "markdown",
   "metadata": {},
   "source": [
    "- 可见数据中存在重复行"
   ]
  },
  {
   "cell_type": "markdown",
   "metadata": {},
   "source": [
    "### 缺失值处理"
   ]
  },
  {
   "cell_type": "markdown",
   "metadata": {},
   "source": [
    "缺失值处理方法的选择,主要依据是业务逻辑和缺失值占比,在对预测结果的影响尽可能小的情况下,对缺失值进行处理以满足算法需求,所以要理解每个缺失值处理方法带来的影响,下面的缺失值处理方法没有特殊说明均是对特征(列)的处理:\n",
    "\n",
    "1. 占比较多:如80%以上:删除缺失值所在的列\n",
    "    - 如果某些行缺失值占比较多,或者缺失值所在字段是苛刻的必须有值的,删除行\n",
    "2. 占比一般:如30%-80%:将缺失值作为单独的一个分类\n",
    "    - 如果特征是连续的,则其他已有值分箱\n",
    "    - 如果特征是分类的,考虑其他分类是否需要重分箱\n",
    "3. 占比少:10%-30%:多重插补:认为若干特征之间有相关性,则可以相互预测缺失值\n",
    "    - 需满足的假设:MAR:Missing At Random:数据缺失的概率仅和已观测的数据相关,即缺失的概率与未知的数据无关,即与变量的具体数值无关\n",
    "    - 迭代(循环)次数可能的话超过40,选择所有的变量甚至额外的辅助变量\n",
    "    - 详细的计算过程参考:[Multiple Imputation by Chained Equations: What is it and how does it work?](https://www.ncbi.nlm.nih.gov/pmc/articles/PMC3074241/)\n",
    "4. 占比较少:10%以下:单一值替换,如中位数,众数\n",
    "5. 在决策树中可以将缺失值处理融合到算法里:按比重分配\n",
    "\n",
    "这里的占比并不是固定的,例如缺失值占比只有5%,仍可以用第二种方法,主要依据业务逻辑和算法需求"
   ]
  },
  {
   "cell_type": "markdown",
   "metadata": {},
   "source": [
    "#### 查看缺失值分布情况"
   ]
  },
  {
   "cell_type": "code",
   "execution_count": 51,
   "metadata": {},
   "outputs": [],
   "source": [
    "import missingno as msno\n",
    "# 处理缺失值的包,需要安装"
   ]
  },
  {
   "cell_type": "code",
   "execution_count": 52,
   "metadata": {},
   "outputs": [
    {
     "data": {
      "image/png": "[encoded data removed]",
      "text/plain": [
       "<Figure size 1800x720 with 2 Axes>"
      ]
     },
     "metadata": {
      "needs_background": "light"
     },
     "output_type": "display_data"
    }
   ],
   "source": [
    "msno.matrix(train_data)\n",
    "plt.show()"
   ]
  },
  {
   "cell_type": "code",
   "execution_count": 53,
   "metadata": {
    "scrolled": true
   },
   "outputs": [
    {
     "data": {
      "image/png": "[encoded data removed]",
      "text/plain": [
       "<Figure size 432x288 with 1 Axes>"
      ]
     },
     "metadata": {
      "needs_background": "light"
     },
     "output_type": "display_data"
    }
   ],
   "source": [
    "plt.imshow(~train_data.isna(),aspect=\"auto\")\n",
    "plt.gray()"
   ]
  },
  {
   "cell_type": "markdown",
   "metadata": {},
   "source": [
    "本数据的缺失值处理逻辑:\n",
    "\n",
    "- 对于信用评分卡来说,由于所有变量都需要分箱,故这里缺失值作为单独的箱子即可\n",
    "- 对于最后一列NumberOfDependents,缺失值占比只有2.56%,作为单独的箱子信息不够,故做单一值填补,这列表示家庭人口数,有右偏的倾向,且属于计数的数据,故使用中位数填补\n",
    "- 这里没必要进行多重插补,下面的多重插补只是为了让读者熟悉此操作"
   ]
  },
  {
   "cell_type": "markdown",
   "metadata": {},
   "source": [
    "#### 尝试多重插补"
   ]
  },
  {
   "cell_type": "code",
   "execution_count": 54,
   "metadata": {},
   "outputs": [],
   "source": [
    "from statsmodels.imputation import mice\n",
    "# 加载所需包"
   ]
  },
  {
   "cell_type": "code",
   "execution_count": 55,
   "metadata": {},
   "outputs": [
    {
     "name": "stderr",
     "output_type": "stream",
     "text": [
      "C:\\Programs\\Anaconda3\\lib\\site-packages\\statsmodels\\imputation\\mice.py:1081: FutureWarning: Using a non-tuple sequence for multidimensional indexing is deprecated; use `arr[tuple(seq)]` instead of `arr[seq]`. In the future this will be interpreted as an array index, `arr[np.array(seq)]`, which will result either in an error or a different result.\n",
      "  ix = dxi[[jj, ir]]\n",
      "C:\\Programs\\Anaconda3\\lib\\site-packages\\pandas\\core\\indexing.py:190: SettingWithCopyWarning: \n",
      "A value is trying to be set on a copy of a slice from a DataFrame\n",
      "\n",
      "See the caveats in the documentation: http://pandas.pydata.org/pandas-docs/stable/indexing.html#indexing-view-versus-copy\n",
      "  self._setitem_with_indexer(indexer, value)\n"
     ]
    }
   ],
   "source": [
    "imdata = train_data.copy()\n",
    "# 拷贝数据\n",
    "imp = mice.MICEData(imdata)\n",
    "# 指定数据\n",
    "imp.update_all(20)\n",
    "# 指定MICE的迭代次数"
   ]
  },
  {
   "cell_type": "code",
   "execution_count": 56,
   "metadata": {
    "scrolled": true
   },
   "outputs": [
    {
     "data": {
      "text/html": [
       "<div>\n",
       "<style scoped>\n",
       "    .dataframe tbody tr th:only-of-type {\n",
       "        vertical-align: middle;\n",
       "    }\n",
       "\n",
       "    .dataframe tbody tr th {\n",
       "        vertical-align: top;\n",
       "    }\n",
       "\n",
       "    .dataframe thead th {\n",
       "        text-align: right;\n",
       "    }\n",
       "</style>\n",
       "<table border=\"1\" class=\"dataframe\">\n",
       "  <thead>\n",
       "    <tr style=\"text-align: right;\">\n",
       "      <th></th>\n",
       "      <th>count</th>\n",
       "      <th>mean</th>\n",
       "      <th>std</th>\n",
       "      <th>min</th>\n",
       "      <th>25%</th>\n",
       "      <th>50%</th>\n",
       "      <th>75%</th>\n",
       "      <th>max</th>\n",
       "    </tr>\n",
       "  </thead>\n",
       "  <tbody>\n",
       "    <tr>\n",
       "      <th>SeriousDlqin2yrs</th>\n",
       "      <td>149391.0</td>\n",
       "      <td>0.07</td>\n",
       "      <td>0.25</td>\n",
       "      <td>0.0</td>\n",
       "      <td>0.00</td>\n",
       "      <td>0.00</td>\n",
       "      <td>0.00</td>\n",
       "      <td>1.0</td>\n",
       "    </tr>\n",
       "    <tr>\n",
       "      <th>RevolvingUtilizationOfUnsecuredLines</th>\n",
       "      <td>149391.0</td>\n",
       "      <td>6.07</td>\n",
       "      <td>250.26</td>\n",
       "      <td>0.0</td>\n",
       "      <td>0.03</td>\n",
       "      <td>0.15</td>\n",
       "      <td>0.56</td>\n",
       "      <td>50708.0</td>\n",
       "    </tr>\n",
       "    <tr>\n",
       "      <th>age</th>\n",
       "      <td>149391.0</td>\n",
       "      <td>52.31</td>\n",
       "      <td>14.73</td>\n",
       "      <td>0.0</td>\n",
       "      <td>41.00</td>\n",
       "      <td>52.00</td>\n",
       "      <td>63.00</td>\n",
       "      <td>109.0</td>\n",
       "    </tr>\n",
       "    <tr>\n",
       "      <th>NumberOfTime30_59DaysPastDueNotWorse</th>\n",
       "      <td>149391.0</td>\n",
       "      <td>0.39</td>\n",
       "      <td>3.85</td>\n",
       "      <td>0.0</td>\n",
       "      <td>0.00</td>\n",
       "      <td>0.00</td>\n",
       "      <td>0.00</td>\n",
       "      <td>98.0</td>\n",
       "    </tr>\n",
       "    <tr>\n",
       "      <th>DebtRatio</th>\n",
       "      <td>149391.0</td>\n",
       "      <td>354.44</td>\n",
       "      <td>2041.84</td>\n",
       "      <td>0.0</td>\n",
       "      <td>0.18</td>\n",
       "      <td>0.37</td>\n",
       "      <td>0.88</td>\n",
       "      <td>329664.0</td>\n",
       "    </tr>\n",
       "    <tr>\n",
       "      <th>MonthlyIncome</th>\n",
       "      <td>149391.0</td>\n",
       "      <td>6186.86</td>\n",
       "      <td>13162.38</td>\n",
       "      <td>0.0</td>\n",
       "      <td>3000.00</td>\n",
       "      <td>5000.00</td>\n",
       "      <td>7750.00</td>\n",
       "      <td>3008750.0</td>\n",
       "    </tr>\n",
       "    <tr>\n",
       "      <th>NumberOfOpenCreditLinesAndLoans</th>\n",
       "      <td>149391.0</td>\n",
       "      <td>8.48</td>\n",
       "      <td>5.14</td>\n",
       "      <td>0.0</td>\n",
       "      <td>5.00</td>\n",
       "      <td>8.00</td>\n",
       "      <td>11.00</td>\n",
       "      <td>58.0</td>\n",
       "    </tr>\n",
       "    <tr>\n",
       "      <th>NumberOfTimes90DaysLate</th>\n",
       "      <td>149391.0</td>\n",
       "      <td>0.24</td>\n",
       "      <td>3.83</td>\n",
       "      <td>0.0</td>\n",
       "      <td>0.00</td>\n",
       "      <td>0.00</td>\n",
       "      <td>0.00</td>\n",
       "      <td>98.0</td>\n",
       "    </tr>\n",
       "    <tr>\n",
       "      <th>NumberRealEstateLoansOrLines</th>\n",
       "      <td>149391.0</td>\n",
       "      <td>1.02</td>\n",
       "      <td>1.13</td>\n",
       "      <td>0.0</td>\n",
       "      <td>0.00</td>\n",
       "      <td>1.00</td>\n",
       "      <td>2.00</td>\n",
       "      <td>54.0</td>\n",
       "    </tr>\n",
       "    <tr>\n",
       "      <th>NumberOfTime60_89DaysPastDueNotWorse</th>\n",
       "      <td>149391.0</td>\n",
       "      <td>0.21</td>\n",
       "      <td>3.81</td>\n",
       "      <td>0.0</td>\n",
       "      <td>0.00</td>\n",
       "      <td>0.00</td>\n",
       "      <td>0.00</td>\n",
       "      <td>98.0</td>\n",
       "    </tr>\n",
       "    <tr>\n",
       "      <th>NumberOfDependents</th>\n",
       "      <td>149391.0</td>\n",
       "      <td>0.75</td>\n",
       "      <td>1.11</td>\n",
       "      <td>0.0</td>\n",
       "      <td>0.00</td>\n",
       "      <td>0.00</td>\n",
       "      <td>1.00</td>\n",
       "      <td>20.0</td>\n",
       "    </tr>\n",
       "  </tbody>\n",
       "</table>\n",
       "</div>"
      ],
      "text/plain": [
       "                                         count     mean       std  min  \\\n",
       "SeriousDlqin2yrs                      149391.0     0.07      0.25  0.0   \n",
       "RevolvingUtilizationOfUnsecuredLines  149391.0     6.07    250.26  0.0   \n",
       "age                                   149391.0    52.31     14.73  0.0   \n",
       "NumberOfTime30_59DaysPastDueNotWorse  149391.0     0.39      3.85  0.0   \n",
       "DebtRatio                             149391.0   354.44   2041.84  0.0   \n",
       "MonthlyIncome                         149391.0  6186.86  13162.38  0.0   \n",
       "NumberOfOpenCreditLinesAndLoans       149391.0     8.48      5.14  0.0   \n",
       "NumberOfTimes90DaysLate               149391.0     0.24      3.83  0.0   \n",
       "NumberRealEstateLoansOrLines          149391.0     1.02      1.13  0.0   \n",
       "NumberOfTime60_89DaysPastDueNotWorse  149391.0     0.21      3.81  0.0   \n",
       "NumberOfDependents                    149391.0     0.75      1.11  0.0   \n",
       "\n",
       "                                          25%      50%      75%        max  \n",
       "SeriousDlqin2yrs                         0.00     0.00     0.00        1.0  \n",
       "RevolvingUtilizationOfUnsecuredLines     0.03     0.15     0.56    50708.0  \n",
       "age                                     41.00    52.00    63.00      109.0  \n",
       "NumberOfTime30_59DaysPastDueNotWorse     0.00     0.00     0.00       98.0  \n",
       "DebtRatio                                0.18     0.37     0.88   329664.0  \n",
       "MonthlyIncome                         3000.00  5000.00  7750.00  3008750.0  \n",
       "NumberOfOpenCreditLinesAndLoans          5.00     8.00    11.00       58.0  \n",
       "NumberOfTimes90DaysLate                  0.00     0.00     0.00       98.0  \n",
       "NumberRealEstateLoansOrLines             0.00     1.00     2.00       54.0  \n",
       "NumberOfTime60_89DaysPastDueNotWorse     0.00     0.00     0.00       98.0  \n",
       "NumberOfDependents                       0.00     0.00     1.00       20.0  "
      ]
     },
     "execution_count": 56,
     "metadata": {},
     "output_type": "execute_result"
    }
   ],
   "source": [
    "imdata_new = imp.data\n",
    "imdata_new.describe(include=\"all\").T.round(2)"
   ]
  },
  {
   "cell_type": "markdown",
   "metadata": {},
   "source": [
    "可以看到所有的缺失值已经填补了"
   ]
  },
  {
   "cell_type": "markdown",
   "metadata": {},
   "source": [
    "#### 单一值替换\n",
    "\n",
    "将最后一列NumberOfDependents的缺失值替换成中位数 "
   ]
  },
  {
   "cell_type": "code",
   "execution_count": 57,
   "metadata": {},
   "outputs": [],
   "source": [
    "NOD_median =  train_data[\"NumberOfDependents\"].median()\n",
    "train_data[\"NumberOfDependents\"].fillna(NOD_median,inplace=True)\n",
    "# fillna填补缺失值的函数,这里用中位数填补"
   ]
  },
  {
   "cell_type": "markdown",
   "metadata": {},
   "source": [
    "### 异常值处理"
   ]
  },
  {
   "cell_type": "markdown",
   "metadata": {},
   "source": [
    "异常值常见的处理方法:\n",
    "\n",
    "1. 删除所在的行\n",
    "2. 替换成缺失值,与缺失值一起处理\n",
    "3. 盖帽法处理\n",
    "\n",
    "结合业务逻辑和算法需求判断是否需要处理异常值以及如何处理,一般情况下盖帽法即可,即将极端异常的值改成不那么异常的极值,当然一些算法例如决策树中连续变量的异常值也可以不做处理"
   ]
  },
  {
   "cell_type": "markdown",
   "metadata": {},
   "source": [
    "#### 定义盖帽法函数"
   ]
  },
  {
   "cell_type": "code",
   "execution_count": 58,
   "metadata": {},
   "outputs": [],
   "source": [
    "def block(x,lower=True,upper=True):\n",
    "# x是输入的Series对象,lower表示是否替换1%分位数,upper表示是否替换99%分位数\n",
    "    ql = x.quantile(.01)\n",
    "    qu = x.quantile(.99)\n",
    "    if lower:\n",
    "        out = x.mask(x<ql,ql)\n",
    "    if upper:\n",
    "        out = x.mask(x>qu,qu)\n",
    "    return(out)"
   ]
  },
  {
   "cell_type": "markdown",
   "metadata": {},
   "source": [
    "- 互换y中的0,1"
   ]
  },
  {
   "cell_type": "code",
   "execution_count": 59,
   "metadata": {},
   "outputs": [],
   "source": [
    "train_data[\"SeriousDlqin2yrs\"] = -(train_data.SeriousDlqin2yrs-1)"
   ]
  },
  {
   "cell_type": "markdown",
   "metadata": {},
   "source": [
    "#### 汇总清洗过程,生成函数"
   ]
  },
  {
   "cell_type": "code",
   "execution_count": 60,
   "metadata": {},
   "outputs": [],
   "source": [
    "def datacleaning(testdata,include_y=False):\n",
    "    testdata.columns = testdata.columns.map(lambda x: x.replace(\"-\",\"_\"))\n",
    "    testdata[\"NumberOfDependents\"].fillna(NOD_median,inplace=True)\n",
    "    if include_y:\n",
    "        testdata[\"SeriousDlqin2yrs\"] = -(testdata[\"SeriousDlqin2yrs\"]-1)\n",
    "    return(testdata)"
   ]
  },
  {
   "cell_type": "markdown",
   "metadata": {},
   "source": [
    "### 对每个x生成分箱对象"
   ]
  },
  {
   "cell_type": "markdown",
   "metadata": {},
   "source": [
    "对每个x生成一个对象;记录IV值;生成WOE图"
   ]
  },
  {
   "cell_type": "markdown",
   "metadata": {},
   "source": [
    "- 运行自定义函数所在的文件"
   ]
  },
  {
   "cell_type": "code",
   "execution_count": 61,
   "metadata": {},
   "outputs": [
    {
     "data": {
      "text/plain": [
       "<Figure size 432x288 with 0 Axes>"
      ]
     },
     "metadata": {},
     "output_type": "display_data"
    }
   ],
   "source": [
    "%run smob.py"
   ]
  },
  {
   "cell_type": "markdown",
   "metadata": {},
   "source": [
    "- 定义y的名字\n",
    "- 初始化IV值对象"
   ]
  },
  {
   "cell_type": "code",
   "execution_count": 62,
   "metadata": {},
   "outputs": [],
   "source": [
    "y = \"SeriousDlqin2yrs\"\n",
    "iv_all = pd.Series()"
   ]
  },
  {
   "cell_type": "markdown",
   "metadata": {},
   "source": [
    "#### RevolvingUtilizationOfUnsecuredLines"
   ]
  },
  {
   "cell_type": "code",
   "execution_count": 63,
   "metadata": {},
   "outputs": [
    {
     "name": "stderr",
     "output_type": "stream",
     "text": [
      "C:\\Programs\\Anaconda3\\lib\\importlib\\_bootstrap.py:219: RuntimeWarning: numpy.ufunc size changed, may indicate binary incompatibility. Expected 192 from C header, got 216 from PyObject\n",
      "  return f(*args, **kwds)\n"
     ]
    },
    {
     "data": {
      "image/png": "[encoded data removed]",
      "text/plain": [
       "<Figure size 1152x720 with 1 Axes>"
      ]
     },
     "metadata": {
      "needs_background": "light"
     },
     "output_type": "display_data"
    }
   ],
   "source": [
    "RUO = smbin(train_data,y,\"RevolvingUtilizationOfUnsecuredLines\")"
   ]
  },
  {
   "cell_type": "markdown",
   "metadata": {},
   "source": [
    "- 查看IVtable"
   ]
  },
  {
   "cell_type": "code",
   "execution_count": 64,
   "metadata": {
    "scrolled": true
   },
   "outputs": [
    {
     "data": {
      "text/html": [
       "<div>\n",
       "<style scoped>\n",
       "    .dataframe tbody tr th:only-of-type {\n",
       "        vertical-align: middle;\n",
       "    }\n",
       "\n",
       "    .dataframe tbody tr th {\n",
       "        vertical-align: top;\n",
       "    }\n",
       "\n",
       "    .dataframe thead th {\n",
       "        text-align: right;\n",
       "    }\n",
       "</style>\n",
       "<table border=\"1\" class=\"dataframe\">\n",
       "  <thead>\n",
       "    <tr style=\"text-align: right;\">\n",
       "      <th></th>\n",
       "      <th>Bins</th>\n",
       "      <th>CntRec</th>\n",
       "      <th>CntGood</th>\n",
       "      <th>CntBad</th>\n",
       "      <th>PctRec</th>\n",
       "      <th>PctGood</th>\n",
       "      <th>PctBad</th>\n",
       "      <th>WOE</th>\n",
       "      <th>IV</th>\n",
       "    </tr>\n",
       "  </thead>\n",
       "  <tbody>\n",
       "    <tr>\n",
       "      <th>0</th>\n",
       "      <td>(-0.001, 0.132]</td>\n",
       "      <td>70734</td>\n",
       "      <td>69424</td>\n",
       "      <td>1310</td>\n",
       "      <td>0.473482</td>\n",
       "      <td>0.498084</td>\n",
       "      <td>0.130882</td>\n",
       "      <td>1.3365</td>\n",
       "      <td>0.4908</td>\n",
       "    </tr>\n",
       "    <tr>\n",
       "      <th>1</th>\n",
       "      <td>(0.132, 0.301]</td>\n",
       "      <td>21938</td>\n",
       "      <td>21185</td>\n",
       "      <td>753</td>\n",
       "      <td>0.146850</td>\n",
       "      <td>0.151992</td>\n",
       "      <td>0.075232</td>\n",
       "      <td>0.7032</td>\n",
       "      <td>0.0540</td>\n",
       "    </tr>\n",
       "    <tr>\n",
       "      <th>2</th>\n",
       "      <td>(0.301, 0.495]</td>\n",
       "      <td>15380</td>\n",
       "      <td>14486</td>\n",
       "      <td>894</td>\n",
       "      <td>0.102951</td>\n",
       "      <td>0.103930</td>\n",
       "      <td>0.089320</td>\n",
       "      <td>0.1515</td>\n",
       "      <td>0.0022</td>\n",
       "    </tr>\n",
       "    <tr>\n",
       "      <th>3</th>\n",
       "      <td>(0.495, 0.698]</td>\n",
       "      <td>11599</td>\n",
       "      <td>10499</td>\n",
       "      <td>1100</td>\n",
       "      <td>0.077642</td>\n",
       "      <td>0.075325</td>\n",
       "      <td>0.109901</td>\n",
       "      <td>-0.3778</td>\n",
       "      <td>0.0131</td>\n",
       "    </tr>\n",
       "    <tr>\n",
       "      <th>4</th>\n",
       "      <td>(0.698, 0.863]</td>\n",
       "      <td>7985</td>\n",
       "      <td>6860</td>\n",
       "      <td>1125</td>\n",
       "      <td>0.053450</td>\n",
       "      <td>0.049217</td>\n",
       "      <td>0.112399</td>\n",
       "      <td>-0.8258</td>\n",
       "      <td>0.0522</td>\n",
       "    </tr>\n",
       "    <tr>\n",
       "      <th>5</th>\n",
       "      <td>(0.863, 1.003]</td>\n",
       "      <td>18592</td>\n",
       "      <td>14962</td>\n",
       "      <td>3630</td>\n",
       "      <td>0.124452</td>\n",
       "      <td>0.107345</td>\n",
       "      <td>0.362674</td>\n",
       "      <td>-1.2175</td>\n",
       "      <td>0.3109</td>\n",
       "    </tr>\n",
       "    <tr>\n",
       "      <th>6</th>\n",
       "      <td>(1.003, 50708.0]</td>\n",
       "      <td>3163</td>\n",
       "      <td>1966</td>\n",
       "      <td>1197</td>\n",
       "      <td>0.021173</td>\n",
       "      <td>0.014105</td>\n",
       "      <td>0.119592</td>\n",
       "      <td>-2.1376</td>\n",
       "      <td>0.2255</td>\n",
       "    </tr>\n",
       "    <tr>\n",
       "      <th>7</th>\n",
       "      <td>Total</td>\n",
       "      <td>149391</td>\n",
       "      <td>139382</td>\n",
       "      <td>10009</td>\n",
       "      <td>1.000000</td>\n",
       "      <td>1.000000</td>\n",
       "      <td>1.000000</td>\n",
       "      <td>NaN</td>\n",
       "      <td>1.1487</td>\n",
       "    </tr>\n",
       "  </tbody>\n",
       "</table>\n",
       "</div>"
      ],
      "text/plain": [
       "               Bins  CntRec  CntGood  CntBad    PctRec   PctGood    PctBad  \\\n",
       "0   (-0.001, 0.132]   70734    69424    1310  0.473482  0.498084  0.130882   \n",
       "1    (0.132, 0.301]   21938    21185     753  0.146850  0.151992  0.075232   \n",
       "2    (0.301, 0.495]   15380    14486     894  0.102951  0.103930  0.089320   \n",
       "3    (0.495, 0.698]   11599    10499    1100  0.077642  0.075325  0.109901   \n",
       "4    (0.698, 0.863]    7985     6860    1125  0.053450  0.049217  0.112399   \n",
       "5    (0.863, 1.003]   18592    14962    3630  0.124452  0.107345  0.362674   \n",
       "6  (1.003, 50708.0]    3163     1966    1197  0.021173  0.014105  0.119592   \n",
       "7             Total  149391   139382   10009  1.000000  1.000000  1.000000   \n",
       "\n",
       "      WOE      IV  \n",
       "0  1.3365  0.4908  \n",
       "1  0.7032  0.0540  \n",
       "2  0.1515  0.0022  \n",
       "3 -0.3778  0.0131  \n",
       "4 -0.8258  0.0522  \n",
       "5 -1.2175  0.3109  \n",
       "6 -2.1376  0.2255  \n",
       "7     NaN  1.1487  "
      ]
     },
     "execution_count": 64,
     "metadata": {},
     "output_type": "execute_result"
    }
   ],
   "source": [
    "RUO.IVtable"
   ]
  },
  {
   "cell_type": "markdown",
   "metadata": {},
   "source": [
    "- 查看树结构"
   ]
  },
  {
   "cell_type": "code",
   "execution_count": 65,
   "metadata": {},
   "outputs": [
    {
     "name": "stdout",
     "output_type": "stream",
     "text": [
      "The cart tree structure has 13 nodes, tree structure: \n",
      "node = 0 test node: go to node 1 if RevolvingUtilizationOfUnsecuredLines <= 0.7 else to node 2.\n",
      "\tnode = 1 test node: go to node 5 if RevolvingUtilizationOfUnsecuredLines <= 0.3 else to node 6.\n",
      "\tnode = 2 test node: go to node 3 if RevolvingUtilizationOfUnsecuredLines <= 1.0 else to node 4.\n",
      "\t\tnode = 3 test node: go to node 7 if RevolvingUtilizationOfUnsecuredLines <= 0.86 else to node 8.\n",
      "\t\tnode = 4 leaf node.\n",
      "\t\tnode = 5 test node: go to node 11 if RevolvingUtilizationOfUnsecuredLines <= 0.13 else to node 12.\n",
      "\t\tnode = 6 test node: go to node 9 if RevolvingUtilizationOfUnsecuredLines <= 0.49 else to node 10.\n",
      "\t\t\tnode = 7 leaf node.\n",
      "\t\t\tnode = 8 leaf node.\n",
      "\t\t\tnode = 9 leaf node.\n",
      "\t\t\tnode = 10 leaf node.\n",
      "\t\t\tnode = 11 leaf node.\n",
      "\t\t\tnode = 12 leaf node.\n",
      "\n"
     ]
    }
   ],
   "source": [
    "print(RUO.Tree_structure)"
   ]
  },
  {
   "cell_type": "markdown",
   "metadata": {},
   "source": [
    "- 保存IV值"
   ]
  },
  {
   "cell_type": "code",
   "execution_count": 66,
   "metadata": {},
   "outputs": [],
   "source": [
    "iv_all = iv_all.append(pd.Series({\"RevolvingUtilizationOfUnsecuredLines\":RUO.IV}))"
   ]
  },
  {
   "cell_type": "markdown",
   "metadata": {},
   "source": [
    "#### age"
   ]
  },
  {
   "cell_type": "code",
   "execution_count": 67,
   "metadata": {},
   "outputs": [
    {
     "data": {
      "image/png": "[encoded data removed]",
      "text/plain": [
       "<Figure size 1152x720 with 1 Axes>"
      ]
     },
     "metadata": {
      "needs_background": "light"
     },
     "output_type": "display_data"
    }
   ],
   "source": [
    "age = smbin(train_data,y,\"age\")"
   ]
  },
  {
   "cell_type": "markdown",
   "metadata": {},
   "source": [
    "- 查看IVtable"
   ]
  },
  {
   "cell_type": "code",
   "execution_count": 68,
   "metadata": {
    "scrolled": true
   },
   "outputs": [
    {
     "data": {
      "text/html": [
       "<div>\n",
       "<style scoped>\n",
       "    .dataframe tbody tr th:only-of-type {\n",
       "        vertical-align: middle;\n",
       "    }\n",
       "\n",
       "    .dataframe tbody tr th {\n",
       "        vertical-align: top;\n",
       "    }\n",
       "\n",
       "    .dataframe thead th {\n",
       "        text-align: right;\n",
       "    }\n",
       "</style>\n",
       "<table border=\"1\" class=\"dataframe\">\n",
       "  <thead>\n",
       "    <tr style=\"text-align: right;\">\n",
       "      <th></th>\n",
       "      <th>Bins</th>\n",
       "      <th>CntRec</th>\n",
       "      <th>CntGood</th>\n",
       "      <th>CntBad</th>\n",
       "      <th>PctRec</th>\n",
       "      <th>PctGood</th>\n",
       "      <th>PctBad</th>\n",
       "      <th>WOE</th>\n",
       "      <th>IV</th>\n",
       "    </tr>\n",
       "  </thead>\n",
       "  <tbody>\n",
       "    <tr>\n",
       "      <th>0</th>\n",
       "      <td>(-0.001, 36.5]</td>\n",
       "      <td>23628</td>\n",
       "      <td>21011</td>\n",
       "      <td>2617</td>\n",
       "      <td>0.158162</td>\n",
       "      <td>0.150744</td>\n",
       "      <td>0.261465</td>\n",
       "      <td>-0.5507</td>\n",
       "      <td>0.0610</td>\n",
       "    </tr>\n",
       "    <tr>\n",
       "      <th>1</th>\n",
       "      <td>(36.5, 43.5]</td>\n",
       "      <td>20609</td>\n",
       "      <td>18746</td>\n",
       "      <td>1863</td>\n",
       "      <td>0.137953</td>\n",
       "      <td>0.134494</td>\n",
       "      <td>0.186132</td>\n",
       "      <td>-0.3249</td>\n",
       "      <td>0.0168</td>\n",
       "    </tr>\n",
       "    <tr>\n",
       "      <th>2</th>\n",
       "      <td>(43.5, 55.5]</td>\n",
       "      <td>43428</td>\n",
       "      <td>40119</td>\n",
       "      <td>3309</td>\n",
       "      <td>0.290700</td>\n",
       "      <td>0.287835</td>\n",
       "      <td>0.330602</td>\n",
       "      <td>-0.1385</td>\n",
       "      <td>0.0059</td>\n",
       "    </tr>\n",
       "    <tr>\n",
       "      <th>3</th>\n",
       "      <td>(55.5, 62.5]</td>\n",
       "      <td>23972</td>\n",
       "      <td>22764</td>\n",
       "      <td>1208</td>\n",
       "      <td>0.160465</td>\n",
       "      <td>0.163321</td>\n",
       "      <td>0.120691</td>\n",
       "      <td>0.3025</td>\n",
       "      <td>0.0129</td>\n",
       "    </tr>\n",
       "    <tr>\n",
       "      <th>4</th>\n",
       "      <td>(62.5, 109.0]</td>\n",
       "      <td>37754</td>\n",
       "      <td>36742</td>\n",
       "      <td>1012</td>\n",
       "      <td>0.252719</td>\n",
       "      <td>0.263606</td>\n",
       "      <td>0.101109</td>\n",
       "      <td>0.9583</td>\n",
       "      <td>0.1557</td>\n",
       "    </tr>\n",
       "    <tr>\n",
       "      <th>5</th>\n",
       "      <td>Total</td>\n",
       "      <td>149391</td>\n",
       "      <td>139382</td>\n",
       "      <td>10009</td>\n",
       "      <td>1.000000</td>\n",
       "      <td>1.000000</td>\n",
       "      <td>1.000000</td>\n",
       "      <td>NaN</td>\n",
       "      <td>0.2523</td>\n",
       "    </tr>\n",
       "  </tbody>\n",
       "</table>\n",
       "</div>"
      ],
      "text/plain": [
       "             Bins  CntRec  CntGood  CntBad    PctRec   PctGood    PctBad  \\\n",
       "0  (-0.001, 36.5]   23628    21011    2617  0.158162  0.150744  0.261465   \n",
       "1    (36.5, 43.5]   20609    18746    1863  0.137953  0.134494  0.186132   \n",
       "2    (43.5, 55.5]   43428    40119    3309  0.290700  0.287835  0.330602   \n",
       "3    (55.5, 62.5]   23972    22764    1208  0.160465  0.163321  0.120691   \n",
       "4   (62.5, 109.0]   37754    36742    1012  0.252719  0.263606  0.101109   \n",
       "5           Total  149391   139382   10009  1.000000  1.000000  1.000000   \n",
       "\n",
       "      WOE      IV  \n",
       "0 -0.5507  0.0610  \n",
       "1 -0.3249  0.0168  \n",
       "2 -0.1385  0.0059  \n",
       "3  0.3025  0.0129  \n",
       "4  0.9583  0.1557  \n",
       "5     NaN  0.2523  "
      ]
     },
     "execution_count": 68,
     "metadata": {},
     "output_type": "execute_result"
    }
   ],
   "source": [
    "age.IVtable"
   ]
  },
  {
   "cell_type": "markdown",
   "metadata": {},
   "source": [
    "- 保存IV值"
   ]
  },
  {
   "cell_type": "code",
   "execution_count": 69,
   "metadata": {},
   "outputs": [],
   "source": [
    "iv_all = iv_all.append(pd.Series({\"age\":age.IV}))"
   ]
  },
  {
   "cell_type": "markdown",
   "metadata": {},
   "source": [
    "#### NumberOfTime30_59DaysPastDueNotWorse"
   ]
  },
  {
   "cell_type": "code",
   "execution_count": 70,
   "metadata": {},
   "outputs": [
    {
     "data": {
      "image/png": "[encoded data removed]",
      "text/plain": [
       "<Figure size 1152x720 with 1 Axes>"
      ]
     },
     "metadata": {
      "needs_background": "light"
     },
     "output_type": "display_data"
    }
   ],
   "source": [
    "NO3059 = smbin(train_data,y,\"NumberOfTime30_59DaysPastDueNotWorse\")"
   ]
  },
  {
   "cell_type": "code",
   "execution_count": 71,
   "metadata": {
    "scrolled": true
   },
   "outputs": [
    {
     "data": {
      "text/html": [
       "<div>\n",
       "<style scoped>\n",
       "    .dataframe tbody tr th:only-of-type {\n",
       "        vertical-align: middle;\n",
       "    }\n",
       "\n",
       "    .dataframe tbody tr th {\n",
       "        vertical-align: top;\n",
       "    }\n",
       "\n",
       "    .dataframe thead th {\n",
       "        text-align: right;\n",
       "    }\n",
       "</style>\n",
       "<table border=\"1\" class=\"dataframe\">\n",
       "  <thead>\n",
       "    <tr style=\"text-align: right;\">\n",
       "      <th></th>\n",
       "      <th>Bins</th>\n",
       "      <th>CntRec</th>\n",
       "      <th>CntGood</th>\n",
       "      <th>CntBad</th>\n",
       "      <th>PctRec</th>\n",
       "      <th>PctGood</th>\n",
       "      <th>PctBad</th>\n",
       "      <th>WOE</th>\n",
       "      <th>IV</th>\n",
       "    </tr>\n",
       "  </thead>\n",
       "  <tbody>\n",
       "    <tr>\n",
       "      <th>0</th>\n",
       "      <td>(-0.001, 0.5]</td>\n",
       "      <td>125453</td>\n",
       "      <td>120418</td>\n",
       "      <td>5035</td>\n",
       "      <td>0.839763</td>\n",
       "      <td>0.863942</td>\n",
       "      <td>0.503047</td>\n",
       "      <td>0.5408</td>\n",
       "      <td>0.1952</td>\n",
       "    </tr>\n",
       "    <tr>\n",
       "      <th>1</th>\n",
       "      <td>(0.5, 1.5]</td>\n",
       "      <td>16033</td>\n",
       "      <td>13624</td>\n",
       "      <td>2409</td>\n",
       "      <td>0.107322</td>\n",
       "      <td>0.097746</td>\n",
       "      <td>0.240683</td>\n",
       "      <td>-0.9011</td>\n",
       "      <td>0.1288</td>\n",
       "    </tr>\n",
       "    <tr>\n",
       "      <th>2</th>\n",
       "      <td>(1.5, 2.5]</td>\n",
       "      <td>4598</td>\n",
       "      <td>3379</td>\n",
       "      <td>1219</td>\n",
       "      <td>0.030778</td>\n",
       "      <td>0.024243</td>\n",
       "      <td>0.121790</td>\n",
       "      <td>-1.6142</td>\n",
       "      <td>0.1575</td>\n",
       "    </tr>\n",
       "    <tr>\n",
       "      <th>3</th>\n",
       "      <td>(2.5, 3.5]</td>\n",
       "      <td>1754</td>\n",
       "      <td>1136</td>\n",
       "      <td>618</td>\n",
       "      <td>0.011741</td>\n",
       "      <td>0.008150</td>\n",
       "      <td>0.061744</td>\n",
       "      <td>-2.0250</td>\n",
       "      <td>0.1085</td>\n",
       "    </tr>\n",
       "    <tr>\n",
       "      <th>4</th>\n",
       "      <td>(3.5, 98.0]</td>\n",
       "      <td>1553</td>\n",
       "      <td>825</td>\n",
       "      <td>728</td>\n",
       "      <td>0.010396</td>\n",
       "      <td>0.005919</td>\n",
       "      <td>0.072735</td>\n",
       "      <td>-2.5087</td>\n",
       "      <td>0.1676</td>\n",
       "    </tr>\n",
       "    <tr>\n",
       "      <th>5</th>\n",
       "      <td>Total</td>\n",
       "      <td>149391</td>\n",
       "      <td>139382</td>\n",
       "      <td>10009</td>\n",
       "      <td>1.000000</td>\n",
       "      <td>1.000000</td>\n",
       "      <td>1.000000</td>\n",
       "      <td>NaN</td>\n",
       "      <td>0.7576</td>\n",
       "    </tr>\n",
       "  </tbody>\n",
       "</table>\n",
       "</div>"
      ],
      "text/plain": [
       "            Bins  CntRec  CntGood  CntBad    PctRec   PctGood    PctBad  \\\n",
       "0  (-0.001, 0.5]  125453   120418    5035  0.839763  0.863942  0.503047   \n",
       "1     (0.5, 1.5]   16033    13624    2409  0.107322  0.097746  0.240683   \n",
       "2     (1.5, 2.5]    4598     3379    1219  0.030778  0.024243  0.121790   \n",
       "3     (2.5, 3.5]    1754     1136     618  0.011741  0.008150  0.061744   \n",
       "4    (3.5, 98.0]    1553      825     728  0.010396  0.005919  0.072735   \n",
       "5          Total  149391   139382   10009  1.000000  1.000000  1.000000   \n",
       "\n",
       "      WOE      IV  \n",
       "0  0.5408  0.1952  \n",
       "1 -0.9011  0.1288  \n",
       "2 -1.6142  0.1575  \n",
       "3 -2.0250  0.1085  \n",
       "4 -2.5087  0.1676  \n",
       "5     NaN  0.7576  "
      ]
     },
     "execution_count": 71,
     "metadata": {},
     "output_type": "execute_result"
    }
   ],
   "source": [
    "NO3059.IVtable"
   ]
  },
  {
   "cell_type": "code",
   "execution_count": 72,
   "metadata": {},
   "outputs": [],
   "source": [
    "iv_all = iv_all.append(pd.Series({\"NumberOfTime30_59DaysPastDueNotWorse\":NO3059.IV}))"
   ]
  },
  {
   "cell_type": "markdown",
   "metadata": {},
   "source": [
    "#### DebtRatio"
   ]
  },
  {
   "cell_type": "code",
   "execution_count": 73,
   "metadata": {},
   "outputs": [
    {
     "data": {
      "image/png": "[encoded data removed]",
      "text/plain": [
       "<Figure size 1152x720 with 1 Axes>"
      ]
     },
     "metadata": {
      "needs_background": "light"
     },
     "output_type": "display_data"
    }
   ],
   "source": [
    "DebtRatio = smbin(train_data,y,\"DebtRatio\",10)"
   ]
  },
  {
   "cell_type": "code",
   "execution_count": 74,
   "metadata": {
    "scrolled": true
   },
   "outputs": [
    {
     "data": {
      "text/html": [
       "<div>\n",
       "<style scoped>\n",
       "    .dataframe tbody tr th:only-of-type {\n",
       "        vertical-align: middle;\n",
       "    }\n",
       "\n",
       "    .dataframe tbody tr th {\n",
       "        vertical-align: top;\n",
       "    }\n",
       "\n",
       "    .dataframe thead th {\n",
       "        text-align: right;\n",
       "    }\n",
       "</style>\n",
       "<table border=\"1\" class=\"dataframe\">\n",
       "  <thead>\n",
       "    <tr style=\"text-align: right;\">\n",
       "      <th></th>\n",
       "      <th>Bins</th>\n",
       "      <th>CntRec</th>\n",
       "      <th>CntGood</th>\n",
       "      <th>CntBad</th>\n",
       "      <th>PctRec</th>\n",
       "      <th>PctGood</th>\n",
       "      <th>PctBad</th>\n",
       "      <th>WOE</th>\n",
       "      <th>IV</th>\n",
       "    </tr>\n",
       "  </thead>\n",
       "  <tbody>\n",
       "    <tr>\n",
       "      <th>0</th>\n",
       "      <td>(-0.001, 1.3e-05]</td>\n",
       "      <td>3515</td>\n",
       "      <td>3191</td>\n",
       "      <td>324</td>\n",
       "      <td>0.023529</td>\n",
       "      <td>0.022894</td>\n",
       "      <td>0.032371</td>\n",
       "      <td>-0.3464</td>\n",
       "      <td>0.0033</td>\n",
       "    </tr>\n",
       "    <tr>\n",
       "      <th>1</th>\n",
       "      <td>(1.3e-05, 0.0163]</td>\n",
       "      <td>8296</td>\n",
       "      <td>8009</td>\n",
       "      <td>287</td>\n",
       "      <td>0.055532</td>\n",
       "      <td>0.057461</td>\n",
       "      <td>0.028674</td>\n",
       "      <td>0.6951</td>\n",
       "      <td>0.0200</td>\n",
       "    </tr>\n",
       "    <tr>\n",
       "      <th>2</th>\n",
       "      <td>(0.0163, 0.423]</td>\n",
       "      <td>71689</td>\n",
       "      <td>67363</td>\n",
       "      <td>4326</td>\n",
       "      <td>0.479875</td>\n",
       "      <td>0.483298</td>\n",
       "      <td>0.432211</td>\n",
       "      <td>0.1117</td>\n",
       "      <td>0.0057</td>\n",
       "    </tr>\n",
       "    <tr>\n",
       "      <th>3</th>\n",
       "      <td>(0.423, 0.654]</td>\n",
       "      <td>21179</td>\n",
       "      <td>19451</td>\n",
       "      <td>1728</td>\n",
       "      <td>0.141769</td>\n",
       "      <td>0.139552</td>\n",
       "      <td>0.172645</td>\n",
       "      <td>-0.2128</td>\n",
       "      <td>0.0070</td>\n",
       "    </tr>\n",
       "    <tr>\n",
       "      <th>4</th>\n",
       "      <td>(0.654, 3.973]</td>\n",
       "      <td>14648</td>\n",
       "      <td>12961</td>\n",
       "      <td>1687</td>\n",
       "      <td>0.098051</td>\n",
       "      <td>0.092989</td>\n",
       "      <td>0.168548</td>\n",
       "      <td>-0.5947</td>\n",
       "      <td>0.0449</td>\n",
       "    </tr>\n",
       "    <tr>\n",
       "      <th>5</th>\n",
       "      <td>(3.973, 329664.0]</td>\n",
       "      <td>30064</td>\n",
       "      <td>28407</td>\n",
       "      <td>1657</td>\n",
       "      <td>0.201244</td>\n",
       "      <td>0.203807</td>\n",
       "      <td>0.165551</td>\n",
       "      <td>0.2079</td>\n",
       "      <td>0.0080</td>\n",
       "    </tr>\n",
       "    <tr>\n",
       "      <th>6</th>\n",
       "      <td>Total</td>\n",
       "      <td>149391</td>\n",
       "      <td>139382</td>\n",
       "      <td>10009</td>\n",
       "      <td>1.000000</td>\n",
       "      <td>1.000000</td>\n",
       "      <td>1.000000</td>\n",
       "      <td>NaN</td>\n",
       "      <td>0.0889</td>\n",
       "    </tr>\n",
       "  </tbody>\n",
       "</table>\n",
       "</div>"
      ],
      "text/plain": [
       "                Bins  CntRec  CntGood  CntBad    PctRec   PctGood    PctBad  \\\n",
       "0  (-0.001, 1.3e-05]    3515     3191     324  0.023529  0.022894  0.032371   \n",
       "1  (1.3e-05, 0.0163]    8296     8009     287  0.055532  0.057461  0.028674   \n",
       "2    (0.0163, 0.423]   71689    67363    4326  0.479875  0.483298  0.432211   \n",
       "3     (0.423, 0.654]   21179    19451    1728  0.141769  0.139552  0.172645   \n",
       "4     (0.654, 3.973]   14648    12961    1687  0.098051  0.092989  0.168548   \n",
       "5  (3.973, 329664.0]   30064    28407    1657  0.201244  0.203807  0.165551   \n",
       "6              Total  149391   139382   10009  1.000000  1.000000  1.000000   \n",
       "\n",
       "      WOE      IV  \n",
       "0 -0.3464  0.0033  \n",
       "1  0.6951  0.0200  \n",
       "2  0.1117  0.0057  \n",
       "3 -0.2128  0.0070  \n",
       "4 -0.5947  0.0449  \n",
       "5  0.2079  0.0080  \n",
       "6     NaN  0.0889  "
      ]
     },
     "execution_count": 74,
     "metadata": {},
     "output_type": "execute_result"
    }
   ],
   "source": [
    "DebtRatio.IVtable"
   ]
  },
  {
   "cell_type": "code",
   "execution_count": 75,
   "metadata": {},
   "outputs": [],
   "source": [
    "iv_all = iv_all.append(pd.Series({\"DebtRatio\":DebtRatio.IV}))"
   ]
  },
  {
   "cell_type": "markdown",
   "metadata": {},
   "source": [
    "#### MonthlyIncome"
   ]
  },
  {
   "cell_type": "code",
   "execution_count": 76,
   "metadata": {},
   "outputs": [
    {
     "data": {
      "image/png": "[encoded data removed]",
      "text/plain": [
       "<Figure size 1152x720 with 1 Axes>"
      ]
     },
     "metadata": {
      "needs_background": "light"
     },
     "output_type": "display_data"
    }
   ],
   "source": [
    "MonthlyIncome = smbin(train_data,y,\"MonthlyIncome\")"
   ]
  },
  {
   "cell_type": "code",
   "execution_count": 77,
   "metadata": {
    "scrolled": true
   },
   "outputs": [
    {
     "data": {
      "text/html": [
       "<div>\n",
       "<style scoped>\n",
       "    .dataframe tbody tr th:only-of-type {\n",
       "        vertical-align: middle;\n",
       "    }\n",
       "\n",
       "    .dataframe tbody tr th {\n",
       "        vertical-align: top;\n",
       "    }\n",
       "\n",
       "    .dataframe thead th {\n",
       "        text-align: right;\n",
       "    }\n",
       "</style>\n",
       "<table border=\"1\" class=\"dataframe\">\n",
       "  <thead>\n",
       "    <tr style=\"text-align: right;\">\n",
       "      <th></th>\n",
       "      <th>Bins</th>\n",
       "      <th>CntRec</th>\n",
       "      <th>CntGood</th>\n",
       "      <th>CntBad</th>\n",
       "      <th>PctRec</th>\n",
       "      <th>PctGood</th>\n",
       "      <th>PctBad</th>\n",
       "      <th>WOE</th>\n",
       "      <th>IV</th>\n",
       "    </tr>\n",
       "  </thead>\n",
       "  <tbody>\n",
       "    <tr>\n",
       "      <th>0</th>\n",
       "      <td>(-0.001, 930.5]</td>\n",
       "      <td>4229</td>\n",
       "      <td>4028</td>\n",
       "      <td>201</td>\n",
       "      <td>0.028308</td>\n",
       "      <td>0.028899</td>\n",
       "      <td>0.020082</td>\n",
       "      <td>0.3640</td>\n",
       "      <td>0.0032</td>\n",
       "    </tr>\n",
       "    <tr>\n",
       "      <th>1</th>\n",
       "      <td>(930.5, 3332.5]</td>\n",
       "      <td>24574</td>\n",
       "      <td>22105</td>\n",
       "      <td>2469</td>\n",
       "      <td>0.164495</td>\n",
       "      <td>0.158593</td>\n",
       "      <td>0.246678</td>\n",
       "      <td>-0.4417</td>\n",
       "      <td>0.0389</td>\n",
       "    </tr>\n",
       "    <tr>\n",
       "      <th>2</th>\n",
       "      <td>(3332.5, 5320.5]</td>\n",
       "      <td>30421</td>\n",
       "      <td>27994</td>\n",
       "      <td>2427</td>\n",
       "      <td>0.203633</td>\n",
       "      <td>0.200844</td>\n",
       "      <td>0.242482</td>\n",
       "      <td>-0.1884</td>\n",
       "      <td>0.0078</td>\n",
       "    </tr>\n",
       "    <tr>\n",
       "      <th>3</th>\n",
       "      <td>(5320.5, 6643.5]</td>\n",
       "      <td>16128</td>\n",
       "      <td>15050</td>\n",
       "      <td>1078</td>\n",
       "      <td>0.107958</td>\n",
       "      <td>0.107977</td>\n",
       "      <td>0.107703</td>\n",
       "      <td>0.0025</td>\n",
       "      <td>0.0000</td>\n",
       "    </tr>\n",
       "    <tr>\n",
       "      <th>4</th>\n",
       "      <td>(6643.5, 3008750.0]</td>\n",
       "      <td>44818</td>\n",
       "      <td>42638</td>\n",
       "      <td>2180</td>\n",
       "      <td>0.300005</td>\n",
       "      <td>0.305908</td>\n",
       "      <td>0.217804</td>\n",
       "      <td>0.3397</td>\n",
       "      <td>0.0299</td>\n",
       "    </tr>\n",
       "    <tr>\n",
       "      <th>5</th>\n",
       "      <td>nan</td>\n",
       "      <td>29221</td>\n",
       "      <td>27567</td>\n",
       "      <td>1654</td>\n",
       "      <td>0.195601</td>\n",
       "      <td>0.197780</td>\n",
       "      <td>0.165251</td>\n",
       "      <td>0.1797</td>\n",
       "      <td>0.0058</td>\n",
       "    </tr>\n",
       "    <tr>\n",
       "      <th>6</th>\n",
       "      <td>Total</td>\n",
       "      <td>149391</td>\n",
       "      <td>139382</td>\n",
       "      <td>10009</td>\n",
       "      <td>1.000000</td>\n",
       "      <td>1.000000</td>\n",
       "      <td>1.000000</td>\n",
       "      <td>NaN</td>\n",
       "      <td>0.0856</td>\n",
       "    </tr>\n",
       "  </tbody>\n",
       "</table>\n",
       "</div>"
      ],
      "text/plain": [
       "                  Bins  CntRec  CntGood  CntBad    PctRec   PctGood    PctBad  \\\n",
       "0      (-0.001, 930.5]    4229     4028     201  0.028308  0.028899  0.020082   \n",
       "1      (930.5, 3332.5]   24574    22105    2469  0.164495  0.158593  0.246678   \n",
       "2     (3332.5, 5320.5]   30421    27994    2427  0.203633  0.200844  0.242482   \n",
       "3     (5320.5, 6643.5]   16128    15050    1078  0.107958  0.107977  0.107703   \n",
       "4  (6643.5, 3008750.0]   44818    42638    2180  0.300005  0.305908  0.217804   \n",
       "5                  nan   29221    27567    1654  0.195601  0.197780  0.165251   \n",
       "6                Total  149391   139382   10009  1.000000  1.000000  1.000000   \n",
       "\n",
       "      WOE      IV  \n",
       "0  0.3640  0.0032  \n",
       "1 -0.4417  0.0389  \n",
       "2 -0.1884  0.0078  \n",
       "3  0.0025  0.0000  \n",
       "4  0.3397  0.0299  \n",
       "5  0.1797  0.0058  \n",
       "6     NaN  0.0856  "
      ]
     },
     "execution_count": 77,
     "metadata": {},
     "output_type": "execute_result"
    }
   ],
   "source": [
    "MonthlyIncome.IVtable"
   ]
  },
  {
   "cell_type": "code",
   "execution_count": 78,
   "metadata": {},
   "outputs": [],
   "source": [
    "iv_all = iv_all.append(pd.Series({\"MonthlyIncome\":MonthlyIncome.IV}))"
   ]
  },
  {
   "cell_type": "markdown",
   "metadata": {},
   "source": [
    "#### NumberOfOpenCreditLinesAndLoans"
   ]
  },
  {
   "cell_type": "code",
   "execution_count": 79,
   "metadata": {},
   "outputs": [
    {
     "data": {
      "image/png": "[encoded data removed]",
      "text/plain": [
       "<Figure size 1152x720 with 1 Axes>"
      ]
     },
     "metadata": {
      "needs_background": "light"
     },
     "output_type": "display_data"
    }
   ],
   "source": [
    "NOO = smbin(train_data,y,\"NumberOfOpenCreditLinesAndLoans\")"
   ]
  },
  {
   "cell_type": "code",
   "execution_count": 80,
   "metadata": {
    "scrolled": true
   },
   "outputs": [
    {
     "data": {
      "text/html": [
       "<div>\n",
       "<style scoped>\n",
       "    .dataframe tbody tr th:only-of-type {\n",
       "        vertical-align: middle;\n",
       "    }\n",
       "\n",
       "    .dataframe tbody tr th {\n",
       "        vertical-align: top;\n",
       "    }\n",
       "\n",
       "    .dataframe thead th {\n",
       "        text-align: right;\n",
       "    }\n",
       "</style>\n",
       "<table border=\"1\" class=\"dataframe\">\n",
       "  <thead>\n",
       "    <tr style=\"text-align: right;\">\n",
       "      <th></th>\n",
       "      <th>Bins</th>\n",
       "      <th>CntRec</th>\n",
       "      <th>CntGood</th>\n",
       "      <th>CntBad</th>\n",
       "      <th>PctRec</th>\n",
       "      <th>PctGood</th>\n",
       "      <th>PctBad</th>\n",
       "      <th>WOE</th>\n",
       "      <th>IV</th>\n",
       "    </tr>\n",
       "  </thead>\n",
       "  <tbody>\n",
       "    <tr>\n",
       "      <th>0</th>\n",
       "      <td>(-0.001, 0.5]</td>\n",
       "      <td>1712</td>\n",
       "      <td>1244</td>\n",
       "      <td>468</td>\n",
       "      <td>0.011460</td>\n",
       "      <td>0.008925</td>\n",
       "      <td>0.046758</td>\n",
       "      <td>-1.6561</td>\n",
       "      <td>0.0627</td>\n",
       "    </tr>\n",
       "    <tr>\n",
       "      <th>1</th>\n",
       "      <td>(0.5, 1.5]</td>\n",
       "      <td>4251</td>\n",
       "      <td>3667</td>\n",
       "      <td>584</td>\n",
       "      <td>0.028456</td>\n",
       "      <td>0.026309</td>\n",
       "      <td>0.058347</td>\n",
       "      <td>-0.7965</td>\n",
       "      <td>0.0255</td>\n",
       "    </tr>\n",
       "    <tr>\n",
       "      <th>2</th>\n",
       "      <td>(1.5, 3.5]</td>\n",
       "      <td>15550</td>\n",
       "      <td>14259</td>\n",
       "      <td>1291</td>\n",
       "      <td>0.104089</td>\n",
       "      <td>0.102302</td>\n",
       "      <td>0.128984</td>\n",
       "      <td>-0.2318</td>\n",
       "      <td>0.0062</td>\n",
       "    </tr>\n",
       "    <tr>\n",
       "      <th>3</th>\n",
       "      <td>(3.5, 13.5]</td>\n",
       "      <td>105861</td>\n",
       "      <td>99732</td>\n",
       "      <td>6129</td>\n",
       "      <td>0.708617</td>\n",
       "      <td>0.715530</td>\n",
       "      <td>0.612349</td>\n",
       "      <td>0.1557</td>\n",
       "      <td>0.0161</td>\n",
       "    </tr>\n",
       "    <tr>\n",
       "      <th>4</th>\n",
       "      <td>(13.5, 58.0]</td>\n",
       "      <td>22017</td>\n",
       "      <td>20480</td>\n",
       "      <td>1537</td>\n",
       "      <td>0.147378</td>\n",
       "      <td>0.146934</td>\n",
       "      <td>0.153562</td>\n",
       "      <td>-0.0441</td>\n",
       "      <td>0.0003</td>\n",
       "    </tr>\n",
       "    <tr>\n",
       "      <th>5</th>\n",
       "      <td>Total</td>\n",
       "      <td>149391</td>\n",
       "      <td>139382</td>\n",
       "      <td>10009</td>\n",
       "      <td>1.000000</td>\n",
       "      <td>1.000000</td>\n",
       "      <td>1.000000</td>\n",
       "      <td>NaN</td>\n",
       "      <td>0.1108</td>\n",
       "    </tr>\n",
       "  </tbody>\n",
       "</table>\n",
       "</div>"
      ],
      "text/plain": [
       "            Bins  CntRec  CntGood  CntBad    PctRec   PctGood    PctBad  \\\n",
       "0  (-0.001, 0.5]    1712     1244     468  0.011460  0.008925  0.046758   \n",
       "1     (0.5, 1.5]    4251     3667     584  0.028456  0.026309  0.058347   \n",
       "2     (1.5, 3.5]   15550    14259    1291  0.104089  0.102302  0.128984   \n",
       "3    (3.5, 13.5]  105861    99732    6129  0.708617  0.715530  0.612349   \n",
       "4   (13.5, 58.0]   22017    20480    1537  0.147378  0.146934  0.153562   \n",
       "5          Total  149391   139382   10009  1.000000  1.000000  1.000000   \n",
       "\n",
       "      WOE      IV  \n",
       "0 -1.6561  0.0627  \n",
       "1 -0.7965  0.0255  \n",
       "2 -0.2318  0.0062  \n",
       "3  0.1557  0.0161  \n",
       "4 -0.0441  0.0003  \n",
       "5     NaN  0.1108  "
      ]
     },
     "execution_count": 80,
     "metadata": {},
     "output_type": "execute_result"
    }
   ],
   "source": [
    "NOO.IVtable"
   ]
  },
  {
   "cell_type": "code",
   "execution_count": 81,
   "metadata": {},
   "outputs": [],
   "source": [
    "iv_all = iv_all.append(pd.Series({\"NumberOfOpenCreditLinesAndLoans\":NOO.IV}))"
   ]
  },
  {
   "cell_type": "markdown",
   "metadata": {},
   "source": [
    "#### NumberOfTimes90DaysLate"
   ]
  },
  {
   "cell_type": "code",
   "execution_count": 82,
   "metadata": {},
   "outputs": [
    {
     "data": {
      "image/png": "[encoded data removed]",
      "text/plain": [
       "<Figure size 1152x720 with 1 Axes>"
      ]
     },
     "metadata": {
      "needs_background": "light"
     },
     "output_type": "display_data"
    }
   ],
   "source": [
    "NO90 = smbin(train_data,y,\"NumberOfTimes90DaysLate\")"
   ]
  },
  {
   "cell_type": "code",
   "execution_count": 83,
   "metadata": {},
   "outputs": [
    {
     "data": {
      "text/html": [
       "<div>\n",
       "<style scoped>\n",
       "    .dataframe tbody tr th:only-of-type {\n",
       "        vertical-align: middle;\n",
       "    }\n",
       "\n",
       "    .dataframe tbody tr th {\n",
       "        vertical-align: top;\n",
       "    }\n",
       "\n",
       "    .dataframe thead th {\n",
       "        text-align: right;\n",
       "    }\n",
       "</style>\n",
       "<table border=\"1\" class=\"dataframe\">\n",
       "  <thead>\n",
       "    <tr style=\"text-align: right;\">\n",
       "      <th></th>\n",
       "      <th>Bins</th>\n",
       "      <th>CntRec</th>\n",
       "      <th>CntGood</th>\n",
       "      <th>CntBad</th>\n",
       "      <th>PctRec</th>\n",
       "      <th>PctGood</th>\n",
       "      <th>PctBad</th>\n",
       "      <th>WOE</th>\n",
       "      <th>IV</th>\n",
       "    </tr>\n",
       "  </thead>\n",
       "  <tbody>\n",
       "    <tr>\n",
       "      <th>0</th>\n",
       "      <td>(-0.001, 0.5]</td>\n",
       "      <td>141108</td>\n",
       "      <td>134559</td>\n",
       "      <td>6549</td>\n",
       "      <td>0.944555</td>\n",
       "      <td>0.965397</td>\n",
       "      <td>0.654311</td>\n",
       "      <td>0.3890</td>\n",
       "      <td>0.1210</td>\n",
       "    </tr>\n",
       "    <tr>\n",
       "      <th>1</th>\n",
       "      <td>(0.5, 1.5]</td>\n",
       "      <td>5232</td>\n",
       "      <td>3468</td>\n",
       "      <td>1764</td>\n",
       "      <td>0.035022</td>\n",
       "      <td>0.024881</td>\n",
       "      <td>0.176241</td>\n",
       "      <td>-1.9577</td>\n",
       "      <td>0.2963</td>\n",
       "    </tr>\n",
       "    <tr>\n",
       "      <th>2</th>\n",
       "      <td>(1.5, 98.0]</td>\n",
       "      <td>3051</td>\n",
       "      <td>1355</td>\n",
       "      <td>1696</td>\n",
       "      <td>0.020423</td>\n",
       "      <td>0.009721</td>\n",
       "      <td>0.169447</td>\n",
       "      <td>-2.8582</td>\n",
       "      <td>0.4565</td>\n",
       "    </tr>\n",
       "    <tr>\n",
       "      <th>3</th>\n",
       "      <td>Total</td>\n",
       "      <td>149391</td>\n",
       "      <td>139382</td>\n",
       "      <td>10009</td>\n",
       "      <td>1.000000</td>\n",
       "      <td>1.000000</td>\n",
       "      <td>1.000000</td>\n",
       "      <td>NaN</td>\n",
       "      <td>0.8738</td>\n",
       "    </tr>\n",
       "  </tbody>\n",
       "</table>\n",
       "</div>"
      ],
      "text/plain": [
       "            Bins  CntRec  CntGood  CntBad    PctRec   PctGood    PctBad  \\\n",
       "0  (-0.001, 0.5]  141108   134559    6549  0.944555  0.965397  0.654311   \n",
       "1     (0.5, 1.5]    5232     3468    1764  0.035022  0.024881  0.176241   \n",
       "2    (1.5, 98.0]    3051     1355    1696  0.020423  0.009721  0.169447   \n",
       "3          Total  149391   139382   10009  1.000000  1.000000  1.000000   \n",
       "\n",
       "      WOE      IV  \n",
       "0  0.3890  0.1210  \n",
       "1 -1.9577  0.2963  \n",
       "2 -2.8582  0.4565  \n",
       "3     NaN  0.8738  "
      ]
     },
     "execution_count": 83,
     "metadata": {},
     "output_type": "execute_result"
    }
   ],
   "source": [
    "NO90.IVtable"
   ]
  },
  {
   "cell_type": "code",
   "execution_count": 84,
   "metadata": {},
   "outputs": [],
   "source": [
    "iv_all = iv_all.append(pd.Series({\"NumberOfTimes90DaysLate\":NO90.IV}))"
   ]
  },
  {
   "cell_type": "code",
   "execution_count": 85,
   "metadata": {
    "scrolled": true
   },
   "outputs": [
    {
     "data": {
      "text/plain": [
       "<matplotlib.axes._subplots.AxesSubplot at 0x194336d11d0>"
      ]
     },
     "execution_count": 85,
     "metadata": {},
     "output_type": "execute_result"
    },
    {
     "data": {
      "image/png": "[encoded data removed]",
      "text/plain": [
       "<Figure size 432x288 with 1 Axes>"
      ]
     },
     "metadata": {
      "needs_background": "light"
     },
     "output_type": "display_data"
    }
   ],
   "source": [
    "train_data.boxplot(column=[\"NumberOfTimes90DaysLate\"],by=[y])"
   ]
  },
  {
   "cell_type": "code",
   "execution_count": 86,
   "metadata": {},
   "outputs": [
    {
     "data": {
      "text/plain": [
       "Ttest_indResult(statistic=-47.704547090568376, pvalue=0.0)"
      ]
     },
     "execution_count": 86,
     "metadata": {},
     "output_type": "execute_result"
    }
   ],
   "source": [
    "import scipy.stats as stats\n",
    "stats.ttest_ind(train_data.loc[train_data.SeriousDlqin2yrs==1,\"NumberOfTimes90DaysLate\"],\n",
    "                train_data.loc[train_data.SeriousDlqin2yrs==0,\"NumberOfTimes90DaysLate\"])"
   ]
  },
  {
   "cell_type": "code",
   "execution_count": 87,
   "metadata": {},
   "outputs": [],
   "source": [
    "t0 = block(train_data[\"NumberOfTimes90DaysLate\"])"
   ]
  },
  {
   "cell_type": "code",
   "execution_count": 88,
   "metadata": {},
   "outputs": [
    {
     "data": {
      "text/plain": [
       "<matplotlib.axes._subplots.AxesSubplot at 0x1943cb7e9e8>"
      ]
     },
     "execution_count": 88,
     "metadata": {},
     "output_type": "execute_result"
    },
    {
     "data": {
      "image/png": "[encoded data removed]",
      "text/plain": [
       "<Figure size 432x288 with 1 Axes>"
      ]
     },
     "metadata": {
      "needs_background": "light"
     },
     "output_type": "display_data"
    }
   ],
   "source": [
    "import seaborn as sns\n",
    "sns.boxplot(x=train_data[y],y=t0)"
   ]
  },
  {
   "cell_type": "markdown",
   "metadata": {},
   "source": [
    "#### NumberRealEstateLoansOrLines"
   ]
  },
  {
   "cell_type": "code",
   "execution_count": 89,
   "metadata": {},
   "outputs": [
    {
     "data": {
      "image/png": "[encoded data removed]",
      "text/plain": [
       "<Figure size 1152x720 with 1 Axes>"
      ]
     },
     "metadata": {
      "needs_background": "light"
     },
     "output_type": "display_data"
    }
   ],
   "source": [
    "NRE = smbin(train_data,y,\"NumberRealEstateLoansOrLines\")"
   ]
  },
  {
   "cell_type": "code",
   "execution_count": 90,
   "metadata": {},
   "outputs": [
    {
     "data": {
      "text/html": [
       "<div>\n",
       "<style scoped>\n",
       "    .dataframe tbody tr th:only-of-type {\n",
       "        vertical-align: middle;\n",
       "    }\n",
       "\n",
       "    .dataframe tbody tr th {\n",
       "        vertical-align: top;\n",
       "    }\n",
       "\n",
       "    .dataframe thead th {\n",
       "        text-align: right;\n",
       "    }\n",
       "</style>\n",
       "<table border=\"1\" class=\"dataframe\">\n",
       "  <thead>\n",
       "    <tr style=\"text-align: right;\">\n",
       "      <th></th>\n",
       "      <th>Bins</th>\n",
       "      <th>CntRec</th>\n",
       "      <th>CntGood</th>\n",
       "      <th>CntBad</th>\n",
       "      <th>PctRec</th>\n",
       "      <th>PctGood</th>\n",
       "      <th>PctBad</th>\n",
       "      <th>WOE</th>\n",
       "      <th>IV</th>\n",
       "    </tr>\n",
       "  </thead>\n",
       "  <tbody>\n",
       "    <tr>\n",
       "      <th>0</th>\n",
       "      <td>(-0.001, 0.5]</td>\n",
       "      <td>55579</td>\n",
       "      <td>50924</td>\n",
       "      <td>4655</td>\n",
       "      <td>0.372037</td>\n",
       "      <td>0.365356</td>\n",
       "      <td>0.465081</td>\n",
       "      <td>-0.2413</td>\n",
       "      <td>0.0241</td>\n",
       "    </tr>\n",
       "    <tr>\n",
       "      <th>1</th>\n",
       "      <td>(0.5, 3.5]</td>\n",
       "      <td>90160</td>\n",
       "      <td>85225</td>\n",
       "      <td>4935</td>\n",
       "      <td>0.603517</td>\n",
       "      <td>0.611449</td>\n",
       "      <td>0.493056</td>\n",
       "      <td>0.2152</td>\n",
       "      <td>0.0255</td>\n",
       "    </tr>\n",
       "    <tr>\n",
       "      <th>2</th>\n",
       "      <td>(3.5, 54.0]</td>\n",
       "      <td>3652</td>\n",
       "      <td>3233</td>\n",
       "      <td>419</td>\n",
       "      <td>0.024446</td>\n",
       "      <td>0.023195</td>\n",
       "      <td>0.041862</td>\n",
       "      <td>-0.5904</td>\n",
       "      <td>0.0110</td>\n",
       "    </tr>\n",
       "    <tr>\n",
       "      <th>3</th>\n",
       "      <td>Total</td>\n",
       "      <td>149391</td>\n",
       "      <td>139382</td>\n",
       "      <td>10009</td>\n",
       "      <td>1.000000</td>\n",
       "      <td>1.000000</td>\n",
       "      <td>1.000000</td>\n",
       "      <td>NaN</td>\n",
       "      <td>0.0606</td>\n",
       "    </tr>\n",
       "  </tbody>\n",
       "</table>\n",
       "</div>"
      ],
      "text/plain": [
       "            Bins  CntRec  CntGood  CntBad    PctRec   PctGood    PctBad  \\\n",
       "0  (-0.001, 0.5]   55579    50924    4655  0.372037  0.365356  0.465081   \n",
       "1     (0.5, 3.5]   90160    85225    4935  0.603517  0.611449  0.493056   \n",
       "2    (3.5, 54.0]    3652     3233     419  0.024446  0.023195  0.041862   \n",
       "3          Total  149391   139382   10009  1.000000  1.000000  1.000000   \n",
       "\n",
       "      WOE      IV  \n",
       "0 -0.2413  0.0241  \n",
       "1  0.2152  0.0255  \n",
       "2 -0.5904  0.0110  \n",
       "3     NaN  0.0606  "
      ]
     },
     "execution_count": 90,
     "metadata": {},
     "output_type": "execute_result"
    }
   ],
   "source": [
    "NRE.IVtable"
   ]
  },
  {
   "cell_type": "code",
   "execution_count": 91,
   "metadata": {},
   "outputs": [],
   "source": [
    "iv_all = iv_all.append(pd.Series({\"NumberRealEstateLoansOrLines\":NRE.IV}))"
   ]
  },
  {
   "cell_type": "markdown",
   "metadata": {},
   "source": [
    "#### NumberOfTime60_89DaysPastDueNotWorse"
   ]
  },
  {
   "cell_type": "code",
   "execution_count": 92,
   "metadata": {},
   "outputs": [
    {
     "data": {
      "image/png": "[encoded data removed]",
      "text/plain": [
       "<Figure size 1152x720 with 1 Axes>"
      ]
     },
     "metadata": {
      "needs_background": "light"
     },
     "output_type": "display_data"
    }
   ],
   "source": [
    "NO6089 = smbin(train_data,y,\"NumberOfTime60_89DaysPastDueNotWorse\")"
   ]
  },
  {
   "cell_type": "code",
   "execution_count": 93,
   "metadata": {},
   "outputs": [
    {
     "data": {
      "text/html": [
       "<div>\n",
       "<style scoped>\n",
       "    .dataframe tbody tr th:only-of-type {\n",
       "        vertical-align: middle;\n",
       "    }\n",
       "\n",
       "    .dataframe tbody tr th {\n",
       "        vertical-align: top;\n",
       "    }\n",
       "\n",
       "    .dataframe thead th {\n",
       "        text-align: right;\n",
       "    }\n",
       "</style>\n",
       "<table border=\"1\" class=\"dataframe\">\n",
       "  <thead>\n",
       "    <tr style=\"text-align: right;\">\n",
       "      <th></th>\n",
       "      <th>Bins</th>\n",
       "      <th>CntRec</th>\n",
       "      <th>CntGood</th>\n",
       "      <th>CntBad</th>\n",
       "      <th>PctRec</th>\n",
       "      <th>PctGood</th>\n",
       "      <th>PctBad</th>\n",
       "      <th>WOE</th>\n",
       "      <th>IV</th>\n",
       "    </tr>\n",
       "  </thead>\n",
       "  <tbody>\n",
       "    <tr>\n",
       "      <th>0</th>\n",
       "      <td>(-0.001, 0.5]</td>\n",
       "      <td>141831</td>\n",
       "      <td>134581</td>\n",
       "      <td>7250</td>\n",
       "      <td>0.949395</td>\n",
       "      <td>0.965555</td>\n",
       "      <td>0.724348</td>\n",
       "      <td>0.2874</td>\n",
       "      <td>0.0693</td>\n",
       "    </tr>\n",
       "    <tr>\n",
       "      <th>1</th>\n",
       "      <td>(0.5, 1.5]</td>\n",
       "      <td>5731</td>\n",
       "      <td>3954</td>\n",
       "      <td>1777</td>\n",
       "      <td>0.038362</td>\n",
       "      <td>0.028368</td>\n",
       "      <td>0.177540</td>\n",
       "      <td>-1.8339</td>\n",
       "      <td>0.2736</td>\n",
       "    </tr>\n",
       "    <tr>\n",
       "      <th>2</th>\n",
       "      <td>(1.5, 98.0]</td>\n",
       "      <td>1829</td>\n",
       "      <td>847</td>\n",
       "      <td>982</td>\n",
       "      <td>0.012243</td>\n",
       "      <td>0.006077</td>\n",
       "      <td>0.098112</td>\n",
       "      <td>-2.7816</td>\n",
       "      <td>0.2560</td>\n",
       "    </tr>\n",
       "    <tr>\n",
       "      <th>3</th>\n",
       "      <td>Total</td>\n",
       "      <td>149391</td>\n",
       "      <td>139382</td>\n",
       "      <td>10009</td>\n",
       "      <td>1.000000</td>\n",
       "      <td>1.000000</td>\n",
       "      <td>1.000000</td>\n",
       "      <td>NaN</td>\n",
       "      <td>0.5989</td>\n",
       "    </tr>\n",
       "  </tbody>\n",
       "</table>\n",
       "</div>"
      ],
      "text/plain": [
       "            Bins  CntRec  CntGood  CntBad    PctRec   PctGood    PctBad  \\\n",
       "0  (-0.001, 0.5]  141831   134581    7250  0.949395  0.965555  0.724348   \n",
       "1     (0.5, 1.5]    5731     3954    1777  0.038362  0.028368  0.177540   \n",
       "2    (1.5, 98.0]    1829      847     982  0.012243  0.006077  0.098112   \n",
       "3          Total  149391   139382   10009  1.000000  1.000000  1.000000   \n",
       "\n",
       "      WOE      IV  \n",
       "0  0.2874  0.0693  \n",
       "1 -1.8339  0.2736  \n",
       "2 -2.7816  0.2560  \n",
       "3     NaN  0.5989  "
      ]
     },
     "execution_count": 93,
     "metadata": {},
     "output_type": "execute_result"
    }
   ],
   "source": [
    "NO6089.IVtable"
   ]
  },
  {
   "cell_type": "code",
   "execution_count": 94,
   "metadata": {},
   "outputs": [],
   "source": [
    "iv_all = iv_all.append(pd.Series({\"NumberOfTime60_89DaysPastDueNotWorse\":NO6089.IV}))"
   ]
  },
  {
   "cell_type": "markdown",
   "metadata": {},
   "source": [
    "#### NumberOfDependents"
   ]
  },
  {
   "cell_type": "code",
   "execution_count": 95,
   "metadata": {},
   "outputs": [
    {
     "data": {
      "image/png": "[encoded data removed]",
      "text/plain": [
       "<Figure size 1152x720 with 1 Axes>"
      ]
     },
     "metadata": {
      "needs_background": "light"
     },
     "output_type": "display_data"
    }
   ],
   "source": [
    "NOD = smbin(train_data,y,\"NumberOfDependents\")"
   ]
  },
  {
   "cell_type": "code",
   "execution_count": 96,
   "metadata": {},
   "outputs": [
    {
     "data": {
      "text/html": [
       "<div>\n",
       "<style scoped>\n",
       "    .dataframe tbody tr th:only-of-type {\n",
       "        vertical-align: middle;\n",
       "    }\n",
       "\n",
       "    .dataframe tbody tr th {\n",
       "        vertical-align: top;\n",
       "    }\n",
       "\n",
       "    .dataframe thead th {\n",
       "        text-align: right;\n",
       "    }\n",
       "</style>\n",
       "<table border=\"1\" class=\"dataframe\">\n",
       "  <thead>\n",
       "    <tr style=\"text-align: right;\">\n",
       "      <th></th>\n",
       "      <th>Bins</th>\n",
       "      <th>CntRec</th>\n",
       "      <th>CntGood</th>\n",
       "      <th>CntBad</th>\n",
       "      <th>PctRec</th>\n",
       "      <th>PctGood</th>\n",
       "      <th>PctBad</th>\n",
       "      <th>WOE</th>\n",
       "      <th>IV</th>\n",
       "    </tr>\n",
       "  </thead>\n",
       "  <tbody>\n",
       "    <tr>\n",
       "      <th>0</th>\n",
       "      <td>(-0.001, 0.5]</td>\n",
       "      <td>90220</td>\n",
       "      <td>84963</td>\n",
       "      <td>5257</td>\n",
       "      <td>0.603919</td>\n",
       "      <td>0.609569</td>\n",
       "      <td>0.525227</td>\n",
       "      <td>0.1489</td>\n",
       "      <td>0.0126</td>\n",
       "    </tr>\n",
       "    <tr>\n",
       "      <th>1</th>\n",
       "      <td>(0.5, 1.5]</td>\n",
       "      <td>26314</td>\n",
       "      <td>24379</td>\n",
       "      <td>1935</td>\n",
       "      <td>0.176142</td>\n",
       "      <td>0.174908</td>\n",
       "      <td>0.193326</td>\n",
       "      <td>-0.1001</td>\n",
       "      <td>0.0018</td>\n",
       "    </tr>\n",
       "    <tr>\n",
       "      <th>2</th>\n",
       "      <td>(1.5, 2.5]</td>\n",
       "      <td>19521</td>\n",
       "      <td>17937</td>\n",
       "      <td>1584</td>\n",
       "      <td>0.130671</td>\n",
       "      <td>0.128690</td>\n",
       "      <td>0.158258</td>\n",
       "      <td>-0.2068</td>\n",
       "      <td>0.0061</td>\n",
       "    </tr>\n",
       "    <tr>\n",
       "      <th>3</th>\n",
       "      <td>(2.5, 3.5]</td>\n",
       "      <td>9483</td>\n",
       "      <td>8646</td>\n",
       "      <td>837</td>\n",
       "      <td>0.063478</td>\n",
       "      <td>0.062031</td>\n",
       "      <td>0.083625</td>\n",
       "      <td>-0.2987</td>\n",
       "      <td>0.0065</td>\n",
       "    </tr>\n",
       "    <tr>\n",
       "      <th>4</th>\n",
       "      <td>(3.5, 20.0]</td>\n",
       "      <td>3853</td>\n",
       "      <td>3457</td>\n",
       "      <td>396</td>\n",
       "      <td>0.025791</td>\n",
       "      <td>0.024802</td>\n",
       "      <td>0.039564</td>\n",
       "      <td>-0.4670</td>\n",
       "      <td>0.0069</td>\n",
       "    </tr>\n",
       "    <tr>\n",
       "      <th>5</th>\n",
       "      <td>Total</td>\n",
       "      <td>149391</td>\n",
       "      <td>139382</td>\n",
       "      <td>10009</td>\n",
       "      <td>1.000000</td>\n",
       "      <td>1.000000</td>\n",
       "      <td>1.000000</td>\n",
       "      <td>NaN</td>\n",
       "      <td>0.0339</td>\n",
       "    </tr>\n",
       "  </tbody>\n",
       "</table>\n",
       "</div>"
      ],
      "text/plain": [
       "            Bins  CntRec  CntGood  CntBad    PctRec   PctGood    PctBad  \\\n",
       "0  (-0.001, 0.5]   90220    84963    5257  0.603919  0.609569  0.525227   \n",
       "1     (0.5, 1.5]   26314    24379    1935  0.176142  0.174908  0.193326   \n",
       "2     (1.5, 2.5]   19521    17937    1584  0.130671  0.128690  0.158258   \n",
       "3     (2.5, 3.5]    9483     8646     837  0.063478  0.062031  0.083625   \n",
       "4    (3.5, 20.0]    3853     3457     396  0.025791  0.024802  0.039564   \n",
       "5          Total  149391   139382   10009  1.000000  1.000000  1.000000   \n",
       "\n",
       "      WOE      IV  \n",
       "0  0.1489  0.0126  \n",
       "1 -0.1001  0.0018  \n",
       "2 -0.2068  0.0061  \n",
       "3 -0.2987  0.0065  \n",
       "4 -0.4670  0.0069  \n",
       "5     NaN  0.0339  "
      ]
     },
     "execution_count": 96,
     "metadata": {},
     "output_type": "execute_result"
    }
   ],
   "source": [
    "NOD.IVtable"
   ]
  },
  {
   "cell_type": "code",
   "execution_count": 97,
   "metadata": {},
   "outputs": [],
   "source": [
    "iv_all = iv_all.append(pd.Series({\"NumberOfDependents\":NOD.IV}))"
   ]
  },
  {
   "cell_type": "markdown",
   "metadata": {},
   "source": [
    "### 查看所有变量IV值\n",
    "\n",
    "- IV值用于筛选变量,删除小于0.02的变量"
   ]
  },
  {
   "cell_type": "code",
   "execution_count": 98,
   "metadata": {},
   "outputs": [
    {
     "data": {
      "text/plain": [
       "RevolvingUtilizationOfUnsecuredLines    1.1487\n",
       "NumberOfTimes90DaysLate                 0.8738\n",
       "NumberOfTime30_59DaysPastDueNotWorse    0.7576\n",
       "NumberOfTime60_89DaysPastDueNotWorse    0.5989\n",
       "age                                     0.2523\n",
       "NumberOfOpenCreditLinesAndLoans         0.1108\n",
       "DebtRatio                               0.0889\n",
       "MonthlyIncome                           0.0856\n",
       "NumberRealEstateLoansOrLines            0.0606\n",
       "NumberOfDependents                      0.0339\n",
       "dtype: float64"
      ]
     },
     "execution_count": 98,
     "metadata": {},
     "output_type": "execute_result"
    }
   ],
   "source": [
    "iv_all.sort_values(ascending=False)"
   ]
  },
  {
   "cell_type": "code",
   "execution_count": 99,
   "metadata": {
    "scrolled": true
   },
   "outputs": [
    {
     "data": {
      "text/plain": [
       "<matplotlib.axes._subplots.AxesSubplot at 0x1943db7b390>"
      ]
     },
     "execution_count": 99,
     "metadata": {},
     "output_type": "execute_result"
    },
    {
     "data": {
      "image/png": "[encoded data removed]",
      "text/plain": [
       "<Figure size 432x288 with 1 Axes>"
      ]
     },
     "metadata": {
      "needs_background": "light"
     },
     "output_type": "display_data"
    }
   ],
   "source": [
    "iv_all.sort_values().plot(kind=\"barh\")"
   ]
  },
  {
   "cell_type": "markdown",
   "metadata": {},
   "source": [
    "- 可见所有的IV值均大于0.02,故这里使用所有变量"
   ]
  },
  {
   "cell_type": "markdown",
   "metadata": {},
   "source": [
    "### 生成WOE数据"
   ]
  },
  {
   "cell_type": "markdown",
   "metadata": {},
   "source": [
    "- 之前smbin和smbin_cu得到的对象根据IV值筛选后,放在一个列表中"
   ]
  },
  {
   "cell_type": "code",
   "execution_count": 100,
   "metadata": {},
   "outputs": [],
   "source": [
    "x_list = [RUO,age,NO3059,DebtRatio,MonthlyIncome,NOO,NO90,NRE,NO6089,NOD]"
   ]
  },
  {
   "cell_type": "markdown",
   "metadata": {},
   "source": [
    "- 使用smgen函数根据得到的列表生成新数据"
   ]
  },
  {
   "cell_type": "code",
   "execution_count": 101,
   "metadata": {},
   "outputs": [],
   "source": [
    "data_woe = smgen(train_data,x_list)"
   ]
  },
  {
   "cell_type": "code",
   "execution_count": 102,
   "metadata": {},
   "outputs": [
    {
     "data": {
      "text/html": [
       "<div>\n",
       "<style scoped>\n",
       "    .dataframe tbody tr th:only-of-type {\n",
       "        vertical-align: middle;\n",
       "    }\n",
       "\n",
       "    .dataframe tbody tr th {\n",
       "        vertical-align: top;\n",
       "    }\n",
       "\n",
       "    .dataframe thead th {\n",
       "        text-align: right;\n",
       "    }\n",
       "</style>\n",
       "<table border=\"1\" class=\"dataframe\">\n",
       "  <thead>\n",
       "    <tr style=\"text-align: right;\">\n",
       "      <th></th>\n",
       "      <th>SeriousDlqin2yrs</th>\n",
       "      <th>RevolvingUtilizationOfUnsecuredLines</th>\n",
       "      <th>age</th>\n",
       "      <th>NumberOfTime30_59DaysPastDueNotWorse</th>\n",
       "      <th>DebtRatio</th>\n",
       "      <th>MonthlyIncome</th>\n",
       "      <th>NumberOfOpenCreditLinesAndLoans</th>\n",
       "      <th>NumberOfTimes90DaysLate</th>\n",
       "      <th>NumberRealEstateLoansOrLines</th>\n",
       "      <th>NumberOfTime60_89DaysPastDueNotWorse</th>\n",
       "      <th>...</th>\n",
       "      <th>RevolvingUtilizationOfUnsecuredLines_woe</th>\n",
       "      <th>age_woe</th>\n",
       "      <th>NumberOfTime30_59DaysPastDueNotWorse_woe</th>\n",
       "      <th>DebtRatio_woe</th>\n",
       "      <th>MonthlyIncome_woe</th>\n",
       "      <th>NumberOfOpenCreditLinesAndLoans_woe</th>\n",
       "      <th>NumberOfTimes90DaysLate_woe</th>\n",
       "      <th>NumberRealEstateLoansOrLines_woe</th>\n",
       "      <th>NumberOfTime60_89DaysPastDueNotWorse_woe</th>\n",
       "      <th>NumberOfDependents_woe</th>\n",
       "    </tr>\n",
       "  </thead>\n",
       "  <tbody>\n",
       "    <tr>\n",
       "      <th>1</th>\n",
       "      <td>0</td>\n",
       "      <td>0.766127</td>\n",
       "      <td>45</td>\n",
       "      <td>2</td>\n",
       "      <td>0.802982</td>\n",
       "      <td>9120.0</td>\n",
       "      <td>13</td>\n",
       "      <td>0</td>\n",
       "      <td>6</td>\n",
       "      <td>0</td>\n",
       "      <td>...</td>\n",
       "      <td>-0.8258</td>\n",
       "      <td>-0.1385</td>\n",
       "      <td>-1.6142</td>\n",
       "      <td>-0.5947</td>\n",
       "      <td>0.3397</td>\n",
       "      <td>0.1557</td>\n",
       "      <td>0.3890</td>\n",
       "      <td>-0.5904</td>\n",
       "      <td>0.2874</td>\n",
       "      <td>-0.2068</td>\n",
       "    </tr>\n",
       "    <tr>\n",
       "      <th>2</th>\n",
       "      <td>1</td>\n",
       "      <td>0.957151</td>\n",
       "      <td>40</td>\n",
       "      <td>0</td>\n",
       "      <td>0.121876</td>\n",
       "      <td>2600.0</td>\n",
       "      <td>4</td>\n",
       "      <td>0</td>\n",
       "      <td>0</td>\n",
       "      <td>0</td>\n",
       "      <td>...</td>\n",
       "      <td>-1.2175</td>\n",
       "      <td>-0.3249</td>\n",
       "      <td>0.5408</td>\n",
       "      <td>0.1117</td>\n",
       "      <td>-0.4417</td>\n",
       "      <td>0.1557</td>\n",
       "      <td>0.3890</td>\n",
       "      <td>-0.2413</td>\n",
       "      <td>0.2874</td>\n",
       "      <td>-0.1001</td>\n",
       "    </tr>\n",
       "    <tr>\n",
       "      <th>3</th>\n",
       "      <td>1</td>\n",
       "      <td>0.658180</td>\n",
       "      <td>38</td>\n",
       "      <td>1</td>\n",
       "      <td>0.085113</td>\n",
       "      <td>3042.0</td>\n",
       "      <td>2</td>\n",
       "      <td>1</td>\n",
       "      <td>0</td>\n",
       "      <td>0</td>\n",
       "      <td>...</td>\n",
       "      <td>-0.3778</td>\n",
       "      <td>-0.3249</td>\n",
       "      <td>-0.9011</td>\n",
       "      <td>0.1117</td>\n",
       "      <td>-0.4417</td>\n",
       "      <td>-0.2318</td>\n",
       "      <td>-1.9577</td>\n",
       "      <td>-0.2413</td>\n",
       "      <td>0.2874</td>\n",
       "      <td>0.1489</td>\n",
       "    </tr>\n",
       "    <tr>\n",
       "      <th>4</th>\n",
       "      <td>1</td>\n",
       "      <td>0.233810</td>\n",
       "      <td>30</td>\n",
       "      <td>0</td>\n",
       "      <td>0.036050</td>\n",
       "      <td>3300.0</td>\n",
       "      <td>5</td>\n",
       "      <td>0</td>\n",
       "      <td>0</td>\n",
       "      <td>0</td>\n",
       "      <td>...</td>\n",
       "      <td>0.7032</td>\n",
       "      <td>-0.5507</td>\n",
       "      <td>0.5408</td>\n",
       "      <td>0.1117</td>\n",
       "      <td>-0.4417</td>\n",
       "      <td>0.1557</td>\n",
       "      <td>0.3890</td>\n",
       "      <td>-0.2413</td>\n",
       "      <td>0.2874</td>\n",
       "      <td>0.1489</td>\n",
       "    </tr>\n",
       "    <tr>\n",
       "      <th>5</th>\n",
       "      <td>1</td>\n",
       "      <td>0.907239</td>\n",
       "      <td>49</td>\n",
       "      <td>1</td>\n",
       "      <td>0.024926</td>\n",
       "      <td>63588.0</td>\n",
       "      <td>7</td>\n",
       "      <td>0</td>\n",
       "      <td>1</td>\n",
       "      <td>0</td>\n",
       "      <td>...</td>\n",
       "      <td>-1.2175</td>\n",
       "      <td>-0.1385</td>\n",
       "      <td>-0.9011</td>\n",
       "      <td>0.1117</td>\n",
       "      <td>0.3397</td>\n",
       "      <td>0.1557</td>\n",
       "      <td>0.3890</td>\n",
       "      <td>0.2152</td>\n",
       "      <td>0.2874</td>\n",
       "      <td>0.1489</td>\n",
       "    </tr>\n",
       "  </tbody>\n",
       "</table>\n",
       "<p>5 rows × 21 columns</p>\n",
       "</div>"
      ],
      "text/plain": [
       "   SeriousDlqin2yrs  RevolvingUtilizationOfUnsecuredLines  age  \\\n",
       "1                 0                              0.766127   45   \n",
       "2                 1                              0.957151   40   \n",
       "3                 1                              0.658180   38   \n",
       "4                 1                              0.233810   30   \n",
       "5                 1                              0.907239   49   \n",
       "\n",
       "   NumberOfTime30_59DaysPastDueNotWorse  DebtRatio  MonthlyIncome  \\\n",
       "1                                     2   0.802982         9120.0   \n",
       "2                                     0   0.121876         2600.0   \n",
       "3                                     1   0.085113         3042.0   \n",
       "4                                     0   0.036050         3300.0   \n",
       "5                                     1   0.024926        63588.0   \n",
       "\n",
       "   NumberOfOpenCreditLinesAndLoans  NumberOfTimes90DaysLate  \\\n",
       "1                               13                        0   \n",
       "2                                4                        0   \n",
       "3                                2                        1   \n",
       "4                                5                        0   \n",
       "5                                7                        0   \n",
       "\n",
       "   NumberRealEstateLoansOrLines  NumberOfTime60_89DaysPastDueNotWorse  ...  \\\n",
       "1                             6                                     0  ...   \n",
       "2                             0                                     0  ...   \n",
       "3                             0                                     0  ...   \n",
       "4                             0                                     0  ...   \n",
       "5                             1                                     0  ...   \n",
       "\n",
       "   RevolvingUtilizationOfUnsecuredLines_woe  age_woe  \\\n",
       "1                                   -0.8258  -0.1385   \n",
       "2                                   -1.2175  -0.3249   \n",
       "3                                   -0.3778  -0.3249   \n",
       "4                                    0.7032  -0.5507   \n",
       "5                                   -1.2175  -0.1385   \n",
       "\n",
       "   NumberOfTime30_59DaysPastDueNotWorse_woe  DebtRatio_woe  MonthlyIncome_woe  \\\n",
       "1                                   -1.6142        -0.5947             0.3397   \n",
       "2                                    0.5408         0.1117            -0.4417   \n",
       "3                                   -0.9011         0.1117            -0.4417   \n",
       "4                                    0.5408         0.1117            -0.4417   \n",
       "5                                   -0.9011         0.1117             0.3397   \n",
       "\n",
       "   NumberOfOpenCreditLinesAndLoans_woe  NumberOfTimes90DaysLate_woe  \\\n",
       "1                               0.1557                       0.3890   \n",
       "2                               0.1557                       0.3890   \n",
       "3                              -0.2318                      -1.9577   \n",
       "4                               0.1557                       0.3890   \n",
       "5                               0.1557                       0.3890   \n",
       "\n",
       "   NumberRealEstateLoansOrLines_woe  NumberOfTime60_89DaysPastDueNotWorse_woe  \\\n",
       "1                           -0.5904                                    0.2874   \n",
       "2                           -0.2413                                    0.2874   \n",
       "3                           -0.2413                                    0.2874   \n",
       "4                           -0.2413                                    0.2874   \n",
       "5                            0.2152                                    0.2874   \n",
       "\n",
       "   NumberOfDependents_woe  \n",
       "1                 -0.2068  \n",
       "2                 -0.1001  \n",
       "3                  0.1489  \n",
       "4                  0.1489  \n",
       "5                  0.1489  \n",
       "\n",
       "[5 rows x 21 columns]"
      ]
     },
     "execution_count": 102,
     "metadata": {},
     "output_type": "execute_result"
    }
   ],
   "source": [
    "data_woe.head()"
   ]
  },
  {
   "cell_type": "markdown",
   "metadata": {},
   "source": [
    "- 抽取WOE列作为预测数据X\n",
    "- 加常数项列\n",
    "- 抽取响应列作为Y"
   ]
  },
  {
   "cell_type": "code",
   "execution_count": 103,
   "metadata": {},
   "outputs": [
    {
     "name": "stderr",
     "output_type": "stream",
     "text": [
      "C:\\Programs\\Anaconda3\\lib\\site-packages\\numpy\\core\\fromnumeric.py:2389: FutureWarning: Method .ptp is deprecated and will be removed in a future version. Use numpy.ptp instead.\n",
      "  return ptp(axis=axis, out=out, **kwargs)\n"
     ]
    }
   ],
   "source": [
    "X = data_woe.iloc[:,-len(x_list):]\n",
    "X = sm.add_constant(X)\n",
    "Y = data_woe[y]"
   ]
  },
  {
   "cell_type": "markdown",
   "metadata": {},
   "source": [
    "- 分训练集和测试集"
   ]
  },
  {
   "cell_type": "code",
   "execution_count": 104,
   "metadata": {},
   "outputs": [],
   "source": [
    "X_train,X_test,Y_train,Y_test = train_test_split(X,Y,test_size=0.3,random_state=1221)"
   ]
  },
  {
   "cell_type": "markdown",
   "metadata": {},
   "source": [
    "### 建模"
   ]
  },
  {
   "cell_type": "markdown",
   "metadata": {},
   "source": [
    "- 建立逻辑回归模型,拟合数据,查看回归结果"
   ]
  },
  {
   "cell_type": "code",
   "execution_count": 105,
   "metadata": {},
   "outputs": [],
   "source": [
    "glmodel = sm.GLM(Y_train,X_train,family=sm.families.Binomial()).fit()"
   ]
  },
  {
   "cell_type": "code",
   "execution_count": 106,
   "metadata": {},
   "outputs": [
    {
     "data": {
      "text/html": [
       "<table class=\"simpletable\">\n",
       "<caption>Generalized Linear Model Regression Results</caption>\n",
       "<tr>\n",
       "  <th>Dep. Variable:</th>  <td>SeriousDlqin2yrs</td> <th>  No. Observations:  </th>  <td>104573</td>  \n",
       "</tr>\n",
       "<tr>\n",
       "  <th>Model:</th>                 <td>GLM</td>       <th>  Df Residuals:      </th>  <td>104562</td>  \n",
       "</tr>\n",
       "<tr>\n",
       "  <th>Model Family:</th>       <td>Binomial</td>     <th>  Df Model:          </th>  <td>    10</td>  \n",
       "</tr>\n",
       "<tr>\n",
       "  <th>Link Function:</th>        <td>logit</td>      <th>  Scale:             </th> <td>  1.0000</td> \n",
       "</tr>\n",
       "<tr>\n",
       "  <th>Method:</th>               <td>IRLS</td>       <th>  Log-Likelihood:    </th> <td> -19183.</td> \n",
       "</tr>\n",
       "<tr>\n",
       "  <th>Date:</th>           <td>Tue, 23 Apr 2019</td> <th>  Deviance:          </th> <td>  38367.</td> \n",
       "</tr>\n",
       "<tr>\n",
       "  <th>Time:</th>               <td>22:51:51</td>     <th>  Pearson chi2:      </th> <td>9.05e+04</td> \n",
       "</tr>\n",
       "<tr>\n",
       "  <th>No. Iterations:</th>         <td>7</td>        <th>  Covariance Type:   </th> <td>nonrobust</td>\n",
       "</tr>\n",
       "</table>\n",
       "<table class=\"simpletable\">\n",
       "<tr>\n",
       "                      <td></td>                        <th>coef</th>     <th>std err</th>      <th>z</th>      <th>P>|z|</th>  <th>[0.025</th>    <th>0.975]</th>  \n",
       "</tr>\n",
       "<tr>\n",
       "  <th>const</th>                                    <td>    2.5902</td> <td>    0.015</td> <td>  172.105</td> <td> 0.000</td> <td>    2.561</td> <td>    2.620</td>\n",
       "</tr>\n",
       "<tr>\n",
       "  <th>RevolvingUtilizationOfUnsecuredLines_woe</th> <td>    0.5947</td> <td>    0.014</td> <td>   41.272</td> <td> 0.000</td> <td>    0.566</td> <td>    0.623</td>\n",
       "</tr>\n",
       "<tr>\n",
       "  <th>age_woe</th>                                  <td>    0.4297</td> <td>    0.032</td> <td>   13.510</td> <td> 0.000</td> <td>    0.367</td> <td>    0.492</td>\n",
       "</tr>\n",
       "<tr>\n",
       "  <th>NumberOfTime30_59DaysPastDueNotWorse_woe</th> <td>    0.5073</td> <td>    0.016</td> <td>   32.411</td> <td> 0.000</td> <td>    0.477</td> <td>    0.538</td>\n",
       "</tr>\n",
       "<tr>\n",
       "  <th>DebtRatio_woe</th>                            <td>    0.7051</td> <td>    0.050</td> <td>   14.076</td> <td> 0.000</td> <td>    0.607</td> <td>    0.803</td>\n",
       "</tr>\n",
       "<tr>\n",
       "  <th>MonthlyIncome_woe</th>                        <td>    0.1821</td> <td>    0.049</td> <td>    3.690</td> <td> 0.000</td> <td>    0.085</td> <td>    0.279</td>\n",
       "</tr>\n",
       "<tr>\n",
       "  <th>NumberOfOpenCreditLinesAndLoans_woe</th>      <td>    0.0059</td> <td>    0.041</td> <td>    0.142</td> <td> 0.887</td> <td>   -0.075</td> <td>    0.087</td>\n",
       "</tr>\n",
       "<tr>\n",
       "  <th>NumberOfTimes90DaysLate_woe</th>              <td>    0.5302</td> <td>    0.014</td> <td>   38.254</td> <td> 0.000</td> <td>    0.503</td> <td>    0.557</td>\n",
       "</tr>\n",
       "<tr>\n",
       "  <th>NumberRealEstateLoansOrLines_woe</th>         <td>    0.5383</td> <td>    0.062</td> <td>    8.642</td> <td> 0.000</td> <td>    0.416</td> <td>    0.660</td>\n",
       "</tr>\n",
       "<tr>\n",
       "  <th>NumberOfTime60_89DaysPastDueNotWorse_woe</th> <td>    0.3749</td> <td>    0.017</td> <td>   22.125</td> <td> 0.000</td> <td>    0.342</td> <td>    0.408</td>\n",
       "</tr>\n",
       "<tr>\n",
       "  <th>NumberOfDependents_woe</th>                   <td>    0.2624</td> <td>    0.077</td> <td>    3.388</td> <td> 0.001</td> <td>    0.111</td> <td>    0.414</td>\n",
       "</tr>\n",
       "</table>"
      ],
      "text/plain": [
       "<class 'statsmodels.iolib.summary.Summary'>\n",
       "\"\"\"\n",
       "                 Generalized Linear Model Regression Results                  \n",
       "==============================================================================\n",
       "Dep. Variable:       SeriousDlqin2yrs   No. Observations:               104573\n",
       "Model:                            GLM   Df Residuals:                   104562\n",
       "Model Family:                Binomial   Df Model:                           10\n",
       "Link Function:                  logit   Scale:                          1.0000\n",
       "Method:                          IRLS   Log-Likelihood:                -19183.\n",
       "Date:                Tue, 23 Apr 2019   Deviance:                       38367.\n",
       "Time:                        22:51:51   Pearson chi2:                 9.05e+04\n",
       "No. Iterations:                     7   Covariance Type:             nonrobust\n",
       "============================================================================================================\n",
       "                                               coef    std err          z      P>|z|      [0.025      0.975]\n",
       "------------------------------------------------------------------------------------------------------------\n",
       "const                                        2.5902      0.015    172.105      0.000       2.561       2.620\n",
       "RevolvingUtilizationOfUnsecuredLines_woe     0.5947      0.014     41.272      0.000       0.566       0.623\n",
       "age_woe                                      0.4297      0.032     13.510      0.000       0.367       0.492\n",
       "NumberOfTime30_59DaysPastDueNotWorse_woe     0.5073      0.016     32.411      0.000       0.477       0.538\n",
       "DebtRatio_woe                                0.7051      0.050     14.076      0.000       0.607       0.803\n",
       "MonthlyIncome_woe                            0.1821      0.049      3.690      0.000       0.085       0.279\n",
       "NumberOfOpenCreditLinesAndLoans_woe          0.0059      0.041      0.142      0.887      -0.075       0.087\n",
       "NumberOfTimes90DaysLate_woe                  0.5302      0.014     38.254      0.000       0.503       0.557\n",
       "NumberRealEstateLoansOrLines_woe             0.5383      0.062      8.642      0.000       0.416       0.660\n",
       "NumberOfTime60_89DaysPastDueNotWorse_woe     0.3749      0.017     22.125      0.000       0.342       0.408\n",
       "NumberOfDependents_woe                       0.2624      0.077      3.388      0.001       0.111       0.414\n",
       "============================================================================================================\n",
       "\"\"\""
      ]
     },
     "execution_count": 106,
     "metadata": {},
     "output_type": "execute_result"
    }
   ],
   "source": [
    "glmodel.summary()"
   ]
  },
  {
   "cell_type": "markdown",
   "metadata": {},
   "source": [
    "#### 查看共线性"
   ]
  },
  {
   "cell_type": "markdown",
   "metadata": {},
   "source": [
    "- 计算每个预测变量的vif值,查看是否存在共线性"
   ]
  },
  {
   "cell_type": "code",
   "execution_count": 107,
   "metadata": {},
   "outputs": [
    {
     "name": "stdout",
     "output_type": "stream",
     "text": [
      "RevolvingUtilizationOfUnsecuredLines_woe    1.526123\n",
      "age_woe                                     1.206090\n",
      "NumberOfTime30_59DaysPastDueNotWorse_woe    1.355447\n",
      "DebtRatio_woe                               1.182366\n",
      "MonthlyIncome_woe                           1.122016\n",
      "NumberOfOpenCreditLinesAndLoans_woe         1.182690\n",
      "NumberOfTimes90DaysLate_woe                 1.421802\n",
      "NumberRealEstateLoansOrLines_woe            1.192780\n",
      "NumberOfTime60_89DaysPastDueNotWorse_woe    1.339235\n",
      "NumberOfDependents_woe                      1.129460\n",
      "dtype: float64\n"
     ]
    }
   ],
   "source": [
    "vif = [variance_inflation_factor(X_train.iloc[:,1:].values,i\n",
    "                                 ) for i in range(X_train.shape[1]-1)]\n",
    "print(pd.Series(dict(zip(X_train.columns[1:],vif))))"
   ]
  },
  {
   "cell_type": "markdown",
   "metadata": {},
   "source": [
    "- 可见不存在共线性"
   ]
  },
  {
   "cell_type": "markdown",
   "metadata": {},
   "source": [
    "### 生成评分卡"
   ]
  },
  {
   "cell_type": "markdown",
   "metadata": {},
   "source": [
    "- 根据逻辑回归模型和之前筛选得到的列表,给定参数,生成评分卡\n",
    "- 调整参数,使得评分卡分数范围满足需求"
   ]
  },
  {
   "cell_type": "code",
   "execution_count": 108,
   "metadata": {},
   "outputs": [
    {
     "data": {
      "text/plain": [
       "[301, 842]"
      ]
     },
     "execution_count": 108,
     "metadata": {},
     "output_type": "execute_result"
    }
   ],
   "source": [
    "scorecard = smscale(glmodel,x_list,pdo=43,score=1150,odds=10)\n",
    "scorecard.minmaxscore"
   ]
  },
  {
   "cell_type": "markdown",
   "metadata": {},
   "source": [
    "- 查看最终的评分卡"
   ]
  },
  {
   "cell_type": "code",
   "execution_count": 109,
   "metadata": {},
   "outputs": [
    {
     "data": {
      "text/html": [
       "<div>\n",
       "<style scoped>\n",
       "    .dataframe tbody tr th:only-of-type {\n",
       "        vertical-align: middle;\n",
       "    }\n",
       "\n",
       "    .dataframe tbody tr th {\n",
       "        vertical-align: top;\n",
       "    }\n",
       "\n",
       "    .dataframe thead th {\n",
       "        text-align: right;\n",
       "    }\n",
       "</style>\n",
       "<table border=\"1\" class=\"dataframe\">\n",
       "  <thead>\n",
       "    <tr style=\"text-align: right;\">\n",
       "      <th></th>\n",
       "      <th>Characteristic</th>\n",
       "      <th>Attribute</th>\n",
       "      <th>Points</th>\n",
       "    </tr>\n",
       "  </thead>\n",
       "  <tbody>\n",
       "    <tr>\n",
       "      <th>0</th>\n",
       "      <td>RevolvingUtilizationOfUnsecuredLines</td>\n",
       "      <td>(-0.001, 0.132]</td>\n",
       "      <td>118</td>\n",
       "    </tr>\n",
       "    <tr>\n",
       "      <th>1</th>\n",
       "      <td>RevolvingUtilizationOfUnsecuredLines</td>\n",
       "      <td>(0.132, 0.301]</td>\n",
       "      <td>94</td>\n",
       "    </tr>\n",
       "    <tr>\n",
       "      <th>2</th>\n",
       "      <td>RevolvingUtilizationOfUnsecuredLines</td>\n",
       "      <td>(0.301, 0.495]</td>\n",
       "      <td>74</td>\n",
       "    </tr>\n",
       "    <tr>\n",
       "      <th>3</th>\n",
       "      <td>RevolvingUtilizationOfUnsecuredLines</td>\n",
       "      <td>(0.495, 0.698]</td>\n",
       "      <td>55</td>\n",
       "    </tr>\n",
       "    <tr>\n",
       "      <th>4</th>\n",
       "      <td>RevolvingUtilizationOfUnsecuredLines</td>\n",
       "      <td>(0.698, 0.863]</td>\n",
       "      <td>38</td>\n",
       "    </tr>\n",
       "    <tr>\n",
       "      <th>5</th>\n",
       "      <td>RevolvingUtilizationOfUnsecuredLines</td>\n",
       "      <td>(0.863, 1.003]</td>\n",
       "      <td>24</td>\n",
       "    </tr>\n",
       "    <tr>\n",
       "      <th>6</th>\n",
       "      <td>RevolvingUtilizationOfUnsecuredLines</td>\n",
       "      <td>(1.003, 50708.0]</td>\n",
       "      <td>-9</td>\n",
       "    </tr>\n",
       "    <tr>\n",
       "      <th>0</th>\n",
       "      <td>age</td>\n",
       "      <td>(-0.001, 36.5]</td>\n",
       "      <td>54</td>\n",
       "    </tr>\n",
       "    <tr>\n",
       "      <th>1</th>\n",
       "      <td>age</td>\n",
       "      <td>(36.5, 43.5]</td>\n",
       "      <td>60</td>\n",
       "    </tr>\n",
       "    <tr>\n",
       "      <th>2</th>\n",
       "      <td>age</td>\n",
       "      <td>(43.5, 55.5]</td>\n",
       "      <td>65</td>\n",
       "    </tr>\n",
       "    <tr>\n",
       "      <th>3</th>\n",
       "      <td>age</td>\n",
       "      <td>(55.5, 62.5]</td>\n",
       "      <td>77</td>\n",
       "    </tr>\n",
       "    <tr>\n",
       "      <th>4</th>\n",
       "      <td>age</td>\n",
       "      <td>(62.5, 109.0]</td>\n",
       "      <td>94</td>\n",
       "    </tr>\n",
       "    <tr>\n",
       "      <th>0</th>\n",
       "      <td>NumberOfTime30_59DaysPastDueNotWorse</td>\n",
       "      <td>(-0.001, 0.5]</td>\n",
       "      <td>86</td>\n",
       "    </tr>\n",
       "    <tr>\n",
       "      <th>1</th>\n",
       "      <td>NumberOfTime30_59DaysPastDueNotWorse</td>\n",
       "      <td>(0.5, 1.5]</td>\n",
       "      <td>40</td>\n",
       "    </tr>\n",
       "    <tr>\n",
       "      <th>2</th>\n",
       "      <td>NumberOfTime30_59DaysPastDueNotWorse</td>\n",
       "      <td>(1.5, 2.5]</td>\n",
       "      <td>18</td>\n",
       "    </tr>\n",
       "    <tr>\n",
       "      <th>3</th>\n",
       "      <td>NumberOfTime30_59DaysPastDueNotWorse</td>\n",
       "      <td>(2.5, 3.5]</td>\n",
       "      <td>5</td>\n",
       "    </tr>\n",
       "    <tr>\n",
       "      <th>4</th>\n",
       "      <td>NumberOfTime30_59DaysPastDueNotWorse</td>\n",
       "      <td>(3.5, 98.0]</td>\n",
       "      <td>-9</td>\n",
       "    </tr>\n",
       "    <tr>\n",
       "      <th>0</th>\n",
       "      <td>DebtRatio</td>\n",
       "      <td>(-0.001, 1.3e-05]</td>\n",
       "      <td>53</td>\n",
       "    </tr>\n",
       "    <tr>\n",
       "      <th>1</th>\n",
       "      <td>DebtRatio</td>\n",
       "      <td>(1.3e-05, 0.0163]</td>\n",
       "      <td>99</td>\n",
       "    </tr>\n",
       "    <tr>\n",
       "      <th>2</th>\n",
       "      <td>DebtRatio</td>\n",
       "      <td>(0.0163, 0.423]</td>\n",
       "      <td>73</td>\n",
       "    </tr>\n",
       "    <tr>\n",
       "      <th>3</th>\n",
       "      <td>DebtRatio</td>\n",
       "      <td>(0.423, 0.654]</td>\n",
       "      <td>59</td>\n",
       "    </tr>\n",
       "    <tr>\n",
       "      <th>4</th>\n",
       "      <td>DebtRatio</td>\n",
       "      <td>(0.654, 3.973]</td>\n",
       "      <td>43</td>\n",
       "    </tr>\n",
       "    <tr>\n",
       "      <th>5</th>\n",
       "      <td>DebtRatio</td>\n",
       "      <td>(3.973, 329664.0]</td>\n",
       "      <td>78</td>\n",
       "    </tr>\n",
       "    <tr>\n",
       "      <th>0</th>\n",
       "      <td>MonthlyIncome</td>\n",
       "      <td>(-0.001, 930.5]</td>\n",
       "      <td>73</td>\n",
       "    </tr>\n",
       "    <tr>\n",
       "      <th>1</th>\n",
       "      <td>MonthlyIncome</td>\n",
       "      <td>(930.5, 3332.5]</td>\n",
       "      <td>64</td>\n",
       "    </tr>\n",
       "    <tr>\n",
       "      <th>2</th>\n",
       "      <td>MonthlyIncome</td>\n",
       "      <td>(3332.5, 5320.5]</td>\n",
       "      <td>66</td>\n",
       "    </tr>\n",
       "    <tr>\n",
       "      <th>3</th>\n",
       "      <td>MonthlyIncome</td>\n",
       "      <td>(5320.5, 6643.5]</td>\n",
       "      <td>69</td>\n",
       "    </tr>\n",
       "    <tr>\n",
       "      <th>4</th>\n",
       "      <td>MonthlyIncome</td>\n",
       "      <td>(6643.5, 3008750.0]</td>\n",
       "      <td>72</td>\n",
       "    </tr>\n",
       "    <tr>\n",
       "      <th>5</th>\n",
       "      <td>MonthlyIncome</td>\n",
       "      <td>nan</td>\n",
       "      <td>71</td>\n",
       "    </tr>\n",
       "    <tr>\n",
       "      <th>0</th>\n",
       "      <td>NumberOfOpenCreditLinesAndLoans</td>\n",
       "      <td>(-0.001, 0.5]</td>\n",
       "      <td>68</td>\n",
       "    </tr>\n",
       "    <tr>\n",
       "      <th>1</th>\n",
       "      <td>NumberOfOpenCreditLinesAndLoans</td>\n",
       "      <td>(0.5, 1.5]</td>\n",
       "      <td>68</td>\n",
       "    </tr>\n",
       "    <tr>\n",
       "      <th>2</th>\n",
       "      <td>NumberOfOpenCreditLinesAndLoans</td>\n",
       "      <td>(1.5, 3.5]</td>\n",
       "      <td>68</td>\n",
       "    </tr>\n",
       "    <tr>\n",
       "      <th>3</th>\n",
       "      <td>NumberOfOpenCreditLinesAndLoans</td>\n",
       "      <td>(3.5, 13.5]</td>\n",
       "      <td>69</td>\n",
       "    </tr>\n",
       "    <tr>\n",
       "      <th>4</th>\n",
       "      <td>NumberOfOpenCreditLinesAndLoans</td>\n",
       "      <td>(13.5, 58.0]</td>\n",
       "      <td>69</td>\n",
       "    </tr>\n",
       "    <tr>\n",
       "      <th>0</th>\n",
       "      <td>NumberOfTimes90DaysLate</td>\n",
       "      <td>(-0.001, 0.5]</td>\n",
       "      <td>81</td>\n",
       "    </tr>\n",
       "    <tr>\n",
       "      <th>1</th>\n",
       "      <td>NumberOfTimes90DaysLate</td>\n",
       "      <td>(0.5, 1.5]</td>\n",
       "      <td>4</td>\n",
       "    </tr>\n",
       "    <tr>\n",
       "      <th>2</th>\n",
       "      <td>NumberOfTimes90DaysLate</td>\n",
       "      <td>(1.5, 98.0]</td>\n",
       "      <td>-24</td>\n",
       "    </tr>\n",
       "    <tr>\n",
       "      <th>0</th>\n",
       "      <td>NumberRealEstateLoansOrLines</td>\n",
       "      <td>(-0.001, 0.5]</td>\n",
       "      <td>60</td>\n",
       "    </tr>\n",
       "    <tr>\n",
       "      <th>1</th>\n",
       "      <td>NumberRealEstateLoansOrLines</td>\n",
       "      <td>(0.5, 3.5]</td>\n",
       "      <td>76</td>\n",
       "    </tr>\n",
       "    <tr>\n",
       "      <th>2</th>\n",
       "      <td>NumberRealEstateLoansOrLines</td>\n",
       "      <td>(3.5, 54.0]</td>\n",
       "      <td>49</td>\n",
       "    </tr>\n",
       "    <tr>\n",
       "      <th>0</th>\n",
       "      <td>NumberOfTime60_89DaysPastDueNotWorse</td>\n",
       "      <td>(-0.001, 0.5]</td>\n",
       "      <td>75</td>\n",
       "    </tr>\n",
       "    <tr>\n",
       "      <th>1</th>\n",
       "      <td>NumberOfTime60_89DaysPastDueNotWorse</td>\n",
       "      <td>(0.5, 1.5]</td>\n",
       "      <td>26</td>\n",
       "    </tr>\n",
       "    <tr>\n",
       "      <th>2</th>\n",
       "      <td>NumberOfTime60_89DaysPastDueNotWorse</td>\n",
       "      <td>(1.5, 98.0]</td>\n",
       "      <td>4</td>\n",
       "    </tr>\n",
       "    <tr>\n",
       "      <th>0</th>\n",
       "      <td>NumberOfDependents</td>\n",
       "      <td>(-0.001, 0.5]</td>\n",
       "      <td>71</td>\n",
       "    </tr>\n",
       "    <tr>\n",
       "      <th>1</th>\n",
       "      <td>NumberOfDependents</td>\n",
       "      <td>(0.5, 1.5]</td>\n",
       "      <td>67</td>\n",
       "    </tr>\n",
       "    <tr>\n",
       "      <th>2</th>\n",
       "      <td>NumberOfDependents</td>\n",
       "      <td>(1.5, 2.5]</td>\n",
       "      <td>65</td>\n",
       "    </tr>\n",
       "    <tr>\n",
       "      <th>3</th>\n",
       "      <td>NumberOfDependents</td>\n",
       "      <td>(2.5, 3.5]</td>\n",
       "      <td>64</td>\n",
       "    </tr>\n",
       "    <tr>\n",
       "      <th>4</th>\n",
       "      <td>NumberOfDependents</td>\n",
       "      <td>(3.5, 20.0]</td>\n",
       "      <td>61</td>\n",
       "    </tr>\n",
       "  </tbody>\n",
       "</table>\n",
       "</div>"
      ],
      "text/plain": [
       "                         Characteristic            Attribute  Points\n",
       "0  RevolvingUtilizationOfUnsecuredLines      (-0.001, 0.132]     118\n",
       "1  RevolvingUtilizationOfUnsecuredLines       (0.132, 0.301]      94\n",
       "2  RevolvingUtilizationOfUnsecuredLines       (0.301, 0.495]      74\n",
       "3  RevolvingUtilizationOfUnsecuredLines       (0.495, 0.698]      55\n",
       "4  RevolvingUtilizationOfUnsecuredLines       (0.698, 0.863]      38\n",
       "5  RevolvingUtilizationOfUnsecuredLines       (0.863, 1.003]      24\n",
       "6  RevolvingUtilizationOfUnsecuredLines     (1.003, 50708.0]      -9\n",
       "0                                   age       (-0.001, 36.5]      54\n",
       "1                                   age         (36.5, 43.5]      60\n",
       "2                                   age         (43.5, 55.5]      65\n",
       "3                                   age         (55.5, 62.5]      77\n",
       "4                                   age        (62.5, 109.0]      94\n",
       "0  NumberOfTime30_59DaysPastDueNotWorse        (-0.001, 0.5]      86\n",
       "1  NumberOfTime30_59DaysPastDueNotWorse           (0.5, 1.5]      40\n",
       "2  NumberOfTime30_59DaysPastDueNotWorse           (1.5, 2.5]      18\n",
       "3  NumberOfTime30_59DaysPastDueNotWorse           (2.5, 3.5]       5\n",
       "4  NumberOfTime30_59DaysPastDueNotWorse          (3.5, 98.0]      -9\n",
       "0                             DebtRatio    (-0.001, 1.3e-05]      53\n",
       "1                             DebtRatio    (1.3e-05, 0.0163]      99\n",
       "2                             DebtRatio      (0.0163, 0.423]      73\n",
       "3                             DebtRatio       (0.423, 0.654]      59\n",
       "4                             DebtRatio       (0.654, 3.973]      43\n",
       "5                             DebtRatio    (3.973, 329664.0]      78\n",
       "0                         MonthlyIncome      (-0.001, 930.5]      73\n",
       "1                         MonthlyIncome      (930.5, 3332.5]      64\n",
       "2                         MonthlyIncome     (3332.5, 5320.5]      66\n",
       "3                         MonthlyIncome     (5320.5, 6643.5]      69\n",
       "4                         MonthlyIncome  (6643.5, 3008750.0]      72\n",
       "5                         MonthlyIncome                  nan      71\n",
       "0       NumberOfOpenCreditLinesAndLoans        (-0.001, 0.5]      68\n",
       "1       NumberOfOpenCreditLinesAndLoans           (0.5, 1.5]      68\n",
       "2       NumberOfOpenCreditLinesAndLoans           (1.5, 3.5]      68\n",
       "3       NumberOfOpenCreditLinesAndLoans          (3.5, 13.5]      69\n",
       "4       NumberOfOpenCreditLinesAndLoans         (13.5, 58.0]      69\n",
       "0               NumberOfTimes90DaysLate        (-0.001, 0.5]      81\n",
       "1               NumberOfTimes90DaysLate           (0.5, 1.5]       4\n",
       "2               NumberOfTimes90DaysLate          (1.5, 98.0]     -24\n",
       "0          NumberRealEstateLoansOrLines        (-0.001, 0.5]      60\n",
       "1          NumberRealEstateLoansOrLines           (0.5, 3.5]      76\n",
       "2          NumberRealEstateLoansOrLines          (3.5, 54.0]      49\n",
       "0  NumberOfTime60_89DaysPastDueNotWorse        (-0.001, 0.5]      75\n",
       "1  NumberOfTime60_89DaysPastDueNotWorse           (0.5, 1.5]      26\n",
       "2  NumberOfTime60_89DaysPastDueNotWorse          (1.5, 98.0]       4\n",
       "0                    NumberOfDependents        (-0.001, 0.5]      71\n",
       "1                    NumberOfDependents           (0.5, 1.5]      67\n",
       "2                    NumberOfDependents           (1.5, 2.5]      65\n",
       "3                    NumberOfDependents           (2.5, 3.5]      64\n",
       "4                    NumberOfDependents          (3.5, 20.0]      61"
      ]
     },
     "execution_count": 109,
     "metadata": {},
     "output_type": "execute_result"
    }
   ],
   "source": [
    "scorecard.ScoreCard"
   ]
  },
  {
   "cell_type": "markdown",
   "metadata": {},
   "source": [
    "- 评分卡写出到csv文件"
   ]
  },
  {
   "cell_type": "code",
   "execution_count": 110,
   "metadata": {},
   "outputs": [],
   "source": [
    "scorecard.ScoreCard.to_csv(\"ScoreCard.csv\",index=False)"
   ]
  },
  {
   "cell_type": "markdown",
   "metadata": {},
   "source": [
    "### 模型评估"
   ]
  },
  {
   "cell_type": "markdown",
   "metadata": {},
   "source": [
    "- 根据之前的分卡对象得到测试集分数"
   ]
  },
  {
   "cell_type": "code",
   "execution_count": 111,
   "metadata": {},
   "outputs": [],
   "source": [
    "testscore = smscoregen(scorecard,X_test)"
   ]
  },
  {
   "cell_type": "code",
   "execution_count": 112,
   "metadata": {},
   "outputs": [
    {
     "data": {
      "text/html": [
       "<div>\n",
       "<style scoped>\n",
       "    .dataframe tbody tr th:only-of-type {\n",
       "        vertical-align: middle;\n",
       "    }\n",
       "\n",
       "    .dataframe tbody tr th {\n",
       "        vertical-align: top;\n",
       "    }\n",
       "\n",
       "    .dataframe thead th {\n",
       "        text-align: right;\n",
       "    }\n",
       "</style>\n",
       "<table border=\"1\" class=\"dataframe\">\n",
       "  <thead>\n",
       "    <tr style=\"text-align: right;\">\n",
       "      <th></th>\n",
       "      <th>const</th>\n",
       "      <th>RevolvingUtilizationOfUnsecuredLines_woe</th>\n",
       "      <th>age_woe</th>\n",
       "      <th>NumberOfTime30_59DaysPastDueNotWorse_woe</th>\n",
       "      <th>DebtRatio_woe</th>\n",
       "      <th>MonthlyIncome_woe</th>\n",
       "      <th>NumberOfOpenCreditLinesAndLoans_woe</th>\n",
       "      <th>NumberOfTimes90DaysLate_woe</th>\n",
       "      <th>NumberRealEstateLoansOrLines_woe</th>\n",
       "      <th>NumberOfTime60_89DaysPastDueNotWorse_woe</th>\n",
       "      <th>...</th>\n",
       "      <th>age_Score</th>\n",
       "      <th>NumberOfTime30_59DaysPastDueNotWorse_Score</th>\n",
       "      <th>DebtRatio_Score</th>\n",
       "      <th>MonthlyIncome_Score</th>\n",
       "      <th>NumberOfOpenCreditLinesAndLoans_Score</th>\n",
       "      <th>NumberOfTimes90DaysLate_Score</th>\n",
       "      <th>NumberRealEstateLoansOrLines_Score</th>\n",
       "      <th>NumberOfTime60_89DaysPastDueNotWorse_Score</th>\n",
       "      <th>NumberOfDependents_Score</th>\n",
       "      <th>Score</th>\n",
       "    </tr>\n",
       "  </thead>\n",
       "  <tbody>\n",
       "    <tr>\n",
       "      <th>0</th>\n",
       "      <td>1.0</td>\n",
       "      <td>1.3365</td>\n",
       "      <td>-0.1385</td>\n",
       "      <td>-0.9011</td>\n",
       "      <td>0.1117</td>\n",
       "      <td>0.3397</td>\n",
       "      <td>0.1557</td>\n",
       "      <td>0.3890</td>\n",
       "      <td>0.2152</td>\n",
       "      <td>0.2874</td>\n",
       "      <td>...</td>\n",
       "      <td>65</td>\n",
       "      <td>40</td>\n",
       "      <td>73</td>\n",
       "      <td>72</td>\n",
       "      <td>69</td>\n",
       "      <td>81</td>\n",
       "      <td>76</td>\n",
       "      <td>75</td>\n",
       "      <td>64</td>\n",
       "      <td>733</td>\n",
       "    </tr>\n",
       "    <tr>\n",
       "      <th>1</th>\n",
       "      <td>1.0</td>\n",
       "      <td>1.3365</td>\n",
       "      <td>-0.3249</td>\n",
       "      <td>-0.9011</td>\n",
       "      <td>0.1117</td>\n",
       "      <td>0.3397</td>\n",
       "      <td>0.1557</td>\n",
       "      <td>-1.9577</td>\n",
       "      <td>0.2152</td>\n",
       "      <td>-1.8339</td>\n",
       "      <td>...</td>\n",
       "      <td>60</td>\n",
       "      <td>40</td>\n",
       "      <td>73</td>\n",
       "      <td>72</td>\n",
       "      <td>69</td>\n",
       "      <td>4</td>\n",
       "      <td>76</td>\n",
       "      <td>26</td>\n",
       "      <td>67</td>\n",
       "      <td>605</td>\n",
       "    </tr>\n",
       "    <tr>\n",
       "      <th>2</th>\n",
       "      <td>1.0</td>\n",
       "      <td>1.3365</td>\n",
       "      <td>-0.1385</td>\n",
       "      <td>0.5408</td>\n",
       "      <td>0.6951</td>\n",
       "      <td>0.3397</td>\n",
       "      <td>0.1557</td>\n",
       "      <td>0.3890</td>\n",
       "      <td>-0.2413</td>\n",
       "      <td>0.2874</td>\n",
       "      <td>...</td>\n",
       "      <td>65</td>\n",
       "      <td>86</td>\n",
       "      <td>99</td>\n",
       "      <td>72</td>\n",
       "      <td>69</td>\n",
       "      <td>81</td>\n",
       "      <td>60</td>\n",
       "      <td>75</td>\n",
       "      <td>64</td>\n",
       "      <td>789</td>\n",
       "    </tr>\n",
       "    <tr>\n",
       "      <th>3</th>\n",
       "      <td>1.0</td>\n",
       "      <td>-0.8258</td>\n",
       "      <td>-0.3249</td>\n",
       "      <td>0.5408</td>\n",
       "      <td>-0.5947</td>\n",
       "      <td>0.3397</td>\n",
       "      <td>0.1557</td>\n",
       "      <td>0.3890</td>\n",
       "      <td>0.2152</td>\n",
       "      <td>0.2874</td>\n",
       "      <td>...</td>\n",
       "      <td>60</td>\n",
       "      <td>86</td>\n",
       "      <td>43</td>\n",
       "      <td>72</td>\n",
       "      <td>69</td>\n",
       "      <td>81</td>\n",
       "      <td>76</td>\n",
       "      <td>75</td>\n",
       "      <td>65</td>\n",
       "      <td>665</td>\n",
       "    </tr>\n",
       "    <tr>\n",
       "      <th>4</th>\n",
       "      <td>1.0</td>\n",
       "      <td>1.3365</td>\n",
       "      <td>0.9583</td>\n",
       "      <td>0.5408</td>\n",
       "      <td>0.1117</td>\n",
       "      <td>-0.1884</td>\n",
       "      <td>-0.2318</td>\n",
       "      <td>0.3890</td>\n",
       "      <td>0.2152</td>\n",
       "      <td>0.2874</td>\n",
       "      <td>...</td>\n",
       "      <td>94</td>\n",
       "      <td>86</td>\n",
       "      <td>73</td>\n",
       "      <td>66</td>\n",
       "      <td>68</td>\n",
       "      <td>81</td>\n",
       "      <td>76</td>\n",
       "      <td>75</td>\n",
       "      <td>71</td>\n",
       "      <td>808</td>\n",
       "    </tr>\n",
       "  </tbody>\n",
       "</table>\n",
       "<p>5 rows × 22 columns</p>\n",
       "</div>"
      ],
      "text/plain": [
       "   const  RevolvingUtilizationOfUnsecuredLines_woe  age_woe  \\\n",
       "0    1.0                                    1.3365  -0.1385   \n",
       "1    1.0                                    1.3365  -0.3249   \n",
       "2    1.0                                    1.3365  -0.1385   \n",
       "3    1.0                                   -0.8258  -0.3249   \n",
       "4    1.0                                    1.3365   0.9583   \n",
       "\n",
       "   NumberOfTime30_59DaysPastDueNotWorse_woe  DebtRatio_woe  MonthlyIncome_woe  \\\n",
       "0                                   -0.9011         0.1117             0.3397   \n",
       "1                                   -0.9011         0.1117             0.3397   \n",
       "2                                    0.5408         0.6951             0.3397   \n",
       "3                                    0.5408        -0.5947             0.3397   \n",
       "4                                    0.5408         0.1117            -0.1884   \n",
       "\n",
       "   NumberOfOpenCreditLinesAndLoans_woe  NumberOfTimes90DaysLate_woe  \\\n",
       "0                               0.1557                       0.3890   \n",
       "1                               0.1557                      -1.9577   \n",
       "2                               0.1557                       0.3890   \n",
       "3                               0.1557                       0.3890   \n",
       "4                              -0.2318                       0.3890   \n",
       "\n",
       "   NumberRealEstateLoansOrLines_woe  NumberOfTime60_89DaysPastDueNotWorse_woe  \\\n",
       "0                            0.2152                                    0.2874   \n",
       "1                            0.2152                                   -1.8339   \n",
       "2                           -0.2413                                    0.2874   \n",
       "3                            0.2152                                    0.2874   \n",
       "4                            0.2152                                    0.2874   \n",
       "\n",
       "   ...  age_Score  NumberOfTime30_59DaysPastDueNotWorse_Score  \\\n",
       "0  ...         65                                          40   \n",
       "1  ...         60                                          40   \n",
       "2  ...         65                                          86   \n",
       "3  ...         60                                          86   \n",
       "4  ...         94                                          86   \n",
       "\n",
       "   DebtRatio_Score  MonthlyIncome_Score  \\\n",
       "0               73                   72   \n",
       "1               73                   72   \n",
       "2               99                   72   \n",
       "3               43                   72   \n",
       "4               73                   66   \n",
       "\n",
       "   NumberOfOpenCreditLinesAndLoans_Score  NumberOfTimes90DaysLate_Score  \\\n",
       "0                                     69                             81   \n",
       "1                                     69                              4   \n",
       "2                                     69                             81   \n",
       "3                                     69                             81   \n",
       "4                                     68                             81   \n",
       "\n",
       "   NumberRealEstateLoansOrLines_Score  \\\n",
       "0                                  76   \n",
       "1                                  76   \n",
       "2                                  60   \n",
       "3                                  76   \n",
       "4                                  76   \n",
       "\n",
       "   NumberOfTime60_89DaysPastDueNotWorse_Score  NumberOfDependents_Score  Score  \n",
       "0                                          75                        64    733  \n",
       "1                                          26                        67    605  \n",
       "2                                          75                        64    789  \n",
       "3                                          75                        65    665  \n",
       "4                                          75                        71    808  \n",
       "\n",
       "[5 rows x 22 columns]"
      ]
     },
     "execution_count": 112,
     "metadata": {},
     "output_type": "execute_result"
    }
   ],
   "source": [
    "testscore.head()"
   ]
  },
  {
   "cell_type": "markdown",
   "metadata": {},
   "source": [
    "- 通过测试集中真实的y,和预测的分数,绘制ks曲线\n",
    "- 得到对应的最优阈值以及相关度量"
   ]
  },
  {
   "cell_type": "code",
   "execution_count": 122,
   "metadata": {},
   "outputs": [
    {
     "name": "stdout",
     "output_type": "stream",
     "text": [
      "The optimal cutoff(for ks) is 690.0\n",
      "The maximum value of ks is: 0.5631\n",
      "Score      690.000000\n",
      "TP       33221.000000\n",
      "FP         683.000000\n",
      "FN        8635.000000\n",
      "TN        2279.000000\n",
      "rpp          0.756482\n",
      "tpr          0.793697\n",
      "fpr          0.230587\n",
      "ppv          0.979855\n",
      "acc          0.792092\n",
      "f            0.877006\n",
      "ks           0.563110\n",
      "lift         1.049196\n",
      "Name: 33903, dtype: float64\n"
     ]
    },
    {
     "data": {
      "image/png": "[encoded data removed]",
      "text/plain": [
       "<Figure size 432x288 with 1 Axes>"
      ]
     },
     "metadata": {
      "needs_background": "light"
     },
     "output_type": "display_data"
    }
   ],
   "source": [
    "evaluate1 = evaluate01(Y_test,testscore[\"Score\"],index=\"ks\",plot=\"ks\")"
   ]
  },
  {
   "cell_type": "markdown",
   "metadata": {},
   "source": [
    "- 绘制ROC曲线"
   ]
  },
  {
   "cell_type": "code",
   "execution_count": 123,
   "metadata": {
    "scrolled": true
   },
   "outputs": [
    {
     "data": {
      "image/png": "[encoded data removed]",
      "text/plain": [
       "<Figure size 432x288 with 1 Axes>"
      ]
     },
     "metadata": {
      "needs_background": "light"
     },
     "output_type": "display_data"
    }
   ],
   "source": [
    "evaluate2 = evaluate01(Y_test,testscore[\"Score\"],plot=\"roc\",report=False)"
   ]
  },
  {
   "cell_type": "markdown",
   "metadata": {},
   "source": [
    "### 新数据预测"
   ]
  },
  {
   "cell_type": "markdown",
   "metadata": {},
   "source": [
    "- 读取待预测的新数据"
   ]
  },
  {
   "cell_type": "code",
   "execution_count": 115,
   "metadata": {},
   "outputs": [],
   "source": [
    "os.chdir(\"D:/data/python\")\n",
    "test_data = pd.read_csv(\"cs-test.csv\",index_col=0)"
   ]
  },
  {
   "cell_type": "markdown",
   "metadata": {},
   "source": [
    "- 对数据进行与训练数据相同的清洗,即使用之前定义的清洗函数"
   ]
  },
  {
   "cell_type": "code",
   "execution_count": 116,
   "metadata": {},
   "outputs": [],
   "source": [
    "test0 = datacleaning(test_data)"
   ]
  },
  {
   "cell_type": "markdown",
   "metadata": {},
   "source": [
    "- 由之前得到的分箱对象生成包含woe列的数据"
   ]
  },
  {
   "cell_type": "code",
   "execution_count": 117,
   "metadata": {},
   "outputs": [
    {
     "data": {
      "text/html": [
       "<div>\n",
       "<style scoped>\n",
       "    .dataframe tbody tr th:only-of-type {\n",
       "        vertical-align: middle;\n",
       "    }\n",
       "\n",
       "    .dataframe tbody tr th {\n",
       "        vertical-align: top;\n",
       "    }\n",
       "\n",
       "    .dataframe thead th {\n",
       "        text-align: right;\n",
       "    }\n",
       "</style>\n",
       "<table border=\"1\" class=\"dataframe\">\n",
       "  <thead>\n",
       "    <tr style=\"text-align: right;\">\n",
       "      <th></th>\n",
       "      <th>SeriousDlqin2yrs</th>\n",
       "      <th>RevolvingUtilizationOfUnsecuredLines</th>\n",
       "      <th>age</th>\n",
       "      <th>NumberOfTime30_59DaysPastDueNotWorse</th>\n",
       "      <th>DebtRatio</th>\n",
       "      <th>MonthlyIncome</th>\n",
       "      <th>NumberOfOpenCreditLinesAndLoans</th>\n",
       "      <th>NumberOfTimes90DaysLate</th>\n",
       "      <th>NumberRealEstateLoansOrLines</th>\n",
       "      <th>NumberOfTime60_89DaysPastDueNotWorse</th>\n",
       "      <th>...</th>\n",
       "      <th>RevolvingUtilizationOfUnsecuredLines_woe</th>\n",
       "      <th>age_woe</th>\n",
       "      <th>NumberOfTime30_59DaysPastDueNotWorse_woe</th>\n",
       "      <th>DebtRatio_woe</th>\n",
       "      <th>MonthlyIncome_woe</th>\n",
       "      <th>NumberOfOpenCreditLinesAndLoans_woe</th>\n",
       "      <th>NumberOfTimes90DaysLate_woe</th>\n",
       "      <th>NumberRealEstateLoansOrLines_woe</th>\n",
       "      <th>NumberOfTime60_89DaysPastDueNotWorse_woe</th>\n",
       "      <th>NumberOfDependents_woe</th>\n",
       "    </tr>\n",
       "  </thead>\n",
       "  <tbody>\n",
       "    <tr>\n",
       "      <th>1</th>\n",
       "      <td>NaN</td>\n",
       "      <td>0.885519</td>\n",
       "      <td>43</td>\n",
       "      <td>0</td>\n",
       "      <td>0.177513</td>\n",
       "      <td>5700.0</td>\n",
       "      <td>4</td>\n",
       "      <td>0</td>\n",
       "      <td>0</td>\n",
       "      <td>0</td>\n",
       "      <td>...</td>\n",
       "      <td>-1.2175</td>\n",
       "      <td>-0.3249</td>\n",
       "      <td>0.5408</td>\n",
       "      <td>0.1117</td>\n",
       "      <td>0.0025</td>\n",
       "      <td>0.1557</td>\n",
       "      <td>0.389</td>\n",
       "      <td>-0.2413</td>\n",
       "      <td>0.2874</td>\n",
       "      <td>0.1489</td>\n",
       "    </tr>\n",
       "    <tr>\n",
       "      <th>2</th>\n",
       "      <td>NaN</td>\n",
       "      <td>0.463295</td>\n",
       "      <td>57</td>\n",
       "      <td>0</td>\n",
       "      <td>0.527237</td>\n",
       "      <td>9141.0</td>\n",
       "      <td>15</td>\n",
       "      <td>0</td>\n",
       "      <td>4</td>\n",
       "      <td>0</td>\n",
       "      <td>...</td>\n",
       "      <td>0.1515</td>\n",
       "      <td>0.3025</td>\n",
       "      <td>0.5408</td>\n",
       "      <td>-0.2128</td>\n",
       "      <td>0.3397</td>\n",
       "      <td>-0.0441</td>\n",
       "      <td>0.389</td>\n",
       "      <td>-0.5904</td>\n",
       "      <td>0.2874</td>\n",
       "      <td>-0.2068</td>\n",
       "    </tr>\n",
       "    <tr>\n",
       "      <th>3</th>\n",
       "      <td>NaN</td>\n",
       "      <td>0.043275</td>\n",
       "      <td>59</td>\n",
       "      <td>0</td>\n",
       "      <td>0.687648</td>\n",
       "      <td>5083.0</td>\n",
       "      <td>12</td>\n",
       "      <td>0</td>\n",
       "      <td>1</td>\n",
       "      <td>0</td>\n",
       "      <td>...</td>\n",
       "      <td>1.3365</td>\n",
       "      <td>0.3025</td>\n",
       "      <td>0.5408</td>\n",
       "      <td>-0.5947</td>\n",
       "      <td>-0.1884</td>\n",
       "      <td>0.1557</td>\n",
       "      <td>0.389</td>\n",
       "      <td>0.2152</td>\n",
       "      <td>0.2874</td>\n",
       "      <td>-0.2068</td>\n",
       "    </tr>\n",
       "    <tr>\n",
       "      <th>4</th>\n",
       "      <td>NaN</td>\n",
       "      <td>0.280308</td>\n",
       "      <td>38</td>\n",
       "      <td>1</td>\n",
       "      <td>0.925961</td>\n",
       "      <td>3200.0</td>\n",
       "      <td>7</td>\n",
       "      <td>0</td>\n",
       "      <td>2</td>\n",
       "      <td>0</td>\n",
       "      <td>...</td>\n",
       "      <td>0.7032</td>\n",
       "      <td>-0.3249</td>\n",
       "      <td>-0.9011</td>\n",
       "      <td>-0.5947</td>\n",
       "      <td>-0.4417</td>\n",
       "      <td>0.1557</td>\n",
       "      <td>0.389</td>\n",
       "      <td>0.2152</td>\n",
       "      <td>0.2874</td>\n",
       "      <td>0.1489</td>\n",
       "    </tr>\n",
       "    <tr>\n",
       "      <th>5</th>\n",
       "      <td>NaN</td>\n",
       "      <td>1.000000</td>\n",
       "      <td>27</td>\n",
       "      <td>0</td>\n",
       "      <td>0.019917</td>\n",
       "      <td>3865.0</td>\n",
       "      <td>4</td>\n",
       "      <td>0</td>\n",
       "      <td>0</td>\n",
       "      <td>0</td>\n",
       "      <td>...</td>\n",
       "      <td>-1.2175</td>\n",
       "      <td>-0.5507</td>\n",
       "      <td>0.5408</td>\n",
       "      <td>0.1117</td>\n",
       "      <td>-0.1884</td>\n",
       "      <td>0.1557</td>\n",
       "      <td>0.389</td>\n",
       "      <td>-0.2413</td>\n",
       "      <td>0.2874</td>\n",
       "      <td>-0.1001</td>\n",
       "    </tr>\n",
       "  </tbody>\n",
       "</table>\n",
       "<p>5 rows × 21 columns</p>\n",
       "</div>"
      ],
      "text/plain": [
       "   SeriousDlqin2yrs  RevolvingUtilizationOfUnsecuredLines  age  \\\n",
       "1               NaN                              0.885519   43   \n",
       "2               NaN                              0.463295   57   \n",
       "3               NaN                              0.043275   59   \n",
       "4               NaN                              0.280308   38   \n",
       "5               NaN                              1.000000   27   \n",
       "\n",
       "   NumberOfTime30_59DaysPastDueNotWorse  DebtRatio  MonthlyIncome  \\\n",
       "1                                     0   0.177513         5700.0   \n",
       "2                                     0   0.527237         9141.0   \n",
       "3                                     0   0.687648         5083.0   \n",
       "4                                     1   0.925961         3200.0   \n",
       "5                                     0   0.019917         3865.0   \n",
       "\n",
       "   NumberOfOpenCreditLinesAndLoans  NumberOfTimes90DaysLate  \\\n",
       "1                                4                        0   \n",
       "2                               15                        0   \n",
       "3                               12                        0   \n",
       "4                                7                        0   \n",
       "5                                4                        0   \n",
       "\n",
       "   NumberRealEstateLoansOrLines  NumberOfTime60_89DaysPastDueNotWorse  ...  \\\n",
       "1                             0                                     0  ...   \n",
       "2                             4                                     0  ...   \n",
       "3                             1                                     0  ...   \n",
       "4                             2                                     0  ...   \n",
       "5                             0                                     0  ...   \n",
       "\n",
       "   RevolvingUtilizationOfUnsecuredLines_woe  age_woe  \\\n",
       "1                                   -1.2175  -0.3249   \n",
       "2                                    0.1515   0.3025   \n",
       "3                                    1.3365   0.3025   \n",
       "4                                    0.7032  -0.3249   \n",
       "5                                   -1.2175  -0.5507   \n",
       "\n",
       "   NumberOfTime30_59DaysPastDueNotWorse_woe  DebtRatio_woe  MonthlyIncome_woe  \\\n",
       "1                                    0.5408         0.1117             0.0025   \n",
       "2                                    0.5408        -0.2128             0.3397   \n",
       "3                                    0.5408        -0.5947            -0.1884   \n",
       "4                                   -0.9011        -0.5947            -0.4417   \n",
       "5                                    0.5408         0.1117            -0.1884   \n",
       "\n",
       "   NumberOfOpenCreditLinesAndLoans_woe  NumberOfTimes90DaysLate_woe  \\\n",
       "1                               0.1557                        0.389   \n",
       "2                              -0.0441                        0.389   \n",
       "3                               0.1557                        0.389   \n",
       "4                               0.1557                        0.389   \n",
       "5                               0.1557                        0.389   \n",
       "\n",
       "   NumberRealEstateLoansOrLines_woe  NumberOfTime60_89DaysPastDueNotWorse_woe  \\\n",
       "1                           -0.2413                                    0.2874   \n",
       "2                           -0.5904                                    0.2874   \n",
       "3                            0.2152                                    0.2874   \n",
       "4                            0.2152                                    0.2874   \n",
       "5                           -0.2413                                    0.2874   \n",
       "\n",
       "   NumberOfDependents_woe  \n",
       "1                  0.1489  \n",
       "2                 -0.2068  \n",
       "3                 -0.2068  \n",
       "4                  0.1489  \n",
       "5                 -0.1001  \n",
       "\n",
       "[5 rows x 21 columns]"
      ]
     },
     "execution_count": 117,
     "metadata": {},
     "output_type": "execute_result"
    }
   ],
   "source": [
    "test_woe = smgennew(test0,x_list)\n",
    "test_woe.head()"
   ]
  },
  {
   "cell_type": "markdown",
   "metadata": {},
   "source": [
    "- 抽取WOE数据生成预测用数据\n",
    "- 要加常数项列"
   ]
  },
  {
   "cell_type": "code",
   "execution_count": 118,
   "metadata": {},
   "outputs": [
    {
     "name": "stderr",
     "output_type": "stream",
     "text": [
      "C:\\Programs\\Anaconda3\\lib\\site-packages\\numpy\\core\\fromnumeric.py:2389: FutureWarning: Method .ptp is deprecated and will be removed in a future version. Use numpy.ptp instead.\n",
      "  return ptp(axis=axis, out=out, **kwargs)\n"
     ]
    }
   ],
   "source": [
    "T = test_woe.iloc[:,-len(x_list):]\n",
    "T = sm.add_constant(T)"
   ]
  },
  {
   "cell_type": "markdown",
   "metadata": {},
   "source": [
    "- 预测每一行数据是好客户的概率"
   ]
  },
  {
   "cell_type": "code",
   "execution_count": 119,
   "metadata": {},
   "outputs": [],
   "source": [
    "y_pred = glmodel.predict(T)"
   ]
  },
  {
   "cell_type": "markdown",
   "metadata": {},
   "source": [
    "- 预测每行数据的分数,生成总分数和每个特征的分数"
   ]
  },
  {
   "cell_type": "code",
   "execution_count": 120,
   "metadata": {},
   "outputs": [],
   "source": [
    "Tscore = smscoregen(scorecard,T)"
   ]
  },
  {
   "cell_type": "markdown",
   "metadata": {},
   "source": [
    "- 根据分数和训练得到的阈值判断客户的好坏,好客户是1,坏客户是0"
   ]
  },
  {
   "cell_type": "code",
   "execution_count": 124,
   "metadata": {},
   "outputs": [
    {
     "data": {
      "text/html": [
       "<div>\n",
       "<style scoped>\n",
       "    .dataframe tbody tr th:only-of-type {\n",
       "        vertical-align: middle;\n",
       "    }\n",
       "\n",
       "    .dataframe tbody tr th {\n",
       "        vertical-align: top;\n",
       "    }\n",
       "\n",
       "    .dataframe thead th {\n",
       "        text-align: right;\n",
       "    }\n",
       "</style>\n",
       "<table border=\"1\" class=\"dataframe\">\n",
       "  <thead>\n",
       "    <tr style=\"text-align: right;\">\n",
       "      <th></th>\n",
       "      <th>SeriousDlqin2yrs</th>\n",
       "      <th>RevolvingUtilizationOfUnsecuredLines</th>\n",
       "      <th>age</th>\n",
       "      <th>NumberOfTime30_59DaysPastDueNotWorse</th>\n",
       "      <th>DebtRatio</th>\n",
       "      <th>MonthlyIncome</th>\n",
       "      <th>NumberOfOpenCreditLinesAndLoans</th>\n",
       "      <th>NumberOfTimes90DaysLate</th>\n",
       "      <th>NumberRealEstateLoansOrLines</th>\n",
       "      <th>NumberOfTime60_89DaysPastDueNotWorse</th>\n",
       "      <th>NumberOfDependents</th>\n",
       "    </tr>\n",
       "  </thead>\n",
       "  <tbody>\n",
       "    <tr>\n",
       "      <th>1</th>\n",
       "      <td>1.0</td>\n",
       "      <td>0.885519</td>\n",
       "      <td>43</td>\n",
       "      <td>0</td>\n",
       "      <td>0.177513</td>\n",
       "      <td>5700.0</td>\n",
       "      <td>4</td>\n",
       "      <td>0</td>\n",
       "      <td>0</td>\n",
       "      <td>0</td>\n",
       "      <td>0.0</td>\n",
       "    </tr>\n",
       "    <tr>\n",
       "      <th>2</th>\n",
       "      <td>1.0</td>\n",
       "      <td>0.463295</td>\n",
       "      <td>57</td>\n",
       "      <td>0</td>\n",
       "      <td>0.527237</td>\n",
       "      <td>9141.0</td>\n",
       "      <td>15</td>\n",
       "      <td>0</td>\n",
       "      <td>4</td>\n",
       "      <td>0</td>\n",
       "      <td>2.0</td>\n",
       "    </tr>\n",
       "    <tr>\n",
       "      <th>3</th>\n",
       "      <td>0.0</td>\n",
       "      <td>0.043275</td>\n",
       "      <td>59</td>\n",
       "      <td>0</td>\n",
       "      <td>0.687648</td>\n",
       "      <td>5083.0</td>\n",
       "      <td>12</td>\n",
       "      <td>0</td>\n",
       "      <td>1</td>\n",
       "      <td>0</td>\n",
       "      <td>2.0</td>\n",
       "    </tr>\n",
       "    <tr>\n",
       "      <th>4</th>\n",
       "      <td>0.0</td>\n",
       "      <td>0.280308</td>\n",
       "      <td>38</td>\n",
       "      <td>1</td>\n",
       "      <td>0.925961</td>\n",
       "      <td>3200.0</td>\n",
       "      <td>7</td>\n",
       "      <td>0</td>\n",
       "      <td>2</td>\n",
       "      <td>0</td>\n",
       "      <td>0.0</td>\n",
       "    </tr>\n",
       "    <tr>\n",
       "      <th>5</th>\n",
       "      <td>1.0</td>\n",
       "      <td>1.000000</td>\n",
       "      <td>27</td>\n",
       "      <td>0</td>\n",
       "      <td>0.019917</td>\n",
       "      <td>3865.0</td>\n",
       "      <td>4</td>\n",
       "      <td>0</td>\n",
       "      <td>0</td>\n",
       "      <td>0</td>\n",
       "      <td>1.0</td>\n",
       "    </tr>\n",
       "  </tbody>\n",
       "</table>\n",
       "</div>"
      ],
      "text/plain": [
       "   SeriousDlqin2yrs  RevolvingUtilizationOfUnsecuredLines  age  \\\n",
       "1               1.0                              0.885519   43   \n",
       "2               1.0                              0.463295   57   \n",
       "3               0.0                              0.043275   59   \n",
       "4               0.0                              0.280308   38   \n",
       "5               1.0                              1.000000   27   \n",
       "\n",
       "   NumberOfTime30_59DaysPastDueNotWorse  DebtRatio  MonthlyIncome  \\\n",
       "1                                     0   0.177513         5700.0   \n",
       "2                                     0   0.527237         9141.0   \n",
       "3                                     0   0.687648         5083.0   \n",
       "4                                     1   0.925961         3200.0   \n",
       "5                                     0   0.019917         3865.0   \n",
       "\n",
       "   NumberOfOpenCreditLinesAndLoans  NumberOfTimes90DaysLate  \\\n",
       "1                                4                        0   \n",
       "2                               15                        0   \n",
       "3                               12                        0   \n",
       "4                                7                        0   \n",
       "5                                4                        0   \n",
       "\n",
       "   NumberRealEstateLoansOrLines  NumberOfTime60_89DaysPastDueNotWorse  \\\n",
       "1                             0                                     0   \n",
       "2                             4                                     0   \n",
       "3                             1                                     0   \n",
       "4                             2                                     0   \n",
       "5                             0                                     0   \n",
       "\n",
       "   NumberOfDependents  \n",
       "1                 0.0  \n",
       "2                 2.0  \n",
       "3                 2.0  \n",
       "4                 0.0  \n",
       "5                 1.0  "
      ]
     },
     "execution_count": 124,
     "metadata": {},
     "output_type": "execute_result"
    }
   ],
   "source": [
    "test0[y] = (Tscore.Score > evaluate1.cutoff)*1\n",
    "test0.head()"
   ]
  },
  {
   "cell_type": "code",
   "execution_count": null,
   "metadata": {},
   "outputs": [],
   "source": []
  }
 ],
 "metadata": {
  "kernelspec": {
   "display_name": "Python 3",
   "language": "python",
   "name": "python3"
  },
  "language_info": {
   "codemirror_mode": {
    "name": "ipython",
    "version": 3
   },
   "file_extension": ".py",
   "mimetype": "text/x-python",
   "name": "python",
   "nbconvert_exporter": "python",
   "pygments_lexer": "ipython3",
   "version": "3.7.4"
  }
 },
 "nbformat": 4,
 "nbformat_minor": 4
}
